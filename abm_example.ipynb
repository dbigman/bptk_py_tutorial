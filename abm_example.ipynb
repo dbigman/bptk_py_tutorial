{
 "cells": [
  {
   "cell_type": "code",
   "execution_count": 2,
   "metadata": {},
   "outputs": [],
   "source": [
    "from BPTK_Py.bptk import bptk\n",
    "bptk = bptk()\n"
   ]
  },
  {
   "cell_type": "code",
   "execution_count": null,
   "metadata": {},
   "outputs": [],
   "source": [
    "bptk.scenario_manager_factory.scenario_managers['smSimpleProjectManagement'].scenarios"
   ]
  },
  {
   "cell_type": "code",
   "execution_count": null,
   "metadata": {},
   "outputs": [],
   "source": [
    "\n",
    "bptk.dashboard(\n",
    "    #scenario_managers=[\"ABMsmSimpleProjectManagement\",'smSimpleProjectManagement'],\n",
    "    scenario_managers=['smSimpleProjectManagement',\"ABMsmSimpleProjectManagement\"],\n",
    "    kind=\"area\",\n",
    "    scenarios=[\"scenarioSPM\",\"base\"],\n",
    "    equations=[\"openTasks\"],\n",
    "    constants=[(\"slider\",\"deadline\",0,1000),(\"timerange\")]\n",
    ")\n",
    "\n"
   ]
  },
  {
   "cell_type": "code",
   "execution_count": null,
   "metadata": {},
   "outputs": [],
   "source": []
  }
 ],
 "metadata": {
  "kernelspec": {
   "display_name": "Python 3",
   "language": "python",
   "name": "python3"
  },
  "language_info": {
   "codemirror_mode": {
    "name": "ipython",
    "version": 3
   },
   "file_extension": ".py",
   "mimetype": "text/x-python",
   "name": "python",
   "nbconvert_exporter": "python",
   "pygments_lexer": "ipython3",
   "version": "3.7.0"
  }
 },
 "nbformat": 4,
 "nbformat_minor": 2
}
