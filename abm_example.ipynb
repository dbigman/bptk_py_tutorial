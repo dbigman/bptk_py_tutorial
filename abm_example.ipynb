{
 "cells": [
  {
   "cell_type": "code",
   "execution_count": null,
   "metadata": {},
   "outputs": [],
   "source": [
    "from BPTK_Py.bptk import bptk\n",
    "bptk = bptk()\n"
   ]
  },
  {
   "cell_type": "code",
   "execution_count": null,
   "metadata": {},
   "outputs": [],
   "source": [
    "\n",
    "bptk.dashboard(\n",
    "    scenario_managers=['smSimpleProjectManagement',\n",
    "                       \"ABMsmSimpleProjectManagement\",\n",
    "                      ],\n",
    "    kind=\"area\",\n",
    "    scenarios=[\"scenarioSPM\",\"scenario100\"],\n",
    "    equations=[\"openTasks\",\"closedTasks\"],\n",
    "    agents=[\"task\"],\n",
    "    agent_states=[\"open\",\"closed\"],\n",
    "    constants=[(\"timerange\"),(\"slider\",\"deadline\",0,1000)]\n",
    ")\n",
    "\n"
   ]
  },
  {
   "cell_type": "code",
   "execution_count": null,
   "metadata": {},
   "outputs": [],
   "source": [
    "ax =bptk.plot_scenarios(\n",
    "    scenario_managers=['smSimpleProjectManagement',\n",
    "                       \"ABMsmSimpleProjectManagement\"],\n",
    "    kind=\"area\",\n",
    "    scenarios=[\"scenarioSPM\",\"base\"],\n",
    "    equations=[\"openTasks\",\"closedTasks\"],\n",
    "    agents=[\"task\"],\n",
    "    agent_states=[\"open\",\"closed\"],\n",
    "\n",
    ")\n"
   ]
  },
  {
   "cell_type": "code",
   "execution_count": 1,
   "metadata": {},
   "outputs": [
    {
     "data": {
      "application/vnd.jupyter.widget-view+json": {
       "model_id": "b8330829b2624a38842101099add058c",
       "version_major": 2,
       "version_minor": 0
      },
      "text/plain": [
       "VBox(children=(VBox(children=(HBox(children=(Button(button_style='info', description='1', layout=Layout(width=…"
      ]
     },
     "metadata": {},
     "output_type": "display_data"
    }
   ],
   "source": [
    "from BPTK_Py.bptk import bptk\n",
    "bptk = bptk()\n",
    "\n",
    "df =bptk.run_abm_with_widget(scenario_manager=\"ABMsmSimpleProjectManagement\",scenario=\"scenarioSPM\",agents=[\"task\"],\n",
    "    agent_states=[\"open\",\"closed\"])"
   ]
  },
  {
   "cell_type": "code",
   "execution_count": null,
   "metadata": {},
   "outputs": [],
   "source": []
  }
 ],
 "metadata": {
  "kernelspec": {
   "display_name": "Python 3",
   "language": "python",
   "name": "python3"
  },
  "language_info": {
   "codemirror_mode": {
    "name": "ipython",
    "version": 3
   },
   "file_extension": ".py",
   "mimetype": "text/x-python",
   "name": "python",
   "nbconvert_exporter": "python",
   "pygments_lexer": "ipython3",
   "version": "3.7.0"
  }
 },
 "nbformat": 4,
 "nbformat_minor": 2
}
