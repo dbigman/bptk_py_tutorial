{
 "cells": [
  {
   "cell_type": "markdown",
   "metadata": {},
   "source": [
    "# How To: Building Interactive Dashboards\n",
    "\n",
    "An important part of modelling is to modify values on-the-fly, interactively with the customer. The API function ``bptk.dashboard`` has this functionality. It comes with a field \"constants\" that contains a list of widget definitions. Each widget is defined using a tuple.\n",
    "The structure is:  ``(\"widget_type\",\"name.of.constant\",start_value,maximum_value)``. This allows you to see the results of the simulations instantly without having to re-run the simulation manually. See a working example in the following plot."
   ]
  },
  {
   "cell_type": "markdown",
   "metadata": {},
   "source": [
    "## Widgets That Are Currently Supported\n",
    "\n",
    "Currently, BPTK-Py supports the following widgets:\n",
    "\n",
    "* **sliders**: Sliders allow you to select a value in an interval. Use \"slider\" as ``widget_type``. A slider requires ``start_value and maximum_value``. You may use one more value to specify the step size of the slider as a floating point number (optional). If not specified, the slider will use a precision of two decimal places (0.1). Example: ``(\"slider\",'initialOpenTasks',100.0,1000.0,0.01)``.\n",
    "* **checkbox**: If you want a checkbox, use \"checkbox\" as ``widget_type``. You do not have to supply ``start_value / maximum_value``. Example: ``(\"checkbox\",\"initialStaff\")``\n",
    "* **timerange**: This will give you a slider in which you can select time intervals within the graph to \"zoom in/out\" of certain parts of the graph. It gives you the power to further look into certain simulation periods. It is enough to just add the keyword \"timerange\" as ``widget_type``."
   ]
  },
  {
   "cell_type": "markdown",
   "metadata": {},
   "source": [
    "## Using Widgets To Modify A Model\n",
    "\n",
    "It is important to mention that everytime you move a slider/checkbox, the underlying model equations are modified. This means, the results of the scenario will also deviate in other plots of the same scenario. You may reuse the modifications to the model in further plots. If this is not what you want,\n",
    "a quick workaround is to initiliaze another instance of BPTK_Py and run the ``dashboard`` function independently from the other instance(s)."
   ]
  },
  {
   "cell_type": "code",
   "execution_count": 1,
   "metadata": {},
   "outputs": [
    {
     "name": "stdout",
     "output_type": "stream",
     "text": [
      "/home/jovyan/work\n"
     ]
    }
   ],
   "source": [
    "cd ../../.."
   ]
  },
  {
   "cell_type": "code",
   "execution_count": 2,
   "metadata": {},
   "outputs": [
    {
     "data": {
      "application/vnd.jupyter.widget-view+json": {
       "model_id": "4947ba31ad7241c7ac6fdce9e4a9bb05",
       "version_major": 2,
       "version_minor": 0
      },
      "text/plain": [
       "interactive(children=(FloatSlider(value=500.0, continuous_update=False, description='deadline', layout=Layout(…"
      ]
     },
     "metadata": {},
     "output_type": "display_data"
    }
   ],
   "source": [
    "from BPTK_Py.bptk import bptk\n",
    "bptk = bptk()\n",
    "bptk.dashboard(scenario_managers=[\"smSimpleProjectManagement\"],\n",
    "                                scenarios=[\"scenario100\"],\n",
    "                                kind=\"area\",\n",
    "                                equations=[\"openTasks\",\"closedTasks\"],\n",
    "                                stacked=False,\n",
    "                                strategy=False,\n",
    "                                freq=\"D\",\n",
    "                                start_date=\"1/1/2017\",\n",
    "                                title=\"Interactive Plotting\",\n",
    "                                x_label=\"Date\",\n",
    "                                y_label=\"Open / Closed Tasks\",\n",
    "                                constants=[\n",
    "                                    (\"slider\",'deadline',0.0,1000.0),\n",
    "                                    (\"slider\",\"effortPerTask\",0.0001,1.0,0.0001),(\"timerange\")]\n",
    "                                )\n"
   ]
  },
  {
   "cell_type": "markdown",
   "metadata": {},
   "source": [
    "## Using PULSE Functions\n",
    " \n",
    "A PULSE function sets a variable to a specified value for exactly one step in the situation. This is useful for simulating regular actions like a TV campaign in every 4th week of the simulation.\n",
    "\n",
    "To create the widget, use the ``pulse_function_create(scenario_managers=[...],scenarios=[...]`` function! By now, you should be familiar with the notation :-)\n",
    "\n",
    "The image above shows how to use the feature. First, select the variable you would like to apply the PULSE function to. Then configure the initial value. This value is the standard value that is active throughout all periods apart from the pulse moments. In the example it is 100. Next, we configure the value for the pulse periods, here 200.\n",
    "The other settings are the frequency (10) and the first time the function triggers.\n",
    "\n",
    "If you deactivate the checkbox \"Keep existing strategy\", all previously created PULSE functions will be deleted and only the __one__ you create now, will be stored. \n",
    "\n",
    "The function in the example sets ``deadline`` to 1 for t=10, 20, 30 and so on.\n",
    "\n",
    "You may also define multiple PULSE functions for variables. After defining the functions, you can plot the scenario(s) using the ``plot_scenarios`` function. Note that for plotting, we use the ``strategy`` flag as we only modify the execution strategy. More on strategies in the following section.\n",
    "\n",
    "Try out yourself:\n",
    "\n",
    "__Note:__ To avoid interference of model changes with the main instance of BPTK_PY, we instantiate another one named ``bptk_pulse``. "
   ]
  },
  {
   "cell_type": "code",
   "execution_count": 2,
   "metadata": {
    "scrolled": true
   },
   "outputs": [
    {
     "data": {
      "application/vnd.jupyter.widget-view+json": {
       "model_id": "b26e687648984e7a97d2d06ce8d1c749",
       "version_major": 2,
       "version_minor": 0
      },
      "text/plain": [
       "VBox(children=(VBox(children=(HBox(children=(VBox(children=(Label(value='Variable'), Dropdown(options=('closed…"
      ]
     },
     "metadata": {},
     "output_type": "display_data"
    }
   ],
   "source": [
    "import BPTK_Py\n",
    "bptk_pulse = BPTK_Py.bptk()\n",
    "bptk_pulse.pulse_function_create(scenarios=[\"scenario100\",\"scenario80\"],\n",
    "                                 scenario_managers=[\"smSimpleProjectManagement\"])"
   ]
  },
  {
   "cell_type": "code",
   "execution_count": 3,
   "metadata": {},
   "outputs": [
    {
     "data": {
      "image/png": "[encoded data removed]",
      "text/plain": [
       "<Figure size 1440x720 with 1 Axes>"
      ]
     },
     "metadata": {
      "needs_background": "light"
     },
     "output_type": "display_data"
    }
   ],
   "source": [
    "bptk_pulse.plot_scenarios(scenarios=[\"scenario80\"],\n",
    "                    strategy=True,\n",
    "                    scenario_managers=[\"smSimpleProjectManagement\"],\n",
    "                    equations=[\"deadline\"]\n",
    "                    )\n"
   ]
  },
  {
   "cell_type": "code",
   "execution_count": null,
   "metadata": {},
   "outputs": [],
   "source": []
  }
 ],
 "metadata": {
  "kernelspec": {
   "display_name": "Python 3",
   "language": "python",
   "name": "python3"
  },
  "language_info": {
   "codemirror_mode": {
    "name": "ipython",
    "version": 3
   },
   "file_extension": ".py",
   "mimetype": "text/x-python",
   "name": "python",
   "nbconvert_exporter": "python",
   "pygments_lexer": "ipython3",
   "version": "3.7.3"
  }
 },
 "nbformat": 4,
 "nbformat_minor": 4
}
