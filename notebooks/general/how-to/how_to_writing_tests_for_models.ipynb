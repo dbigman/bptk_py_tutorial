{
 "cells": [
  {
   "cell_type": "markdown",
   "metadata": {},
   "source": [
    "# How To: Writing Tests For Models\n",
    "\n",
    "To verify the behavior of the simulator and of the simulation model, it is important to check certain assertions. ``bptk_py`` comes with a simple model checker to verify ``lambda`` functions.\n",
    "\n",
    "The function is supposed to only return True or False and receives a data parameter. For example ``lambda data : sum(data)/len(data) < 0`` tests if the average of the data is below 0. To obtain the raw output data as required for the model checking, we use the parameter ``return_df=True``. This returns a [dataFrame](https://pandas.pydata.org/pandas-docs/stable/index.html) object. The following example generates this dataframe and uses the model checker to test if the ``productivity`` series' mean is below 0. Otherwise it will return the specified message.\n"
   ]
  },
  {
   "cell_type": "code",
   "execution_count": 1,
   "metadata": {},
   "outputs": [
    {
     "name": "stdout",
     "output_type": "stream",
     "text": [
      "/home/jovyan/work\n"
     ]
    }
   ],
   "source": [
    "cd ../../.."
   ]
  },
  {
   "cell_type": "code",
   "execution_count": 2,
   "metadata": {},
   "outputs": [
    {
     "name": "stdout",
     "output_type": "stream",
     "text": [
      "[ERROR] Model Checking failed with message: \"Productivity is not <0\"\n"
     ]
    }
   ],
   "source": [
    "from BPTK_Py.bptk import bptk\n",
    "bptk = bptk()\n",
    "\n",
    "df=bptk.plot_scenarios(\n",
    "    scenario_managers=[\"smSimpleProjectManagement\"],\n",
    "    scenarios=[\"scenario120\"],\n",
    "    kind=\"line\",\n",
    "    equations=[\"productivity\"],\n",
    "    stacked=False, \n",
    "    strategy=True,\n",
    "    freq=\"D\", \n",
    "    start_date=\"1/11/2017\",\n",
    "    title=\"Added scenario during runtime\",\n",
    "    x_label=\"Time\",\n",
    "    y_label=\"Number\",\n",
    "    return_df=True, \n",
    "    series_names= {\"smSimpleProjectManagement_scenario120_productivity\" : \"productivity\"}\n",
    "    )\n",
    "\n",
    "check_function = lambda data : sum(data)/len(data) < 0\n",
    "\n",
    "bptk.model_check(df[\"productivity\"],check_function,message=\"Productivity is not <0\")"
   ]
  },
  {
   "cell_type": "code",
   "execution_count": null,
   "metadata": {},
   "outputs": [],
   "source": []
  }
 ],
 "metadata": {
  "kernelspec": {
   "display_name": "Python 3",
   "language": "python",
   "name": "python3"
  },
  "language_info": {
   "codemirror_mode": {
    "name": "ipython",
    "version": 3
   },
   "file_extension": ".py",
   "mimetype": "text/x-python",
   "name": "python",
   "nbconvert_exporter": "python",
   "pygments_lexer": "ipython3",
   "version": "3.7.3"
  }
 },
 "nbformat": 4,
 "nbformat_minor": 4
}
