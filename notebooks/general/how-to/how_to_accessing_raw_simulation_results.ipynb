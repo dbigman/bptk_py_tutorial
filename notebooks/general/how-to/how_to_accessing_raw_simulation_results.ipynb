{
 "cells": [
  {
   "cell_type": "markdown",
   "metadata": {},
   "source": [
    "# How To: Accessing Raw Simulation Results\n",
    "\n",
    "As we saw in the model checking section, you may obtain the raw simulation results rather than the plot. To activate this feature, use the ``return_df`` flag and set it to ``True``.\n",
    "The following cell obtains these and stores the values in a variable \"df\". This way you are able to work with the data outside ``BPTK_Py``!"
   ]
  },
  {
   "cell_type": "code",
   "execution_count": 1,
   "metadata": {},
   "outputs": [
    {
     "name": "stdout",
     "output_type": "stream",
     "text": [
      "/Users/dominikschroeck/Code/bptk_py_tutorial\n"
     ]
    }
   ],
   "source": [
    "cd ../../.."
   ]
  },
  {
   "cell_type": "code",
   "execution_count": 2,
   "metadata": {},
   "outputs": [],
   "source": [
    "from BPTK_Py.bptk import bptk\n",
    "bptk = bptk()"
   ]
  },
  {
   "cell_type": "code",
   "execution_count": 3,
   "metadata": {},
   "outputs": [],
   "source": [
    "df = bptk.plot_scenarios(\n",
    "    scenario_managers=[\"smSimpleProjectManagement\"],\n",
    "    scenarios=[\"scenario120\"], \n",
    "    equations=[\"openTasks\"],\n",
    "    title=\"Deadline changes\\n\",\n",
    "    x_label=\"Time\",start_date=\"1/1/2018\",freq=\"M\",\n",
    "    y_label=\"Marketing Budget (USD)\",\n",
    "    strategy=True, kind=\"line\",\n",
    "    return_df=True ## <--- HERE\n",
    "    ,series_names = {\"smSimpleProjectManagement_scenario120_openTasks\" : \"openTasks\"}\n",
    "    )"
   ]
  },
  {
   "cell_type": "markdown",
   "metadata": {},
   "source": [
    "You may want to learn a little about the data. The following code calls the ``head()`` and ``describe()`` functions of the dataFrame. Head return the first 5 elements and Describe gives some important information on the data.\n",
    "For instance, we learn that there are 121 elements in the dataFrame (\"count\"). This is correct as the model simulates from t=0 to t=120. Further values are the mean, standard deviation, min, max and the 25th / 50th and 75th percentile."
   ]
  },
  {
   "cell_type": "code",
   "execution_count": 4,
   "metadata": {},
   "outputs": [
    {
     "name": "stdout",
     "output_type": "stream",
     "text": [
      "***************************\n",
      "Properties of the dataFrame\n",
      "\t first 5 elements:\n",
      "             openTasks\n",
      "2018-01-31  120.000000\n",
      "2018-02-28  118.904800\n",
      "2018-03-31  117.809096\n",
      "2018-04-30  116.712881\n",
      "2018-05-31  115.616145\n",
      "\n",
      "Main description of the dataFrame\n",
      "        openTasks\n",
      "count  121.000000\n",
      "mean    59.249662\n",
      "std     34.647139\n",
      "min      0.000281\n",
      "25%     29.738106\n",
      "50%     59.185790\n",
      "75%     88.422592\n",
      "max    120.000000\n"
     ]
    }
   ],
   "source": [
    "print(\"***************************\")\n",
    "print(\"Properties of the dataFrame\")\n",
    "print(\"\\t first 5 elements:\")\n",
    "print(df.head())\n",
    "print(\"\")\n",
    "print(\"Main description of the dataFrame\")\n",
    "print(df.describe())"
   ]
  },
  {
   "cell_type": "markdown",
   "metadata": {},
   "source": [
    "\n",
    "To select only certain periods, you may use two different approaches. \n",
    "1. Go by t and use the list index representation\n",
    "2. Go by date (if you created a time series using ``start_date``)\n",
    "\n",
    "In both cases, you need to supply square brackets and the selected range:"
   ]
  },
  {
   "cell_type": "code",
   "execution_count": 5,
   "metadata": {},
   "outputs": [
    {
     "name": "stdout",
     "output_type": "stream",
     "text": [
      "BY INDEX\n",
      "             openTasks\n",
      "2018-01-31  120.000000\n",
      "2018-02-28  118.904800\n",
      "2018-03-31  117.809096\n",
      "2018-04-30  116.712881\n",
      "2018-05-31  115.616145\n",
      "2018-06-30  114.518882\n",
      "\n",
      "BY YEAR-MONTH:\n",
      "             openTasks\n",
      "2018-01-31  120.000000\n",
      "2018-02-28  118.904800\n",
      "2018-03-31  117.809096\n",
      "2018-04-30  116.712881\n",
      "2018-05-31  115.616145\n",
      "2018-06-30  114.518882\n",
      "\n",
      "CHECK FOR EQUALITY OF BOTH\n",
      "            openTasks\n",
      "2018-01-31       True\n",
      "2018-02-28       True\n",
      "2018-03-31       True\n",
      "2018-04-30       True\n",
      "2018-05-31       True\n",
      "2018-06-30       True\n"
     ]
    }
   ],
   "source": [
    "# Select 06 first months\n",
    "by_index = df[0:6] \n",
    "\n",
    "# Select all values of the months January to June 2018:\n",
    "by_year = df[\"2018-01\":\"2018-06\"]\n",
    "\n",
    "print(\"BY INDEX\")\n",
    "print(by_index)\n",
    "\n",
    "print(\"\")\n",
    "print(\"BY YEAR-MONTH:\")\n",
    "print(by_year)\n",
    "\n",
    "print(\"\")\n",
    "print(\"CHECK FOR EQUALITY OF BOTH\")\n",
    "print(by_index == by_year)"
   ]
  },
  {
   "cell_type": "markdown",
   "metadata": {},
   "source": [
    "Now you even saw how easy it was to check for value equality, just issue ``by_index == by_year``. The return type is a ``Series`` again and you may use it for further computations if assigned to a variable.\n",
    "Let us now simulate the equation \"closedTasks\" and generate a second dataFrame for and append it to the existing dataFrame:"
   ]
  },
  {
   "cell_type": "code",
   "execution_count": 6,
   "metadata": {},
   "outputs": [],
   "source": [
    "df_closed = bptk.plot_scenarios(\n",
    "    scenario_managers=[\"smSimpleProjectManagement\"],\n",
    "    scenarios=[\"scenario120\"], \n",
    "    equations=[\"closedTasks\"],\n",
    "    title=\"Deadline changes\\n\",\n",
    "    x_label=\"Time\",start_date=\"1/1/2018\",freq=\"M\",\n",
    "    y_label=\"Tasks\",\n",
    "    strategy=True, kind=\"line\",return_df=True,\n",
    "    series_names= {\"smSimpleProjectManagement_scenario120_closedTasks\":\"closedTasks\"}\n",
    "    )\n",
    "\n",
    "\n",
    "df[\"closedTasks\"] = df_closed[\"closedTasks\"]"
   ]
  },
  {
   "cell_type": "markdown",
   "metadata": {},
   "source": [
    "You see how easy it was to add the series \"closedTasks\" of ``df_closed`` to ``df``. Similarly, we may create new series using computation:"
   ]
  },
  {
   "cell_type": "code",
   "execution_count": 7,
   "metadata": {},
   "outputs": [
    {
     "name": "stdout",
     "output_type": "stream",
     "text": [
      "2018-01-31    120.0\n",
      "2018-02-28    120.0\n",
      "2018-03-31    120.0\n",
      "2018-04-30    120.0\n",
      "2018-05-31    120.0\n",
      "Freq: M, Name: initialOpenTasks, dtype: float64\n"
     ]
    }
   ],
   "source": [
    "df[\"initialOpenTasks\"] = df[\"openTasks\"] + df[\"closedTasks\"]\n",
    "print(df[\"initialOpenTasks\"].head())"
   ]
  },
  {
   "cell_type": "markdown",
   "metadata": {},
   "source": [
    "As you see, the DataFrame makes sure to make an addition for each value of the series.\n",
    "Every value should now be 120, just like the initial number of tasks of the scenario ``scenario120``.\n",
    "As a last example, let us now compute the percentage of tasks closed:"
   ]
  },
  {
   "cell_type": "code",
   "execution_count": 8,
   "metadata": {},
   "outputs": [
    {
     "data": {
      "image/png": "[encoded data removed]",
      "text/plain": [
       "<Figure size 1440x720 with 1 Axes>"
      ]
     },
     "metadata": {
      "needs_background": "light"
     },
     "output_type": "display_data"
    }
   ],
   "source": [
    "df[\"Percent Tasks Closed\"] = df[\"closedTasks\"] / df[\"initialOpenTasks\"] * 100\n",
    "\n",
    "### and plot it:\n",
    "plt=df[\"Percent Tasks Closed\"].plot(title=\"Tasks closed %\",figsize=(20,10))"
   ]
  },
  {
   "cell_type": "code",
   "execution_count": null,
   "metadata": {},
   "outputs": [],
   "source": []
  }
 ],
 "metadata": {
  "kernelspec": {
   "display_name": "Python 3",
   "language": "python",
   "name": "python3"
  },
  "language_info": {
   "codemirror_mode": {
    "name": "ipython",
    "version": 3
   },
   "file_extension": ".py",
   "mimetype": "text/x-python",
   "name": "python",
   "nbconvert_exporter": "python",
   "pygments_lexer": "ipython3",
   "version": "3.7.6"
  }
 },
 "nbformat": 4,
 "nbformat_minor": 4
}
