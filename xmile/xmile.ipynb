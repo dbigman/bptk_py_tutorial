{
 "cells": [
  {
   "cell_type": "raw",
   "metadata": {},
   "source": [
    "---\n",
    "title: \"Introduction to XMILE\"\n",
    "keywords: system dynamics, systemdynamics, xmile, bptk, bptk-py, python, business simulation\n",
    "description: \"Using XMILE System Dynamics models in the BPTK-Py business simulation framework.\"\n",
    "---"
   ]
  },
  {
   "attachments": {},
   "cell_type": "markdown",
   "metadata": {},
   "source": [
    "# System Dynamics using XMILE\n",
    "\n",
    "This section contains documents that are relevant to Agent-based modeling, System Dynamics with XMILE and System Dynamics with the SD DSL.\n",
    "\n",
    "## Contents\n",
    "\n",
    "- [Working With XMILE System Dynamics Models](./working_with_XMILE/working_with_XMILE.ipynb)\n",
    "- [Exporting Simulation Results](./exporting_simulation_results/exporting_simulation_results.ipynb)\n",
    "- [Working with Arrayed Variables in XMILE Models](./xmile_arrays/xmile_arrays.ipynb)\n",
    "- [Using the XMILE Compiler Standalone](./use_sd_compiler_standalone/use_sd_compiler_standalone.md)\n",
    "- [Writing Computational Essays](./writing_computational_essays/writing_computational_essays.ipynb)"
   ]
  },
  {
   "cell_type": "markdown",
   "metadata": {},
   "source": []
  }
 ],
 "metadata": {
  "kernelspec": {
   "display_name": "Python 3 (ipykernel)",
   "language": "python",
   "name": "python3"
  },
  "language_info": {
   "codemirror_mode": {
    "name": "ipython",
    "version": 3
   },
   "file_extension": ".py",
   "mimetype": "text/x-python",
   "name": "python",
   "nbconvert_exporter": "python",
   "pygments_lexer": "ipython3",
   "version": "3.11.1"
  },
  "widgets": {
   "application/vnd.jupyter.widget-state+json": {
    "state": {},
    "version_major": 2,
    "version_minor": 0
   }
  }
 },
 "nbformat": 4,
 "nbformat_minor": 4
}
