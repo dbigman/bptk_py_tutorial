{
 "cells": [
  {
   "cell_type": "markdown",
   "metadata": {},
   "source": [
    "# Customer Acquisition"
   ]
  },
  {
   "cell_type": "code",
   "execution_count": 1,
   "metadata": {},
   "outputs": [],
   "source": [
    "## BPTK Package\n",
    "from BPTK_Py.bptk import bptk \n",
    "\n",
    "bptk = bptk()"
   ]
  },
  {
   "cell_type": "code",
   "execution_count": 2,
   "metadata": {},
   "outputs": [],
   "source": [
    "%matplotlib inline\n",
    "import matplotlib.pyplot as plt\n",
    "import ipywidgets as widgets"
   ]
  },
  {
   "cell_type": "code",
   "execution_count": 12,
   "metadata": {},
   "outputs": [],
   "source": [
    "def tabs(scenario, title):\n",
    "    out1 = widgets.Output()\n",
    "    out2 = widgets.Output()\n",
    "\n",
    "    tab = widgets.Tab(children = [out1, out2])\n",
    "    tab.set_title(0, 'Profit')\n",
    "    tab.set_title(1, 'Customers')\n",
    "    display(tab)\n",
    "\n",
    "    with out1:\n",
    "        plt.ioff()\n",
    "        bptk.plot_scenarios(\n",
    "        scenario_managers=[\"smCustomerAcquisition\"],\n",
    "        scenarios=[scenario], \n",
    "        equations=['customers'],\n",
    "        title=title,\n",
    "        freq=\"M\",\n",
    "        x_label=\"Time\",\n",
    "        y_label=\"No. of Customers\"\n",
    "        )\n",
    "        plt.show()\n",
    "        plt.ion()\n",
    "\n",
    "    with out2:\n",
    "        plt.ioff()\n",
    "        bptk.plot_scenarios(\n",
    "        scenario_managers=[\"smCustomerAcquisition\"],\n",
    "        scenarios=[scenario], \n",
    "        equations=['profit'],\n",
    "        title=title,\n",
    "        freq=\"M\",\n",
    "        x_label=\"Time\",\n",
    "        y_label=\"Euro\"\n",
    "        )\n",
    "        plt.show()\n",
    "        plt.ion()\n",
    "    "
   ]
  },
  {
   "cell_type": "markdown",
   "metadata": {},
   "source": [
    "## Scenario \"Here We Go\""
   ]
  },
  {
   "cell_type": "code",
   "execution_count": 14,
   "metadata": {},
   "outputs": [
    {
     "data": {
      "application/vnd.jupyter.widget-view+json": {
       "model_id": "2ada1e23d886492e8940ab585868f4d4",
       "version_major": 2,
       "version_minor": 0
      },
      "text/plain": [
       "Tab(children=(Output(), Output()), _titles={'0': 'Profit', '1': 'Customers'})"
      ]
     },
     "metadata": {},
     "output_type": "display_data"
    }
   ],
   "source": [
    "tabs(\"hereWeGo\", \"Here We Go\")"
   ]
  },
  {
   "cell_type": "markdown",
   "metadata": {},
   "source": [
    "## Scenario \"Service Flop\""
   ]
  },
  {
   "cell_type": "code",
   "execution_count": 15,
   "metadata": {},
   "outputs": [
    {
     "data": {
      "application/vnd.jupyter.widget-view+json": {
       "model_id": "435c53f2b1fe46dc952ce45824a6c3b4",
       "version_major": 2,
       "version_minor": 0
      },
      "text/plain": [
       "Tab(children=(Output(), Output()), _titles={'0': 'Profit', '1': 'Customers'})"
      ]
     },
     "metadata": {},
     "output_type": "display_data"
    }
   ],
   "source": [
    "tabs(\"serviceFlop\", \"Service Flop\")"
   ]
  },
  {
   "cell_type": "markdown",
   "metadata": {},
   "source": [
    "## Scenario \"Refer Someone, Please!\""
   ]
  },
  {
   "cell_type": "code",
   "execution_count": 17,
   "metadata": {},
   "outputs": [
    {
     "data": {
      "application/vnd.jupyter.widget-view+json": {
       "model_id": "be01e611dd714f678c53cc47f58ea9b6",
       "version_major": 2,
       "version_minor": 0
      },
      "text/plain": [
       "Tab(children=(Output(), Output()), _titles={'0': 'Profit', '1': 'Customers'})"
      ]
     },
     "metadata": {},
     "output_type": "display_data"
    }
   ],
   "source": [
    "tabs(\"referSomeonePlease\", \"Refer Someone, Please!\")"
   ]
  },
  {
   "cell_type": "markdown",
   "metadata": {},
   "source": [
    "## Scenario \"Rethink Advertising\" "
   ]
  },
  {
   "cell_type": "code",
   "execution_count": 18,
   "metadata": {},
   "outputs": [
    {
     "data": {
      "application/vnd.jupyter.widget-view+json": {
       "model_id": "efed20583fe24e969e851da80c3fa4ff",
       "version_major": 2,
       "version_minor": 0
      },
      "text/plain": [
       "Tab(children=(Output(), Output()), _titles={'0': 'Profit', '1': 'Customers'})"
      ]
     },
     "metadata": {},
     "output_type": "display_data"
    }
   ],
   "source": [
    "tabs(\"rethinkAdvertising\", \"Rethink Advertising\")"
   ]
  },
  {
   "cell_type": "markdown",
   "metadata": {},
   "source": [
    "## Scenario \"Boom, But Bust\""
   ]
  },
  {
   "cell_type": "code",
   "execution_count": 19,
   "metadata": {},
   "outputs": [
    {
     "data": {
      "application/vnd.jupyter.widget-view+json": {
       "model_id": "df07d6701b6c47cf98fc3795a0b4135c",
       "version_major": 2,
       "version_minor": 0
      },
      "text/plain": [
       "Tab(children=(Output(), Output()), _titles={'0': 'Profit', '1': 'Customers'})"
      ]
     },
     "metadata": {},
     "output_type": "display_data"
    }
   ],
   "source": [
    "tabs(\"boomButBust\", \"Boom But Bust\")"
   ]
  }
 ],
 "metadata": {
  "kernelspec": {
   "display_name": "Python 3",
   "language": "python",
   "name": "python3"
  },
  "language_info": {
   "codemirror_mode": {
    "name": "ipython",
    "version": 3
   },
   "file_extension": ".py",
   "mimetype": "text/x-python",
   "name": "python",
   "nbconvert_exporter": "python",
   "pygments_lexer": "ipython3",
   "version": "3.7.3"
  }
 },
 "nbformat": 4,
 "nbformat_minor": 4
}
