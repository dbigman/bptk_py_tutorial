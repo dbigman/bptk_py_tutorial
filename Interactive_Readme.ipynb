{
 "cells": [
  {
   "cell_type": "markdown",
   "metadata": {},
   "source": [
    "# Business Prototyping Toolkit for Python (and Jupyter Notebooks)\n",
    "The Business Prototyping Toolkit for Python comes with a model simulator, a tool for defining scenarios (Jupyter Notebook - TODO!) and some methods to plot simulation results, a so-called API.\n",
    "\n",
    "The API for plotting simulation is really simple. It only exposes some methods that generate plots. The simulations run in the background every time you call a plot method. For long and large simulations, pleas bear with me and bring a few seconds of patience before I plot. ;-)\n",
    "All simulation scenarios have to be in the ``scenarios/`` folder. BPTK_Py will scan and load them - including the models - into python. Each API method comes with many parameters for modifying the graph. The standard settings however are in my config. They define the common \"transentis\" style.\n",
    "\n",
    "Usually you only need the ``scenario_name`` (methods for one scenario)/ ``scenario_names`` (methods for a list of scenarios) and ``equation``/``equations`` parameters to get a working example. Of course you will probably want to define a title and labels for the x and y axis. Just look at the example method calls given to get a feel for the optional parameters.\n",
    "\n",
    "## The Interactive Readme\n",
    "The interactive readme is designed to help you understand the API quickly. It is based on a simple Project Management model. We describe its equations and background in our [Blog Post](https://www.transentis.com/step-by-step-tutorials/introduction-to-system-dynamics/system-dynamics-simulation/). Have a look, understand the topic and come back.\n",
    "\n",
    "So let us get started now. Before plotting, we have to setup some stuff.\n",
    "Please run the following lines to import the API to your notebook and ignore the warnings (if any). You run a line by pushing ``Shift + Enter``\n",
    "You will also get an overview over the available scenario managers and scenarios.\n",
    "\n",
    "**Please** note the line ``config.configuration[\"sd_py_compiler_root\"] = \"~/Code/sd-compiler/\"``: Change the path according to your file structure. It has to contain the path to the git repo of \"sd_compiler\"!"
   ]
  },
  {
   "cell_type": "code",
   "execution_count": null,
   "metadata": {},
   "outputs": [],
   "source": [
    "import BPTK_Py.config.config as config\n",
    "# C:\\Users\\dominik\\Code\\sd-compiler\n",
    "config.configuration[\"sd_py_compiler_root\"] = \"~/Code/sd-compiler/\"  ## <--- Please change this path to the git repo of the sd_compiler package!\n",
    "\n",
    "## For Windows PC's, please use \\\\ for seperating folders and add additional \" \":\n",
    "#config.configuration[\"sd_py_compilter_root\"] = \"\\\"C:\\\\Users\\\\Henrique Beck\\\\Code\\\\sd-compiler\\\"\"\n",
    "\n",
    "## BPTK Package\n",
    "from BPTK_Py.bptk import bptk \n",
    "#from BPTK_Py.scenariomanager.scenario_manager import scenarioManager\n",
    "\n",
    "bptk = bptk()\n",
    "#scenarioManager = bptk.ScenarioManager\n",
    "print(\"Available Scenario Managers and Scenarios:\")\n",
    "print()\n",
    "managers = bptk.scenario_manager_factory.get_scenario_managers(scenario_managers_to_filter=[])\n",
    "\n",
    "for key, manager in managers.items():\n",
    "     print(\"\")\n",
    "     print(\"*** {} ***\".format(key))\n",
    "\n",
    "     for name in manager.get_scenario_names():\n",
    "         print(\"\\t {}\".format(name))\n",
    "\n"
   ]
  },
  {
   "cell_type": "markdown",
   "metadata": {},
   "source": [
    "## Example 1: Multiple Equations for one scenario\n",
    "Here we assume that we would like to simulate multiple equations for one scenario.\n",
    "The ``bptk.plotOutputsForScenario`` method helps us plotting this simulation. We simulate the equation 'openTasks' and 'closedTasks' for the scenario \"scenario80\". Play around with the parameters for the x/y labels and title.\n",
    "\n",
    "You may either use the ``scenario_managers`` parameter and supply a list of all scenario Managers (by name) you want to plot the simulation results for. Or you use the specific ``scenario_name``. You may of course as well use both if you have duplicate names (one name in multiple scenario managers)."
   ]
  },
  {
   "cell_type": "code",
   "execution_count": null,
   "metadata": {},
   "outputs": [],
   "source": [
    "\n",
    "bptk.plot_outputs_for_scenario(\n",
    "    scenario_managers=[\"makeyour\"],\n",
    "    scenario_name=\"nochange\",\n",
    "    equations=['capabilities.totalWorkforceExperience', 'cash.cash', 'cashFlow.cashFlowYtd'],\n",
    "    title=\"Multiple Equations for one Scenario\\n\",\n",
    "    x_label=\"Time\",\n",
    "    y_label=\"S0m3 Number\",return_df=True\n",
    ")\n"
   ]
  },
  {
   "cell_type": "markdown",
   "metadata": {},
   "source": [
    "### Play with start date and frequency\n",
    "In the above example, we did not specify the ``freq`` and ``start_date`` parameters. So the series starts at Jan, 1st 2018 and assumes daily values. But what if the project started another day? Let us set ``freq=\"M\"``and ``start_date=\"1/11/2017\"``.\n",
    "Of course, the graph is the same. But the y-axis changed. Now the plot assumes daily data, starting at Nov, 1, 2017!"
   ]
  },
  {
   "cell_type": "code",
   "execution_count": null,
   "metadata": {},
   "outputs": [],
   "source": [
    "\n",
    "bptk.plot_outputs_for_scenario(\n",
    "    scenario_managers=[\"smSimpleProjectManagement\"],\n",
    "    scenario_name=\"scenario80\",\n",
    "    equations=['openTasks',\"closedTasks\"],\n",
    "    title=\"Multiple Equations for one Scenario\\n\",\n",
    "    x_label=\"Time\",\n",
    "    y_label=\"S0m3 Number\",\n",
    "    start_date=\"1/11/2017\",\n",
    "    freq=\"D\"\n",
    ")"
   ]
  },
  {
   "cell_type": "markdown",
   "metadata": {},
   "source": [
    "### Naming the series\n",
    "The equation names are not the kind of names we want to show the customer. So let use the ``series_name`` parameter to rename them. Supply a list of names. The order follows the order of the equations in the ``equations`` parameter!\n",
    "Use Python's list notation: ``[ ]``. Without this parameter, BPTK will just use the equation and scenario names. If you have 3 equations and only specify one value in the list, will only modify the name of the first series. \n",
    "\n",
    "You may also use an empty string in the list to change the name of the second (or third..) series: ``[ \"\", \"nameToChangeTo\" ]`` "
   ]
  },
  {
   "cell_type": "code",
   "execution_count": null,
   "metadata": {},
   "outputs": [],
   "source": [
    "bptk.plot_outputs_for_scenario(\n",
    "    scenario_managers=[\"smSimpleProjectManagement\"],\n",
    "    scenario_name=\"scenario80\",\n",
    "    equations=['openTasks',\"closedTasks\"],\n",
    "    title=\"Multiple Equations for one Scenario\\n\",\n",
    "    x_label=\"Time\",\n",
    "    y_label=\"S0m3 Number\",\n",
    "    start_date=\"1/11/2017\",\n",
    "    freq=\"D\",\n",
    "    series_names=[\"OPeN Tasks\",\"CloZed Tasks\"]\n",
    ")"
   ]
  },
  {
   "cell_type": "markdown",
   "metadata": {},
   "source": [
    "## Example 2: Plot one equation for multiple scenarios\n",
    "Now let us change the perspective. In the above example we assumed one scenario for which we simulate multiple equations. Now we simulate **one equation for multiple scenarios**.\n",
    "The parameters stay the same and you can play around with them just as you could above. The method is: ``bptk.plotScenarioForOutput``."
   ]
  },
  {
   "cell_type": "code",
   "execution_count": null,
   "metadata": {},
   "outputs": [],
   "source": [
    "bptk.plot_scenario_for_output(\n",
    "    scenario_managers=[\"smSimpleProjectManagement\"],\n",
    "    scenario_names=[\"scenario80\",\"scenario100\"],\n",
    "    equation=\"openTasks\",\n",
    "    stacked=False, \n",
    "    freq=\"M\", \n",
    "    start_date=\"1/11/2017\",\n",
    "    title=\"One Equation for multiple Scenarios\",\n",
    "    x_label=\"Time\",\n",
    "    y_label=\"Dollars\",\n",
    "\n",
    ")"
   ]
  },
  {
   "cell_type": "markdown",
   "metadata": {},
   "source": [
    "## What if I want another kind of graph?\n",
    "Well, there is the ``kind`` parameter! Let us see what happens if we set ``kind=\"line\"``!\n",
    "\n",
    "The documentation \n"
   ]
  },
  {
   "cell_type": "code",
   "execution_count": null,
   "metadata": {},
   "outputs": [],
   "source": [
    "bptk.plot_scenario_for_output(\n",
    "    scenario_managers=[\"smSimpleProjectManagement\"],\n",
    "    scenario_names=[\"scenario80\",\"scenario100\"],\n",
    "    equation=\"openTasks\",\n",
    "    stacked=False, \n",
    "    freq=\"M\", \n",
    "    start_date=\"1/11/2017\",\n",
    "    title=\"One Equation for multiple Scenarios\",\n",
    "    x_label=\"Time\",\n",
    "    y_label=\"Dollars\",\n",
    "    kind=\"line\"\n",
    "\n",
    ")"
   ]
  },
  {
   "cell_type": "markdown",
   "metadata": {},
   "source": [
    "## Interactive Plotting\n",
    "An important part of modelling is to modify values on-the-fly, interactively with the customer. The API call ``bptk.plot_with_sliders`` has this functionality. You may define a parameter constants containing a list of tuples of the structure ``(\"name.of.constant\",start_value,maximum_value)``. This allows you to see the results of the simulations instantly without having to re-run the simulation manually. See a working example in the interactive readme.\n",
    "\n",
    "For interactive plotting to work, you need to install an extension to jupyter lab. If you followed the above guide for initial setup, this should do in the terminal:\n",
    "```\n",
    "souce bptk_test/bin/activate\n",
    "jupyter labextension install @jupyter-widgets/jupyterlab-manager\n",
    "```\n",
    "\n",
    "### Attention Mac OS X user\n",
    "For now there is a bug, that requires you to use node version 8 to successfully download the extension. If you are using homebrew, issue these commands:\n",
    "```\n",
    "brew uninstall node yarn\n",
    "brew install node@8 # --> might have to set path to link node to node8\n",
    "```"
   ]
  },
  {
   "cell_type": "code",
   "execution_count": null,
   "metadata": {},
   "outputs": [],
   "source": [
    "from ipywidgets import interact, interactive, fixed, interact_manual\n",
    "from BPTK_Py.bptk import bptk \n",
    "\n",
    "bptk = bptk()\n",
    "\n",
    "bptk.plot_with_sliders(scenario_managers=[\"smSimpleProjectManagement\"],\n",
    "                                scenario_names=[\"scenario80\"],\n",
    "                                kind=\"line\",\n",
    "                                equations=['openTasks'],\n",
    "                                stacked=False,\n",
    "                                strategy=True,\n",
    "                                freq=\"D\",\n",
    "                                start_date=\"1/11/2017\",\n",
    "                                title=\"Interactive Plotting\",\n",
    "                                x_label=\"Date\",\n",
    "                                y_label=\"€\",\n",
    "                                constants=[(\"effortPerTask\",0.1, 1.0),(\"deadline\",0,150)]\n",
    "                                )\n"
   ]
  },
  {
   "cell_type": "markdown",
   "metadata": {},
   "source": [
    "## Strategies\n",
    "\n",
    "The simulator is also able to simulate various strategies. A strategy defines which constants change at which point in time of the simulation. For defining a strategy, use the ``strategy`` key in your scenario definition and give (key,value) sets for the constants you'd like to change. Note that the ``constants`` field in the strategy will also be parsed at ``t=0`` for initial modifications of the strategies.\n",
    "```\n",
    "  \"strategy\": {\n",
    "    \"20\": {\n",
    "      \"deadline\" : 110\n",
    "    }\n",
    "  }\n",
    "```\n",
    "This strategy reduces the deadline for the project to 110 at the 20th day. The full scenario for this strategy is available in [scenarios/tutorial.json)](scenarios/make_your_startup_grow_with_strategy.json).\n",
    "To apply a strategy for a scenario, use the parameter ``strategy=True``. You saw this parameter already in the previous example. In interactive plotting, we also just modify strategies and run the configuration during runtime (more details below). However, if you defined a strategy in the JSON file, this overrides the sliders in interactive plotting! The following plot executes the model with the strategy and shows how the marketing budget follows the configuration the strategy.\n",
    "\n",
    "**Note:** If you set the ``strategy=True`` but there is not strategy defined in the scenario, the simulator will just issue a Warning in the logfile and execute the simulation(s) without a strategy. \n",
    "\n",
    "The following example shows what happens when using the strategy as compared to the scenario without strategy:"
   ]
  },
  {
   "cell_type": "code",
   "execution_count": null,
   "metadata": {},
   "outputs": [],
   "source": [
    "bptk.plot_scenario_for_output(\n",
    "    scenario_managers=[\"smSimpleProjectManagement\"],\n",
    "    scenario_names=[\"scenario120\"], \n",
    "    equation=\"deadline\",\n",
    "    title=\"Deadline changes\\n\",\n",
    "    x_label=\"Time\",\n",
    "    y_label=\"Marketing Budget (USD)\",\n",
    "    strategy=True, kind=\"line\"\n",
    ")\n"
   ]
  },
  {
   "cell_type": "markdown",
   "metadata": {},
   "source": [
    "## Advanced: Extended Strategies / Manipulation during runtime\n",
    "Now it gets really interesting and rather complex. The goal is to replace certain equations of the model with custom lambda functions during runtime. This is for advanced use only and currently considered unstable.\n",
    "\n",
    "First we need to obtain the scenarios and their corresponding simulation models and replace the given equations with the new lambda. \n",
    "An extended strategy is just another dictionary. In general, it looks like this:\n",
    "```\n",
    "scenarios = bptk.scenario_manager_factory.get_scenarios(scenario_managers=[\"smSimpleProjectManagement\"])\n",
    "\n",
    "\n",
    "extended_strategy= {\n",
    "    \"scenario80\" : {\n",
    "        \"10\" : { \n",
    "            \"initialOpenTasks\" : lambda t :0 if t <= 1 else 42 + scenarios[\"scenario80\"].model.memoize(\"initialOpenTasks\",t-1) ,\n",
    "        }\n",
    "    }    \n",
    "}\n",
    "```\n",
    "You see that this concept is rather complex and requires understanding of Python. First we have to load all available scenarios. The dictionary contains *pointers* to the specific scenario objects that we loaded from the scenario files. They are stored in the ``ScenarioManager`` object instance of the ``bptk`` object. The lambda functions now have to use these pointers to receive the pointers to the ``model`` object (and therefore the equations) of the simulation model. \n",
    "We will overwrite the specific equations with the given lambda function(s) in the previously-described strategy dictionary of the scenario. It is possible to store lambda functions just like this as strings in JSON **but** the complexity is even higher when it comes to adding it to the model during run-time. As the bptk object uses the same set of scenarios, it will use the same object pointers when we finally issue ``bptk.plotOutputsForScenario(... ,strategy=True)``\n",
    "\n",
    "We begin with defining the new, extended strategy. It plays a around with the initial open Tasks. It will return 0 if at starttime of the model. Otherwise, it returns the value of t-dt multiplied by 1,000. See also how we get the dt and start time of the model by accessing the scenarios.\n"
   ]
  },
  {
   "cell_type": "code",
   "execution_count": null,
   "metadata": {},
   "outputs": [],
   "source": [
    "scenarios = bptk.scenario_manager_factory.get_scenarios(scenario_managers=[\"smSimpleProjectManagement\"])\n",
    "\n",
    "dt = scenarios[\"scenario80\"].model.dt\n",
    "\n",
    "\n",
    "extended_strategy= {\n",
    "    \"scenario80\" : {\n",
    "        \"1\" : { \n",
    "            \"initialOpenTasks\" : lambda t :0 if t <= 1 else 42 + scenarios[\"scenario80\"].model.memoize(\"initialOpenTasks\",t-1) ,\n",
    "            \"deadline\" : lambda : 100\n",
    "        }\n",
    "    }    \n",
    "}\n",
    "\n",
    "bptk.modify_strategy_for_complex_strategy(scenarios=scenarios,extended_strategy=extended_strategy)\n",
    "\n"
   ]
  },
  {
   "cell_type": "markdown",
   "metadata": {},
   "source": [
    "And now we run the method ``bptk.modify_strategy_for_complex_strategy(scenarios,extended_strategy)``. It receives the pointers to the scenarios object and the modifications to the existing strategy. The method will just take the dictionary and fill up the strategy field of the scenario(s) with the lambda function objects.\n",
    "\n",
    "Please keep in mind that ``bptk`` stores the old lambda function. It runs the simulation until ``t-1``, inserts the new function and continues until the next change. If you want to re-run the scenario with another modified strategy, just flush the ``ScenarioManager``'s ``scenario`` object:\n",
    "```\n",
    "bptk.scenario_manager_factory.reset_scenario(scenario_name=\"scenario80\",scenario_manager=\"smSimpleProjectManagement\")\n",
    "```\n",
    "This will cause the scenario manager to reload the scenario's simulation model from the source file.\n",
    "Finally, you may use the plotting methods with the ``strategy=True`` parameter for simulating and plotting the modified scenarios. "
   ]
  },
  {
   "cell_type": "code",
   "execution_count": null,
   "metadata": {},
   "outputs": [],
   "source": [
    "## For each scenario in the extended strategy (top-level key) do:\n",
    "\n",
    "\n",
    "\n",
    "## Plot the graph with the extended stratefy\n",
    "bptk.plot_scenario_for_output(\n",
    "    scenario_names=[\"scenario80\"],\n",
    "    kind=\"line\",\n",
    "    equation=\"initialOpenTasks\",\n",
    "    stacked=False, \n",
    "    strategy=True,\n",
    "    freq=\"D\", \n",
    "    start_date=\"1/11/2017\",\n",
    "    title=\"Modified Lambda method as a \\n Line Graph\",\n",
    "    x_label=\"Time\",\n",
    "    y_label=\"Number\"\n",
    ")"
   ]
  },
  {
   "cell_type": "markdown",
   "metadata": {},
   "source": [
    "# Create Scenarios during Runtime\n",
    "It is possible to add scenarios during runtime. For convenience, here is some example code you may use as a template to generate your own scenarios during runtime. If you define multiple scenarios for the same ``scenario_manager``, this is no problem. \n",
    "\n",
    "First define the details for the scenario manager and then set up the name of the scenario, the strategy and the constants. The strategy may as well be one of the complex ones as described above. But be careful to define everything correctly."
   ]
  },
  {
   "cell_type": "code",
   "execution_count": null,
   "metadata": {},
   "outputs": [],
   "source": [
    "from BPTK_Py.scenariomanager.scenario import simulationScenario\n",
    "\n",
    "scenario_manager = {\n",
    "    \"name\" : \"ScenarioManager_temp\",\n",
    "    \"model\" : \"simulation_models/sd_simple_project\",\n",
    "    \"source\" : \"simulation_models/sd_simple_project.itmx\"\n",
    "}\n",
    "\n",
    "\n",
    "name = \"scenario_160\"\n",
    "strategy = {\n",
    "            \"20\": {\n",
    "                \"deadline\" : 2000\n",
    "            } \n",
    "}\n",
    "constants = {\n",
    "            \"deadline\" : 160,\n",
    "            \"effortPerTask\" : 0.1\n",
    "        }\n",
    "\n",
    "\n",
    "dictionary = {\"name\" : name, \"constants\" : constants, \"strategy\" : strategy}\n",
    "\n",
    "scenario = simulationScenario(filename=None,name=name,group=scenario_manager[\"name\"],dictionary=dictionary,model_name=scenario_manager[\"model\"])\n",
    "\n",
    "bptk.scenario_manager_factory.add_scenario_during_runtime(scenario,scenario_manager=scenario_manager[\"name\"],source=scenario_manager[\"source\"],model=scenario_manager[\"model\"])\n"
   ]
  },
  {
   "cell_type": "code",
   "execution_count": null,
   "metadata": {},
   "outputs": [],
   "source": [
    "bptk.plot_scenario_for_output(\n",
    "    scenario_managers=[],\n",
    "    scenario_names=[\"scenario_160\"],\n",
    "    kind=\"line\",\n",
    "    equation=\"productivity\",\n",
    "    stacked=False, \n",
    "    strategy=True,\n",
    "    freq=\"D\", \n",
    "    start_date=\"1/11/2017\",\n",
    "    title=\"Added scenario during runtime\",\n",
    "    x_label=\"Time\",\n",
    "    y_label=\"Number\",\n",
    ")"
   ]
  },
  {
   "cell_type": "markdown",
   "metadata": {},
   "source": []
  }
 ],
 "metadata": {
  "kernelspec": {
   "display_name": "Python 3",
   "language": "python",
   "name": "python3"
  },
  "language_info": {
   "codemirror_mode": {
    "name": "ipython",
    "version": 3
   },
   "file_extension": ".py",
   "mimetype": "text/x-python",
   "name": "python",
   "nbconvert_exporter": "python",
   "pygments_lexer": "ipython3",
   "version": "3.7.0"
  }
 },
 "nbformat": 4,
 "nbformat_minor": 2
}
