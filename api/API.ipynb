{
 "cells": [
  {
   "cell_type": "markdown",
   "metadata": {},
   "source": [
    "# BPTK APIs\n",
    "\n",
    "This is a technical documentation of BPTKs API.\n",
    "\n",
    "## Contents\n",
    "\n",
    "- Agent\n",
    "- bptk\n",
    "- BptkServer\n",
    "- Biflow\n",
    "- Constant\n",
    "- Converter"
   ]
  }
 ],
 "metadata": {
  "kernelspec": {
   "display_name": "Python 3.9.7 ('bptk')",
   "language": "python",
   "name": "python3"
  },
  "language_info": {
   "name": "python",
   "version": "3.9.7"
  },
  "orig_nbformat": 4,
  "vscode": {
   "interpreter": {
    "hash": "094f0201946c9f644460566ecd8cf4651564f333550d4a1d3e02e23cab5f01d1"
   }
  }
 },
 "nbformat": 4,
 "nbformat_minor": 2
}
