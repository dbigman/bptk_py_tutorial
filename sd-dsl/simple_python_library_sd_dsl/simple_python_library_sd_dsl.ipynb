{
 "cells": [
  {
   "cell_type": "raw",
   "metadata": {},
   "source": [
    "---\n",
    "title: A Simple Python Library For System Dynamics\n",
    "description: Introduction to the python library for system dynamics, that is part of the BPTK-Py business simulation framework.\n",
    "keywords: system dynamics, systemdynamics, sd dsl, xmile, bptk, bptk-py, python, business simulation\n",
    "eval: false\n",
    "execute: \n",
    "  enabled: false\n",
    "---"
   ]
  },
  {
   "cell_type": "markdown",
   "metadata": {},
   "source": [
    "# A Simple Python Library For System Dynamics"
   ]
  },
  {
   "cell_type": "markdown",
   "metadata": {},
   "source": [
    "## Build System Dynamics simulations interactively in Jupyter using Python "
   ]
  },
  {
   "cell_type": "markdown",
   "metadata": {},
   "source": [
    "We love building computational models and our favorite environment for this kind of explorative, analytical work are [Jupyter](http://www.jupyter.org) and [Python](http://www.python.org).\n",
    "\n",
    "To make computational modeling easier we are developing the _Business Prototyping Toolkit for Python_ (BPTK PY), a simple library that currently supports System Dynamics and Agent-based modeling.\n",
    "\n",
    "We first introduced the BPTK PY libary in our recent post [Writing Computational Essays Based On Simulation Models](https://www.transentis.com/writing-computational-essays-based-simulation-models/).\n",
    "\n",
    "Since then we've created some new functionality that allows you to build System Dynamics models and Agent-based models interactively in Jupyter using Python. To make model building as simple as possible, we have created a simple, domain-specific language (DSL) that supports both System Dynamics and Agent-based modeling and hides much of the underlying complexity of computational models.\n",
    "\n",
    "This language not only allows you to create System Dynamics models and Agent-based models, you can even mix the two to create \"hybrid\" simulation models.\n",
    "\n",
    "Having such a DSL is useful for several reasons:\n",
    "\n",
    "* Build models interactively in Jupyter, making the modeling process very effective.\n",
    "* Python novices can focus on the modeling, without needing to know much about Python\n",
    "* Python experts can mix their models with other analytical frameworks, e.g. machine-learning toolkits.\n",
    "\n",
    "Needless to say the new functionality seamlessly integrates with the rest of the BPTK PY framework, so you can use all the high-level scenario management and plotting functions which are part of the framework.\n",
    "\n",
    "In this post I focus on how to build a System Dynamics model using the framework, I will take a look at Agent-based modeling in a future post.\n",
    "\n",
    "### A simple model to demonstrate the library\n",
    "\n",
    "To illustrate the DSL, we will build the simple project management model we introduced in our [step-by-step tutorial on System Dynamics](https://www.transentis.com/step-by-step-tutorials/introduction-to-system-dynamics/).\n",
    "\n",
    "The project management model is really simple and just containts a few stocks, flows and converters, as you can see in the following diagram:\n",
    "\n",
    "![Diagram of the Simple Project Management Model](simple_project_diagram.png)\n",
    "\n",
    "So even if you don't know the model you should be able to follow this post very easily.\n",
    "\n",
    "To get started, we first need to import the library and in particular the SD function library into our notebook."
   ]
  },
  {
   "cell_type": "code",
   "execution_count": 1,
   "metadata": {},
   "outputs": [],
   "source": [
    "from BPTK_Py import Model\n",
    "from BPTK_Py import sd_functions as sd"
   ]
  },
  {
   "cell_type": "code",
   "execution_count": 2,
   "metadata": {},
   "outputs": [],
   "source": [
    "#| echo: false\n",
    "%matplotlib inline\n",
    "import matplotlib.pyplot as plt\n",
    "plt.rcParams['figure.facecolor'] = 'white'\n",
    "plt.rcParams['axes.facecolor'] = 'white'\n",
    "plt.rcParams['savefig.facecolor'] = 'white'"
   ]
  },
  {
   "cell_type": "markdown",
   "metadata": {},
   "source": [
    "The SD function library contains the functions and operators needed to define model equations (these are the built-ins you will know from your visual modeling environment, such as Stella or Vensim). Because the library contains functions such as `min` and `max`, which are also part of the Python standard library, we import the SD function library with the prefix `sd` to avoid naming conflicts.\n",
    "\n",
    "Next we create a model using the `Model` class. Our model will contain all our model elements such as stocks, flows, converters and constants."
   ]
  },
  {
   "cell_type": "code",
   "execution_count": 3,
   "metadata": {},
   "outputs": [],
   "source": [
    "model = Model(starttime=0.0,stoptime=120.0,dt=1.0,name='SimpleProjectManagament')"
   ]
  },
  {
   "cell_type": "markdown",
   "metadata": {},
   "source": [
    "Creating model elements is really easy:"
   ]
  },
  {
   "cell_type": "code",
   "execution_count": 4,
   "metadata": {},
   "outputs": [],
   "source": [
    "openTasks = model.stock(\"openTasks\")"
   ]
  },
  {
   "cell_type": "markdown",
   "metadata": {},
   "source": [
    "As you can see our convention is to use the camel casing naming convention for the model elements and to create Python variables for the elements that carry the same name.\n",
    "\n",
    "Once a model element has been defined in this manner, we only need to refer to the Python variable and don't need to reference the model element (i.e. we can use `openTasks` in our equations, as opposed to using `model.stock(\"openTasks\")`. This saves a lot of typing. "
   ]
  },
  {
   "cell_type": "markdown",
   "metadata": {},
   "source": [
    "Let's define the other model elements and variables now too, so that we can then concentrate on the equations:"
   ]
  },
  {
   "cell_type": "code",
   "execution_count": 5,
   "metadata": {},
   "outputs": [],
   "source": [
    "closedTasks = model.stock(\"closedTasks\")\n",
    "staff = model.stock(\"staff\")\n",
    "completionRate = model.flow(\"completionRate\")\n",
    "currentTime = model.converter(\"currentTime\")\n",
    "remainingTime = model.converter(\"remainingTime\")\n",
    "schedulePressure = model.converter(\"schedulePressure\")\n",
    "productivity = model.converter(\"productivity\")\n",
    "deadline = model.constant(\"deadline\")\n",
    "effortPerTask = model.constant(\"effortPerTask\")\n",
    "initialStaff = model.constant(\"initialStaff\")\n",
    "initialOpenTasks = model.constant(\"initialOpenTasks\")"
   ]
  },
  {
   "cell_type": "markdown",
   "metadata": {},
   "source": [
    "Note that in our models we differentiate between _constants_ and _converters_ – this isn't strictly necessary from a System Dynamics point of view, but it makes it easier to check the model for errors.\n",
    "\n",
    "Now let's initialize our stocks - to do this, we just need to set the `initial_value` property of the stocks. The initial value can either be a numerical constant or a constant element."
   ]
  },
  {
   "cell_type": "code",
   "execution_count": 6,
   "metadata": {},
   "outputs": [],
   "source": [
    "closedTasks.initial_value = 0.0\n",
    "staff.initial_value = initialStaff\n",
    "openTasks.initial_value = initialOpenTasks "
   ]
  },
  {
   "cell_type": "markdown",
   "metadata": {},
   "source": [
    "Defining the model equations is really easy: each model variable has an `equation` property, the equation itself is written much like you would in a visual modeling environment, using the other model variables as necessary."
   ]
  },
  {
   "cell_type": "markdown",
   "metadata": {},
   "source": [
    "Defining constants is particularly easy:"
   ]
  },
  {
   "cell_type": "code",
   "execution_count": 7,
   "metadata": {},
   "outputs": [],
   "source": [
    "deadline.equation = 100.0\n",
    "effortPerTask.equation = 1.0\n",
    "initialStaff.equation = 1.0\n",
    "initialOpenTasks.equation = 100.0"
   ]
  },
  {
   "cell_type": "markdown",
   "metadata": {},
   "source": [
    "The `currentTime` variable tracks the simulation time, which is captured by the `time` function in the SD function library."
   ]
  },
  {
   "cell_type": "code",
   "execution_count": 8,
   "metadata": {},
   "outputs": [],
   "source": [
    "currentTime.equation=sd.time()"
   ]
  },
  {
   "cell_type": "markdown",
   "metadata": {},
   "source": [
    "The `remainingTime` equals the difference between the `deadline` and the `currentTime`:"
   ]
  },
  {
   "cell_type": "code",
   "execution_count": 9,
   "metadata": {},
   "outputs": [],
   "source": [
    "remainingTime.equation = deadline - currentTime"
   ]
  },
  {
   "cell_type": "markdown",
   "metadata": {},
   "source": [
    "So you see, thanks to the DSL defining equations is very intuitive!"
   ]
  },
  {
   "cell_type": "markdown",
   "metadata": {},
   "source": [
    "The equations for the stocks are also really simple - they just contain the inflows (with a positive sign) and the outflows (with a negative sign). \n",
    "\n",
    "A quick look at the diagram above tells us that the `openTasks` only have an outflow (defined by the `completionRate`) and the `closedTasks` only have an inflow (also defined by the `completionRate`):"
   ]
  },
  {
   "cell_type": "code",
   "execution_count": 10,
   "metadata": {},
   "outputs": [],
   "source": [
    "openTasks.equation = -completionRate"
   ]
  },
  {
   "cell_type": "code",
   "execution_count": 11,
   "metadata": {},
   "outputs": [],
   "source": [
    "closedTasks.equation = completionRate"
   ]
  },
  {
   "cell_type": "markdown",
   "metadata": {},
   "source": [
    "The `schedulePressure` is a dimensionless ratio that compares the required effort to complete all remaining open tasks to the remaining work capacity.\n",
    "\n",
    "We use the  `min` and `max` functions from the SD function library to ensure that no division by zero occurs and that the schedule pressure is capped at 2.5:"
   ]
  },
  {
   "cell_type": "code",
   "execution_count": 12,
   "metadata": {},
   "outputs": [],
   "source": [
    "schedulePressure.equation = sd.min((openTasks*effortPerTask)/(staff*sd.max(remainingTime,1)),2.5)"
   ]
  },
  {
   "cell_type": "markdown",
   "metadata": {},
   "source": [
    "We define the productivity in our model using a non-linear relationship (depending on the schedule pressure). We capture this relationship in a lookup table that we store in the `points` property of the model (using a Python list):"
   ]
  },
  {
   "cell_type": "code",
   "execution_count": 13,
   "metadata": {},
   "outputs": [],
   "source": [
    "model.points[\"productivity\"] = [\n",
    "    [0,0.4],\n",
    "    [0.25,0.444],\n",
    "    [0.5,0.506],\n",
    "    [0.75,0.594],\n",
    "    [1,1],\n",
    "    [1.25,1.119],\n",
    "    [1.5,1.1625],\n",
    "    [1.75,1.2125],\n",
    "    [2,1.2375],\n",
    "    [2.25,1.245],\n",
    "    [2.5,1.25]\n",
    "]"
   ]
  },
  {
   "cell_type": "markdown",
   "metadata": {},
   "source": [
    "We can easily plot the lookup table to see whether it has the right shape:"
   ]
  },
  {
   "cell_type": "code",
   "execution_count": 14,
   "metadata": {},
   "outputs": [],
   "source": [
    "model.plot_lookup(\"productivity\")"
   ]
  },
  {
   "cell_type": "markdown",
   "metadata": {},
   "source": [
    "The productivity equation is then defined via a lookup function – in our case `productivity` depends non-linearly on `schedulePressure` as defined in the lookup table:"
   ]
  },
  {
   "cell_type": "code",
   "execution_count": 15,
   "metadata": {},
   "outputs": [],
   "source": [
    "productivity.equation = sd.lookup(schedulePressure,\"productivity\")"
   ]
  },
  {
   "cell_type": "markdown",
   "metadata": {},
   "source": [
    "The last equation we need to define is that of the `completionRate` - the completion rate is defined by the number of staff working on the project divided by the effort per task. We then multiply this with the (average) productivity of the staff. The completion rate may never be larger than the number of  `openTasks`, so we constrain it using the `min` function."
   ]
  },
  {
   "cell_type": "code",
   "execution_count": 16,
   "metadata": {},
   "outputs": [],
   "source": [
    "completionRate.equation = sd.max(0.0, sd.min(openTasks, staff*(productivity/effortPerTask)))"
   ]
  },
  {
   "cell_type": "markdown",
   "metadata": {},
   "source": [
    "Now that we have defined all necessary equations, we are ready to run the model. The easist way is to evaluate a model variable at a particular timestep - this approach is particularly useful if you are building the model interactively (e.g. in a Jupyter notebook) and you want to test intermediate results."
   ]
  },
  {
   "cell_type": "code",
   "execution_count": 17,
   "metadata": {},
   "outputs": [],
   "source": [
    "closedTasks(80), closedTasks(100), closedTasks(120)"
   ]
  },
  {
   "cell_type": "markdown",
   "metadata": {},
   "source": [
    "Let's play with different settings for the deadline:"
   ]
  },
  {
   "cell_type": "code",
   "execution_count": 18,
   "metadata": {},
   "outputs": [],
   "source": [
    "deadline.equation = 120.0"
   ]
  },
  {
   "cell_type": "code",
   "execution_count": 19,
   "metadata": {},
   "outputs": [],
   "source": [
    "closedTasks(80), closedTasks(100), closedTasks(120)"
   ]
  },
  {
   "cell_type": "code",
   "execution_count": 20,
   "metadata": {},
   "outputs": [],
   "source": [
    "deadline.equation=80.0"
   ]
  },
  {
   "cell_type": "code",
   "execution_count": 21,
   "metadata": {},
   "outputs": [],
   "source": [
    "closedTasks(80), closedTasks(100), closedTasks(120)"
   ]
  },
  {
   "cell_type": "markdown",
   "metadata": {},
   "source": [
    "Of course we can also plot the variables in a graph straight away using the element's  ``plot()`` method."
   ]
  },
  {
   "cell_type": "code",
   "execution_count": 22,
   "metadata": {},
   "outputs": [],
   "source": [
    "closedTasks.plot()"
   ]
  },
  {
   "cell_type": "markdown",
   "metadata": {
    "inputHidden": false,
    "outputHidden": false
   },
   "source": [
    "Now that we have a model, we can use the powerful scenario management built into the BPTK PY framework.\n",
    "\n",
    "To do that, we first need to instantiate the framework:\n"
   ]
  },
  {
   "cell_type": "code",
   "execution_count": 23,
   "metadata": {
    "inputHidden": false,
    "outputHidden": false
   },
   "outputs": [],
   "source": [
    "import BPTK_Py\n",
    "bptk = BPTK_Py.bptk()"
   ]
  },
  {
   "cell_type": "markdown",
   "metadata": {},
   "source": [
    "Then we set up a scenario manager using a Python dictionary. The scenario manager identifies the baseline constants of the model:"
   ]
  },
  {
   "cell_type": "code",
   "execution_count": 24,
   "metadata": {
    "inputHidden": false,
    "outputHidden": false
   },
   "outputs": [],
   "source": [
    "scenario_manager = {\n",
    "    \"smSimpleProjectManagementDSL\":{\n",
    "    \n",
    "    \"model\": model,\n",
    "    \"base_constants\": {\n",
    "        \"deadline\": 100.0,\n",
    "        \"initialStaff\": 1.0,\n",
    "        \"effortPerTask\": 1.0,\n",
    "        \"initialOpenTasks\": 100.0,\n",
    "\n",
    "    },\n",
    "    \"base_points\":{\n",
    "            \"productivity\": [\n",
    "                [0.0,0.4],\n",
    "                [0.25,0.444],\n",
    "                [0.5,0.506],\n",
    "                [0.75,0.594],\n",
    "                [1,1],\n",
    "                [1.25,1.119],\n",
    "                [1.5,1.1625],\n",
    "                [1.75,1.2125],\n",
    "                [2,1.2375],\n",
    "                [2.25,1.245],\n",
    "                [2.5,1.25]\n",
    "            ]\n",
    "    }\n",
    " }\n",
    "}"
   ]
  },
  {
   "cell_type": "markdown",
   "metadata": {},
   "source": [
    "The scenario manager has to be registered as follows:"
   ]
  },
  {
   "cell_type": "code",
   "execution_count": 25,
   "metadata": {},
   "outputs": [],
   "source": [
    "bptk.register_scenario_manager(scenario_manager)"
   ]
  },
  {
   "cell_type": "markdown",
   "metadata": {},
   "source": [
    "Once we have this, we can define and register (one or more) scenarios as follows:"
   ]
  },
  {
   "cell_type": "code",
   "execution_count": 26,
   "metadata": {},
   "outputs": [],
   "source": [
    "bptk.register_scenarios(\n",
    "    scenarios =\n",
    "        {\n",
    "            \"scenario80\": {\n",
    "                \"constants\": {\n",
    "                    \"initialOpenTasks\": 80.0\n",
    "                }\n",
    "            }\n",
    "        }\n",
    "    ,\n",
    "    scenario_manager=\"smSimpleProjectManagementDSL\")"
   ]
  },
  {
   "cell_type": "markdown",
   "metadata": {},
   "source": [
    "We can then plot the scenario as follows:"
   ]
  },
  {
   "cell_type": "code",
   "execution_count": 27,
   "metadata": {},
   "outputs": [],
   "source": [
    "bptk.plot_scenarios(\n",
    "    scenarios=\"scenario80\",\n",
    "    scenario_managers=\"smSimpleProjectManagementDSL\",\n",
    "    equations=\"openTasks\")"
   ]
  },
  {
   "cell_type": "markdown",
   "metadata": {},
   "source": [
    "Let's register a few more scenarios:"
   ]
  },
  {
   "cell_type": "code",
   "execution_count": 28,
   "metadata": {},
   "outputs": [],
   "source": [
    "bptk.register_scenarios(\n",
    "    scenarios =\n",
    "    {\n",
    "         \"scenario100\": {\n",
    "        \n",
    "        },\n",
    "        \"scenario120\": {\n",
    "            \"constants\": {\n",
    "                \"initialOpenTasks\" : 120.0\n",
    "            }\n",
    "        }\n",
    "    },\n",
    "    scenario_manager=\"smSimpleProjectManagementDSL\")"
   ]
  },
  {
   "cell_type": "markdown",
   "metadata": {},
   "source": [
    "`scenario100` is equivalent to the base settings, hence we don't need to define any settings for it."
   ]
  },
  {
   "cell_type": "markdown",
   "metadata": {},
   "source": [
    "Now we can easily compare the scenarios:"
   ]
  },
  {
   "cell_type": "code",
   "execution_count": 29,
   "metadata": {},
   "outputs": [],
   "source": [
    "bptk.plot_scenarios(\n",
    "    scenarios=\"scenario80,scenario100,scenario120\",\n",
    "    scenario_managers=\"smSimpleProjectManagementDSL\",\n",
    "    equations=\"openTasks\",\n",
    "    series_names={\n",
    "        \"smSimpleProjectManagementDSL_scenario80_openTasks\":\"scenario80\",\n",
    "        \"smSimpleProjectManagementDSL_scenario100_openTasks\":\"scenario100\",\n",
    "        \"smSimpleProjectManagementDSL_scenario120_openTasks\":\"scenario120\"\n",
    "    }\n",
    ")"
   ]
  },
  {
   "cell_type": "markdown",
   "metadata": {},
   "source": [
    "## Storing Models Created Using The SD DSL In A Python Class\n",
    "\n",
    "It is possible to take the code from above and store it in a Python code file. The JSON structure is exactly as you are used to from the generated models. [simulation_models/simple_project_dsl_class.py](simulation_models/simple_project_manual.py) is such a code file that implements the code.\n",
    "Let us walk through it. For readability, we omit a lot of code and only show the basic structure:\n",
    "```python\n",
    "\n",
    "class simulation_model(Model):\n",
    "\n",
    "    def __init__(self):\n",
    "\n",
    "        # Never forget calling the super method to initialize the main parameters\n",
    "        super().__init__(starttime=0,stoptime=120,dt=1,name ='SimpleProjectManagament_scenario80' )\n",
    "\n",
    "        # Stocks\n",
    "        openTasks = self.stock(\"openTasks\")\n",
    "        closedTasks = self.stock(\"closedTasks\")\n",
    "        staff = self.stock(\"staff\")\n",
    "\n",
    "        # Flows\n",
    "        completionRate = self.flow(\"completionRate\")\n",
    "\n",
    "        # Converters\n",
    "        currentTime = self.converter(\"currentTime\")\n",
    "        remainingTime = self.converter(\"remainingTime\")\n",
    "    \n",
    "       ...\n",
    "        # Constants\n",
    "        deadline = self.constant(\"deadline\")\n",
    "        effortPerTask = self.constant(\"effortPerTask\")\n",
    "        \n",
    "        ...\n",
    "\n",
    "        # Actual Logic\n",
    "\n",
    "        openTasks.initial_value = 100.0\n",
    "        closedTasks.initial_value = 0.0  # not really necessary, but I like to be explicit\n",
    "\n",
    "        ...\n",
    "\n",
    "        completionRate.equation = sd.max(0.0, sd.min(openTasks, staff * (productivity / effortPerTask)))\n",
    "```\n",
    "\n",
    "First, the class's name has to be ``simulation_model`` and inherit from BPTK_Py.Model, as we have done before. The call to the ``super()._init__`` function configures the model's main parameters. And then only the code for your equations follows. Now you are done, the model is defined.\n",
    "\n",
    "In the next step, we need to write the JSON (the full file is available here: [scenarios/dsl_class.json](scenarios/manual.json):\n",
    "```json\n",
    "{\n",
    "  \"smSimpleProjectManagementDslClass\": {\n",
    "    \"model\": \"simulation_models/simple_project_dsl_class\",\n",
    "    \"base_constants\": {\n",
    "      \"deadline\": 100.0,\n",
    "      \"initialOpenTasks\": 100.0\n",
    "    },\n",
    "    \"base_points\": {\n",
    "      \"productivity\":  [ [0,0.4],[0.25,0.444],[0.5,0.506],[0.75,0.594],[1,1],[1.25,1.119],[1.5,1.1625],[1.75,1.2125],[2,1.2375],[2.25,1.245],[2.5,1.25] ]\n",
    "    },\n",
    "    \"scenarios\": {\n",
    "      \"scenario100\": {\n",
    "        \"constants\": {\n",
    "          \"initialOpenTasks\": 100.0\n",
    "        }\n",
    "      }\n",
    "    }\n",
    "  }\n",
    "}\n",
    "```\n",
    "Note that this is exactly the structure we used for linking to the generated SD models. As long as the model has an ``equations`` and ``memo`` field and its name is ``simulation_model``, BPTK-Py is agnostic of the code inside. \n",
    "\n",
    "We can easily plot the scenario and see that it the same model as we defined interactively:\n",
    "\n"
   ]
  },
  {
   "cell_type": "code",
   "execution_count": 30,
   "metadata": {},
   "outputs": [],
   "source": [
    "import BPTK_Py\n",
    "bptk = BPTK_Py.bptk()"
   ]
  },
  {
   "cell_type": "code",
   "execution_count": 31,
   "metadata": {},
   "outputs": [],
   "source": [
    "bptk.plot_scenarios(\n",
    "    scenarios=\"scenario80,scenario100,scenario120\",\n",
    "    scenario_managers=\"smSimpleProjectManagementDslClass\",\n",
    "    equations=\"openTasks\",\n",
    "    series_names={\n",
    "        \"smSimpleProjectManagementDSL_scenario80_openTasks\":\"scenario80\",\n",
    "        \"smSimpleProjectManagementDSL_scenario100_openTasks\":\"scenario100\",\n",
    "        \"smSimpleProjectManagementDSL_scenario120_openTasks\":\"scenario120\"\n",
    "    }\n",
    ")"
   ]
  },
  {
   "cell_type": "markdown",
   "metadata": {},
   "source": [
    "### Conclusion"
   ]
  },
  {
   "cell_type": "markdown",
   "metadata": {},
   "source": [
    "This completes our quick tour of the SD DSL within the Business Prototyping Toolkit. "
   ]
  },
  {
   "cell_type": "markdown",
   "metadata": {},
   "source": [
    "This post introduced a simple domain-specific language for System Dynamics, implemented in Python. It let's you create System Dynamics in Python and supports interactive modeling in Jupyter.\n",
    "\n",
    "Creating System Dynamics models directly in Python is particulary useful if you have the need to extend your SD models with your own SD functions or you would like to combine your models with other computational models such as Agent-based models or mathematical models."
   ]
  },
  {
   "cell_type": "code",
   "execution_count": 32,
   "metadata": {},
   "outputs": [],
   "source": []
  }
 ],
 "metadata": {
  "kernel_info": {
   "name": "python3"
  },
  "kernelspec": {
   "display_name": "Python 3.9.7 ('bptk')",
   "language": "python",
   "name": "python3"
  },
  "language_info": {
   "codemirror_mode": {
    "name": "ipython",
    "version": 3
   },
   "file_extension": ".py",
   "mimetype": "text/x-python",
   "name": "python",
   "nbconvert_exporter": "python",
   "pygments_lexer": "ipython3",
   "version": "3.10.4"
  },
  "nteract": {
   "version": "0.11.7"
  },
  "vscode": {
   "interpreter": {
    "hash": "094f0201946c9f644460566ecd8cf4651564f333550d4a1d3e02e23cab5f01d1"
   }
  }
 },
 "nbformat": 4,
 "nbformat_minor": 4
}
