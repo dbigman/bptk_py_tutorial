{
 "cells": [
  {
   "cell_type": "raw",
   "metadata": {
    "vscode": {
     "languageId": "raw"
    }
   },
   "source": [
    "---\n",
    "title: Creating multidimensional SD Models\n",
    "description: Description and overview how vector-valued and matrix-valued SD Models can bet setup and worked with\n",
    "keywords: system dynamics, systemdynamics, sd dsl, bptk, bptk-py, python, business simulation\n",
    "eval: false\n",
    "---"
   ]
  },
  {
   "cell_type": "markdown",
   "metadata": {},
   "source": [
    "# Multidimensional SD Models"
   ]
  },
  {
   "cell_type": "markdown",
   "metadata": {},
   "source": [
    "This document illustrates how vector- or matrix-valued SD Models can be defined.\n",
    "\n",
    "We start with some boilerplate to get a BPTK project up and running:"
   ]
  },
  {
   "cell_type": "code",
   "execution_count": null,
   "metadata": {},
   "outputs": [],
   "source": [
    "from BPTK_Py import Model\n",
    "from BPTK_Py.bptk import bptk\n",
    "\n",
    "testbptk = bptk()\n",
    "model = Model(starttime = 0.0, stoptime= 15.0, dt= 1.0, name=\"TestModel\")"
   ]
  },
  {
   "cell_type": "markdown",
   "metadata": {},
   "source": [
    "This is already enough to define arrayed components. "
   ]
  },
  {
   "cell_type": "markdown",
   "metadata": {},
   "source": [
    "## How to define arrayed components"
   ]
  },
  {
   "cell_type": "markdown",
   "metadata": {},
   "source": [
    "There are two options for arrayed components:\n",
    "- Vectors (one dimensional arrays)\n",
    "- Matrices (two dimensional arrays)\n",
    "\n",
    "Moreover, both types of arrays - Vectors and Matrices - can be setup:\n",
    "- using numerical indices\n",
    "- using string-valued indices (named arrays)\n",
    "\n",
    "Lets have a look at some examples:"
   ]
  },
  {
   "cell_type": "code",
   "execution_count": 2,
   "metadata": {},
   "outputs": [],
   "source": [
    "## Defining a Vector (with numerical indices)\n",
    "# Define an sd dsl element\n",
    "vector1 = model.converter(\"vector1\")\n",
    "\n",
    "# Create a vector of length 2 with different values\n",
    "vector1.setup_vector(2, [2.0, 3.0])\n",
    "\n",
    "# Create a vector of length 2 with identical values\n",
    "vector1.setup_vector(2, 3.0)"
   ]
  },
  {
   "cell_type": "code",
   "execution_count": 3,
   "metadata": {},
   "outputs": [],
   "source": [
    "## Defining a named Vector (with string-valued indices)\n",
    "# Define a sd dsl element\n",
    "vector2 = model.converter(\"vector2\")\n",
    "\n",
    "# Create a named vector of length 2 using string-valued indices\n",
    "vector2.setup_named_vector({\"value1\": 4.0, \"value2\": 5.0})"
   ]
  },
  {
   "cell_type": "markdown",
   "metadata": {},
   "source": [
    "As can be seen, we need two parameters for setting up a Vector using numerical indices.\n",
    "Moreover, there is one optional parameter.\n",
    "\n",
    "<table>\n",
    "    <tr>\n",
    "        <th style=\"text-align: left;\"> Parameter </th>\n",
    "        <th style=\"text-align: left;\"> Tye </th>\n",
    "        <th style=\"text-align: left;\"> Meaning </th>\n",
    "    <tr>\n",
    "    <tr>\n",
    "        <td> size </td>\n",
    "        <td> Integer </td>\n",
    "        <td> Defines the length of the Vector </td>\n",
    "    </tr>\n",
    "    <tr>\n",
    "        <td> values </td>\n",
    "        <td> List of Float/Integer </td>\n",
    "        <td> Defines the values of the Vector elements </td>\n",
    "    </tr>\n",
    "    <tr>\n",
    "        <td> set_stack_equation </td>\n",
    "        <td> Boolean </td>\n",
    "        <td> (optional) If the element is a stock, the initial value is set (False) or the equation is set (True). Default is False.</td>\n",
    "    </tr>    \n",
    "</table>    \n",
    "\n",
    "And we need one parameter (+ one optional parameter) for setting up a Vector using string indices:\n",
    "\n",
    "<table>\n",
    "    <tr>\n",
    "        <th style=\"text-align: left;\"> Parameter </th>\n",
    "        <th style=\"text-align: left;\"> Tye </th>\n",
    "        <th style=\"text-align: left;\"> Meaning </th>\n",
    "    <tr>\n",
    "    <tr>\n",
    "        <td> Values </td>\n",
    "        <td> Dictionary</td>\n",
    "        <td> Defines the string-values indices and their values </td>\n",
    "    </tr>\n",
    "    <tr>\n",
    "        <td> set_stack_equation </td>\n",
    "        <td> Boolean </td>\n",
    "        <td> (optional) If the element is a stock, the initial value is set (False) or the equation is set (True). Default is False.</td>\n",
    "    </tr>     \n",
    "</table>    \n",
    "\n",
    "For matrices, we can proceed completely similar."
   ]
  },
  {
   "cell_type": "code",
   "execution_count": 4,
   "metadata": {},
   "outputs": [],
   "source": [
    "## Defining a Matrix (with numerical indices)\n",
    "# Define a sd dsl element\n",
    "matrix1 = model.converter(\"matrix1\")\n",
    "\n",
    "# Create a matrix of size 2x2 with different values\n",
    "matrix1.setup_matrix([2,2], [[2.0, 3.0], \n",
    "                             [4.0, 5.0]])"
   ]
  },
  {
   "cell_type": "code",
   "execution_count": 5,
   "metadata": {},
   "outputs": [],
   "source": [
    "## Defining a named Matrix (with string-valued indices)\n",
    "# Define a sd dsl element\n",
    "matrix2 = model.converter(\"matrix2\")\n",
    "\n",
    "# Create a named vector of lenght 2 using string-valued indices\n",
    "matrix2.setup_named_matrix({\"value1\": {\"value11\": 2.0, \"value12\": 3.0}, \n",
    "                            \"value2\": {\"value21\": 4.0, \"value22\": 5.0}})"
   ]
  },
  {
   "cell_type": "markdown",
   "metadata": {},
   "source": [
    "As can be seen, we need two parameters (+ one optional parameter) for setting up a Matrix using numerical indices:\n",
    "\n",
    "<table>\n",
    "    <tr>\n",
    "        <th style=\"text-align: left;\"> Parameter </th>\n",
    "        <th style=\"text-align: left;\"> Tye </th>\n",
    "        <th style=\"text-align: left;\"> Meaning </th>\n",
    "    <tr>\n",
    "    <tr>\n",
    "        <td> size </td>\n",
    "        <td> List (tuple) of Integer</td>\n",
    "        <td> Defines the size of the Matrix </td>\n",
    "    </tr>\n",
    "    <tr>\n",
    "        <td> values </td>\n",
    "        <td> List of Lists of Float/Integer </td>\n",
    "        <td> Defines the values of the Vector elements </td>\n",
    "    </tr>\n",
    "    <tr>\n",
    "        <td> set_stack_equation </td>\n",
    "        <td> Boolean </td>\n",
    "        <td> (optional) If the element is a stock, the initial value is set (False) or the equation is set (True). Default is False.</td>\n",
    "    </tr>    \n",
    "</table>    \n",
    "\n",
    "And we need one parameter (+ one optional parameter) for setting up a Matrix using string-valued indices:\n",
    "\n",
    "<table>\n",
    "    <tr>\n",
    "        <th style=\"text-align: left;\"> Parameter </th>\n",
    "        <th style=\"text-align: left;\"> Tye </th>\n",
    "        <th style=\"text-align: left;\"> Meaning </th>\n",
    "    <tr>\n",
    "    <tr>\n",
    "        <td> Values </td>\n",
    "        <td> Dictionary</td>\n",
    "        <td> Defines the string-values indices and their values </td>\n",
    "    </tr>\n",
    "    <tr>\n",
    "        <td> set_stack_equation </td>\n",
    "        <td> Boolean </td>\n",
    "        <td> (optional) If the element is a stock, the initial value is set (False) or the equation is set (True). Default is False.</td>\n",
    "    </tr>     \n",
    "</table>    "
   ]
  },
  {
   "cell_type": "markdown",
   "metadata": {},
   "source": [
    "## Math-Operations for arrayed Components"
   ]
  },
  {
   "cell_type": "markdown",
   "metadata": {},
   "source": [
    "The standard Operations (+, -, *, %) can be used for arrayed Components.\n",
    "Moreover some array-specific Operations are provided."
   ]
  },
  {
   "cell_type": "markdown",
   "metadata": {},
   "source": [
    "### Standard Operations"
   ]
  },
  {
   "cell_type": "markdown",
   "metadata": {},
   "source": [
    "It is possible to use the standard Operations (+, -, *, %) for:\n",
    "\n",
    "<table>\n",
    "    <tr>\n",
    "        <th style=\"text-align: left;\"> Operand 1 </th>\n",
    "        <th style=\"text-align: left;\"> Operand 2 </th>\n",
    "    <tr>\n",
    "    <tr>\n",
    "        <td> Arrayed Element </td>\n",
    "        <td> Arrayed Element</td>\n",
    "    </tr>\n",
    "    <tr>\n",
    "        <td> Arrayed Element </td>\n",
    "        <td> Float/Integer</td>\n",
    "    </tr>\n",
    "    <tr>\n",
    "        <td> Float/Integer</td>\n",
    "        <td> Arrayed Element </td>\n",
    "    </tr>    \n",
    "</table> \n",
    "\n",
    "⚠️ If both operands are arrayed elements, they must have the same numerical/string-valued indices.\n",
    "\n",
    "That means it is **not** possible to have operand 1 = vector with numerical indices and operand 2 = vector with string-valued indicies, even if they have the same size.\n",
    "\n",
    "It is also **not** possible to have operand 1 = vector and operand 2 = matrix or vice versa. \n",
    "\n",
    "Other standard Operations (\\*\\*, //, %, ...) are **not** supported yet.\n",
    "\n",
    "Standard Operations are always performed element-wise.\n",
    "Lets have a look at some examples:"
   ]
  },
  {
   "cell_type": "markdown",
   "metadata": {},
   "source": [
    "#### Addition ($+$)"
   ]
  },
  {
   "cell_type": "code",
   "execution_count": 6,
   "metadata": {},
   "outputs": [],
   "source": [
    "#Add not-named vectors\n",
    "vectorAdd1 = model.converter(\"vectorAdd1\")\n",
    "vectorAdd1.setup_vector(2, [1.1, 2.2])\n",
    "\n",
    "vectorAdd2 = model.converter(\"vectorAdd2\")\n",
    "vectorAdd2.setup_vector(2, [3.1, 4.2])\n",
    "\n",
    "addResult = model.converter(\"addResult\")\n",
    "addResult.equation = vectorAdd1 + vectorAdd2\n",
    "\n"
   ]
  },
  {
   "cell_type": "markdown",
   "metadata": {},
   "source": [
    "\\begin{equation*}\n",
    "\\begin{pmatrix} \n",
    "1.1 \\\\\n",
    "2.2 \n",
    "\\end{pmatrix}\n",
    "+\n",
    "\\begin{pmatrix} \n",
    "3.1 \\\\\n",
    "4.2 \n",
    "\\end{pmatrix}\n",
    "=\n",
    "\\begin{pmatrix} \n",
    "4.2 \\\\\n",
    "6.4 \n",
    "\\end{pmatrix}\n",
    "\\end{equation*}"
   ]
  },
  {
   "cell_type": "code",
   "execution_count": 7,
   "metadata": {},
   "outputs": [
    {
     "name": "stdout",
     "output_type": "stream",
     "text": [
      "[ 4.2 , 6.4 ]\n"
     ]
    }
   ],
   "source": [
    "print(\"[ \" + str(addResult[0](0)) + \" , \" + str(addResult[1](0)) + \" ]\")\n"
   ]
  },
  {
   "cell_type": "code",
   "execution_count": 8,
   "metadata": {},
   "outputs": [],
   "source": [
    "#Add not-named vector and numerical element\n",
    "addResult.equation = vectorAdd2 + 1.0\n",
    "\n"
   ]
  },
  {
   "cell_type": "markdown",
   "metadata": {},
   "source": [
    "\\begin{equation*}\n",
    "\\begin{pmatrix} \n",
    "3.1 \\\\\n",
    "4.2 \n",
    "\\end{pmatrix}\n",
    "+1.0\n",
    "=\n",
    "\\begin{pmatrix} \n",
    "4.1 \\\\\n",
    "5.2 \n",
    "\\end{pmatrix}\n",
    "\\end{equation*}"
   ]
  },
  {
   "cell_type": "code",
   "execution_count": 9,
   "metadata": {},
   "outputs": [
    {
     "name": "stdout",
     "output_type": "stream",
     "text": [
      "[ 4.1 , 5.2 ]\n"
     ]
    }
   ],
   "source": [
    "print(\"[ \" + str(addResult[0](0)) + \" , \" + str(addResult[1](0)) + \" ]\")\n"
   ]
  },
  {
   "cell_type": "markdown",
   "metadata": {},
   "source": [
    "#### Subtraction ($-$)"
   ]
  },
  {
   "cell_type": "code",
   "execution_count": 10,
   "metadata": {},
   "outputs": [],
   "source": [
    "#Subtract not-named matrices\n",
    "matrixMinus1 = model.converter(\"matrixMinus1\")\n",
    "matrixMinus1.setup_matrix([2,2], [[1.1, 2.2],\n",
    "                                  [3.3, 4.4]])\n",
    "\n",
    "matrixMinus2 = model.converter(\"matrixMinus2\")\n",
    "matrixMinus2.setup_matrix([2,2], [[5.5, 7.7],\n",
    "                                  [3.3, 14.4]])\n",
    "\n",
    "minusResult = model.converter(\"minusResult\")\n",
    "minusResult.equation = matrixMinus1 - matrixMinus2\n"
   ]
  },
  {
   "cell_type": "markdown",
   "metadata": {},
   "source": [
    "\\begin{equation*}\n",
    "\\begin{pmatrix} \n",
    "1.1 & 2.2 \\\\\n",
    "3.3 & 4.4 \n",
    "\\end{pmatrix}\n",
    "-\n",
    "\\begin{pmatrix} \n",
    "5.5 & 7.7 \\\\\n",
    "3.3 & 14.4 \n",
    "\\end{pmatrix}\n",
    "=\n",
    "\\begin{pmatrix} \n",
    "-4.4 & -5.5\\\\\n",
    "0.0 & -10.0\n",
    "\\end{pmatrix}\n",
    "\\end{equation*}"
   ]
  },
  {
   "cell_type": "code",
   "execution_count": 11,
   "metadata": {},
   "outputs": [
    {
     "name": "stdout",
     "output_type": "stream",
     "text": [
      "[ [-4.4 , -5.5]\n",
      "  [0.0 , -10.0] ]\n"
     ]
    }
   ],
   "source": [
    "print(\"[ \" + \"[\" + str(minusResult[0][0](1)) + \" , \" + str(minusResult[0][1](1)) + \"]\")\n",
    "print(\"  \" + \"[\" + str(minusResult[1][0](1)) + \" , \" + str(minusResult[1][1](1)) + \"]\" + \" ]\")"
   ]
  },
  {
   "cell_type": "code",
   "execution_count": 12,
   "metadata": {},
   "outputs": [],
   "source": [
    "#Subtract not-named matrix and numerical element\n",
    "minusResult.equation = matrixMinus2 - 1.0"
   ]
  },
  {
   "cell_type": "markdown",
   "metadata": {},
   "source": [
    "\\begin{equation*}\n",
    "\\begin{pmatrix} \n",
    "5.5 & 7.7 \\\\\n",
    "3.3 & 14.4 \n",
    "\\end{pmatrix}\n",
    "-1.0\n",
    "=\n",
    "\\begin{pmatrix} \n",
    "4.5 & 6.7\\\\\n",
    "2.3 & 13.4 \n",
    "\\end{pmatrix}\n",
    "\\end{equation*}"
   ]
  },
  {
   "cell_type": "code",
   "execution_count": 13,
   "metadata": {},
   "outputs": [
    {
     "name": "stdout",
     "output_type": "stream",
     "text": [
      "[ [4.5 , 6.7]\n",
      "  [2.3 , 13.4] ]\n"
     ]
    }
   ],
   "source": [
    "print(\"[ \" + \"[\" + str(minusResult[0][0](1)) + \" , \" + str(minusResult[0][1](1)) + \"]\")\n",
    "print(\"  \" + \"[\" + str(minusResult[1][0](1)) + \" , \" + str(minusResult[1][1](1)) + \"]\" + \" ]\")"
   ]
  },
  {
   "cell_type": "markdown",
   "metadata": {},
   "source": [
    "#### Multiplication ($*$)"
   ]
  },
  {
   "cell_type": "code",
   "execution_count": 14,
   "metadata": {},
   "outputs": [],
   "source": [
    "#Multiply named vectors\n",
    "vectorTimes1 = model.converter(\"vectorTimes1\")\n",
    "vectorTimes1.setup_named_vector({\"value1\": 4.0, \"value2\": 5.0})\n",
    "\n",
    "vectorTimes2 = model.converter(\"vectorTimes2\")\n",
    "vectorTimes2.setup_named_vector({\"value1\": 6.0, \"value2\": 7.0})\n",
    "\n",
    "timesResult = model.converter(\"timesResult\")\n",
    "timesResult.equation = vectorTimes1 * vectorTimes2\n",
    "\n"
   ]
  },
  {
   "cell_type": "markdown",
   "metadata": {},
   "source": [
    "\\begin{equation*}\n",
    "\\begin{pmatrix} \n",
    "4.0\\\\\n",
    "5.0 \n",
    "\\end{pmatrix}\n",
    "\\odot\n",
    "\\begin{pmatrix} \n",
    "6.0\\\\\n",
    "7.0 \n",
    "\\end{pmatrix}\n",
    "=\n",
    "\\begin{pmatrix} \n",
    "24.0\\\\\n",
    "35.0\n",
    "\\end{pmatrix}\n",
    "\\end{equation*}"
   ]
  },
  {
   "cell_type": "code",
   "execution_count": 15,
   "metadata": {},
   "outputs": [
    {
     "name": "stdout",
     "output_type": "stream",
     "text": [
      "[ 24.0 , 35.0 ]\n"
     ]
    }
   ],
   "source": [
    "print(\"[ \" + str(timesResult[\"value1\"](0)) + \" , \" + str(timesResult[\"value2\"](0)) + \" ]\")\n"
   ]
  },
  {
   "cell_type": "code",
   "execution_count": 16,
   "metadata": {},
   "outputs": [],
   "source": [
    "#Multiplay named vector and numerical element\n",
    "timesResult.equation = vectorTimes2 * 3.0"
   ]
  },
  {
   "cell_type": "markdown",
   "metadata": {},
   "source": [
    "\\begin{equation*}\n",
    "\\begin{pmatrix} \n",
    "6.0\\\\\n",
    "7.0 \n",
    "\\end{pmatrix}\n",
    "\\cdot\n",
    "3.0\n",
    "=\n",
    "\\begin{pmatrix} \n",
    "18.0\\\\\n",
    "21.0\n",
    "\\end{pmatrix}\n",
    "\\end{equation*}"
   ]
  },
  {
   "cell_type": "code",
   "execution_count": 17,
   "metadata": {},
   "outputs": [
    {
     "name": "stdout",
     "output_type": "stream",
     "text": [
      "[ 18.0 , 21.0 ]\n"
     ]
    }
   ],
   "source": [
    "print(\"[ \" + str(timesResult[\"value1\"](0)) + \" , \" + str(timesResult[\"value2\"](0)) + \" ]\")\n"
   ]
  },
  {
   "cell_type": "markdown",
   "metadata": {},
   "source": [
    "The case \"- arrayed element\" is a special case since it is interpreted as \"(-1) $\\cdot$ element\":"
   ]
  },
  {
   "cell_type": "code",
   "execution_count": 18,
   "metadata": {},
   "outputs": [],
   "source": [
    "##Works after merge\n",
    "\n",
    "#Multiplay named vector and numerical element\n",
    "#timesResult = model.converter(\"timesResult\")\n",
    "#timesResult.equation = -vectorTimes2\n",
    "\n"
   ]
  },
  {
   "cell_type": "markdown",
   "metadata": {},
   "source": [
    "\\begin{equation*}\n",
    "- \\begin{pmatrix} \n",
    "6.0\\\\\n",
    "7.0 \n",
    "\\end{pmatrix}\n",
    "=\n",
    "\\begin{pmatrix} \n",
    "-6.0\\\\\n",
    "-7.0\n",
    "\\end{pmatrix}\n",
    "\\end{equation*}"
   ]
  },
  {
   "cell_type": "code",
   "execution_count": 19,
   "metadata": {},
   "outputs": [],
   "source": [
    "#print(\"[ \" + str(timesResult[\"value1\"](0)) + \" , \" + str(timesResult[\"value2\"](0)) + \" ]\")\n"
   ]
  },
  {
   "cell_type": "markdown",
   "metadata": {},
   "source": [
    "#### Division ($/$)"
   ]
  },
  {
   "cell_type": "code",
   "execution_count": 20,
   "metadata": {},
   "outputs": [],
   "source": [
    "#Divide not-named matrices\n",
    "matrixDivide1 = model.converter(\"matrixDivide1\")\n",
    "matrixDivide1.setup_matrix([2,2], [[2.0, 4.0],\n",
    "                                   [8.0, 16.0]])\n",
    "\n",
    "matrixDivide2 = model.converter(\"matrixDivide2\")\n",
    "matrixDivide2.setup_matrix([2,2], [[2.0, 1.0],\n",
    "                                   [0.5, 0.25]])\n",
    "\n",
    "divideResult = model.converter(\"divideResult\")\n",
    "divideResult.equation = matrixDivide1 / matrixDivide2\n"
   ]
  },
  {
   "cell_type": "markdown",
   "metadata": {},
   "source": [
    "\\begin{equation*}\n",
    "\\begin{pmatrix} \n",
    "2.0 & 4.0\\\\\n",
    "8.0 & 16.0 \n",
    "\\end{pmatrix}\n",
    "\\oslash\n",
    "\\begin{pmatrix} \n",
    "2.0 & 1.0\\\\\n",
    "0.5 & 0.25 \n",
    "\\end{pmatrix}\n",
    "=\n",
    "\\begin{pmatrix} \n",
    "1.0 & 4.0\\\\\n",
    "16.0 & 64.0\n",
    "\\end{pmatrix}\n",
    "\\end{equation*}"
   ]
  },
  {
   "cell_type": "code",
   "execution_count": 21,
   "metadata": {},
   "outputs": [
    {
     "name": "stdout",
     "output_type": "stream",
     "text": [
      "[ [1.0 , 4.0]\n",
      "  [16.0 , 64.0] ]\n"
     ]
    }
   ],
   "source": [
    "print(\"[ \" + \"[\" + str(divideResult[0][0](1)) + \" , \" + str(divideResult[0][1](1)) + \"]\")\n",
    "print(\"  \" + \"[\" + str(divideResult[1][0](1)) + \" , \" + str(divideResult[1][1](1)) + \"]\" + \" ]\")"
   ]
  },
  {
   "cell_type": "code",
   "execution_count": 22,
   "metadata": {},
   "outputs": [],
   "source": [
    "#Divide not-named matrix and numerical element\n",
    "divideResult.equation = matrixDivide2 / 5.0"
   ]
  },
  {
   "cell_type": "markdown",
   "metadata": {},
   "source": [
    "\\begin{equation*}\n",
    "\\begin{pmatrix} \n",
    "2.0 & 1.0\\\\\n",
    "0.5 & 0.25 \n",
    "\\end{pmatrix}\n",
    "/\n",
    "\\text{ } 5.0\n",
    "=\n",
    "\\begin{pmatrix} \n",
    "0.4 & 0.2\\\\\n",
    "0.1 & 0.05\n",
    "\\end{pmatrix}\n",
    "\\end{equation*}"
   ]
  },
  {
   "cell_type": "code",
   "execution_count": 23,
   "metadata": {},
   "outputs": [
    {
     "name": "stdout",
     "output_type": "stream",
     "text": [
      "[ [0.4 , 0.2]\n",
      "  [0.1 , 0.05] ]\n"
     ]
    }
   ],
   "source": [
    "print(\"[ \" + \"[\" + str(divideResult[0][0](1)) + \" , \" + str(divideResult[0][1](1)) + \"]\")\n",
    "print(\"  \" + \"[\" + str(divideResult[1][0](1)) + \" , \" + str(divideResult[1][1](1)) + \"]\" + \" ]\")"
   ]
  },
  {
   "cell_type": "markdown",
   "metadata": {},
   "source": [
    "### Array-specific Operations"
   ]
  },
  {
   "cell_type": "markdown",
   "metadata": {},
   "source": [
    "#### Array Sum"
   ]
  },
  {
   "cell_type": "markdown",
   "metadata": {},
   "source": [
    "Calculates the element-wise sum of an array."
   ]
  },
  {
   "cell_type": "code",
   "execution_count": 24,
   "metadata": {},
   "outputs": [],
   "source": [
    "#Calculate the element-wise sum of a named-vector\n",
    "vectorSum = model.converter(\"vectorSum\")\n",
    "vectorSum.setup_named_vector({\"value1\": 1.0, \"value2\": 2.0, \"value3\": 3.0})\n",
    "\n",
    "sumResult = model.converter(\"sumResult\")\n",
    "sumResult.equation = vectorSum.arr_sum()\n",
    "\n"
   ]
  },
  {
   "cell_type": "markdown",
   "metadata": {},
   "source": [
    "\\begin{equation*}\n",
    "\\text{sum} \n",
    "\\begin{pmatrix} \n",
    "1.0 \\\\\n",
    "2.0\\\\\n",
    "3.0\n",
    "\\end{pmatrix}\n",
    "=\n",
    "1.0 + 2.0 + 3.0 = 6.0\n",
    "\\end{equation*}"
   ]
  },
  {
   "cell_type": "code",
   "execution_count": 25,
   "metadata": {},
   "outputs": [
    {
     "name": "stdout",
     "output_type": "stream",
     "text": [
      "6.0\n"
     ]
    }
   ],
   "source": [
    "print(sumResult(1))"
   ]
  },
  {
   "cell_type": "markdown",
   "metadata": {},
   "source": [
    "#### Array Product"
   ]
  },
  {
   "cell_type": "markdown",
   "metadata": {},
   "source": [
    "Calculates the element-wise product of an array."
   ]
  },
  {
   "cell_type": "code",
   "execution_count": 26,
   "metadata": {},
   "outputs": [],
   "source": [
    "#Calculate the element-wise product of a not-named-matrix\n",
    "matrixProd = model.converter(\"matrixProd\")\n",
    "matrixProd.setup_matrix([2,3],[[2.0, 3.0, 4.0], \n",
    "                               [5.0, 6.0, 7.0]])\n",
    "\n",
    "prodResult = model.converter(\"prodResult\")\n",
    "prodResult.equation = matrixProd.arr_prod()\n",
    "\n"
   ]
  },
  {
   "cell_type": "markdown",
   "metadata": {},
   "source": [
    "\\begin{equation*}\n",
    "\\text{prod} \n",
    "\\begin{pmatrix} \n",
    "2.0 & 3.0 & 4.0 \\\\\n",
    "5.0 & 6.0 & 7.0\n",
    "\\end{pmatrix}\n",
    "=\n",
    "2.0 \\cdot 3.0 \\cdot 4.0 \\cdot 5.0 \\cdot 6.0 \\cdot 7.0 = 5040.0\n",
    "\\end{equation*}"
   ]
  },
  {
   "cell_type": "code",
   "execution_count": 27,
   "metadata": {},
   "outputs": [
    {
     "name": "stdout",
     "output_type": "stream",
     "text": [
      "5040.0\n"
     ]
    }
   ],
   "source": [
    "print(prodResult(1))"
   ]
  },
  {
   "cell_type": "markdown",
   "metadata": {},
   "source": [
    "#### Array Rank"
   ]
  },
  {
   "cell_type": "markdown",
   "metadata": {},
   "source": [
    "Calculates the $n$-th highest element of an array. $n$ is given by a parameter. \n",
    "\n",
    "For $n=-1$ the lowest element of the array will be returned."
   ]
  },
  {
   "cell_type": "code",
   "execution_count": 28,
   "metadata": {},
   "outputs": [],
   "source": [
    "#Calculate the highest elements of a not-named vector\n",
    "vectorRank = model.converter(\"vectorRank\")\n",
    "vectorRank.setup_vector(5, [-2.0, -0.1, 3.1, 5.2, 11.1])\n",
    "\n",
    "rankResult = model.converter(\"rankResult\")\n",
    "rankResult.equation = vectorRank.arr_rank(1)"
   ]
  },
  {
   "cell_type": "markdown",
   "metadata": {},
   "source": [
    "\\begin{equation*}\n",
    "\\text{rank} \n",
    "\\left(\n",
    "\\begin{pmatrix} \n",
    "-2.0\\\\\n",
    "-0.1\\\\\n",
    "3.1\\\\\n",
    "5.2\\\\\n",
    "11.1\n",
    "\\end{pmatrix}\n",
    ",\n",
    "1\n",
    "\\right)\n",
    "=\n",
    "11.1\n",
    "\\end{equation*}"
   ]
  },
  {
   "cell_type": "code",
   "execution_count": 29,
   "metadata": {},
   "outputs": [
    {
     "name": "stdout",
     "output_type": "stream",
     "text": [
      "11.1\n"
     ]
    }
   ],
   "source": [
    "print(rankResult(1))\n"
   ]
  },
  {
   "cell_type": "code",
   "execution_count": 30,
   "metadata": {},
   "outputs": [],
   "source": [
    "rankResult.equation = vectorRank.arr_rank(4)\n"
   ]
  },
  {
   "cell_type": "markdown",
   "metadata": {},
   "source": [
    "\\begin{equation*}\n",
    "\\text{rank} \n",
    "\\left(\n",
    "\\begin{pmatrix} \n",
    "-2.0\\\\\n",
    "-0.1\\\\\n",
    "3.1\\\\\n",
    "5.2\\\\\n",
    "11.1\n",
    "\\end{pmatrix}\n",
    ",\n",
    "4\n",
    "\\right)\n",
    "=\n",
    "-0.1\n",
    "\\end{equation*}"
   ]
  },
  {
   "cell_type": "code",
   "execution_count": 31,
   "metadata": {},
   "outputs": [
    {
     "name": "stdout",
     "output_type": "stream",
     "text": [
      "-0.1\n"
     ]
    }
   ],
   "source": [
    "print(rankResult(1))\n"
   ]
  },
  {
   "cell_type": "code",
   "execution_count": 32,
   "metadata": {},
   "outputs": [],
   "source": [
    "rankResult.equation = vectorRank.arr_rank(-1)\n"
   ]
  },
  {
   "cell_type": "markdown",
   "metadata": {},
   "source": [
    "\\begin{equation*}\n",
    "\\text{rank} \n",
    "\\left(\n",
    "\\begin{pmatrix} \n",
    "-2.0\\\\\n",
    "-0.1\\\\\n",
    "3.1\\\\\n",
    "5.2\\\\\n",
    "11.1\n",
    "\\end{pmatrix}\n",
    ",\n",
    "-1\n",
    "\\right)\n",
    "=\n",
    "-2.0\n",
    "\\end{equation*}"
   ]
  },
  {
   "cell_type": "code",
   "execution_count": 33,
   "metadata": {},
   "outputs": [
    {
     "name": "stdout",
     "output_type": "stream",
     "text": [
      "-2.0\n"
     ]
    }
   ],
   "source": [
    "print(rankResult(1))"
   ]
  },
  {
   "cell_type": "markdown",
   "metadata": {},
   "source": [
    "#### Array Mean"
   ]
  },
  {
   "cell_type": "markdown",
   "metadata": {},
   "source": [
    "Calculates the element-wise mean of an array."
   ]
  },
  {
   "cell_type": "code",
   "execution_count": 34,
   "metadata": {},
   "outputs": [],
   "source": [
    "#Calculate the element-wise mean of a named matrix\n",
    "matrixMean = model.converter(\"matrixMean\")\n",
    "matrixMean.setup_named_matrix({\"value1\": {\"value11\": 2.0, \"value12\": 4.0},\n",
    "                               \"value2\": {\"value21\": 6.0, \"value22\": 8.0},\n",
    "                               \"value3\": {\"value31\": 10.0, \"value32\": 12.0}})\n",
    "\n",
    "meanResult = model.converter(\"meanResult\")\n",
    "meanResult.equation = matrixMean.arr_mean()"
   ]
  },
  {
   "cell_type": "markdown",
   "metadata": {},
   "source": [
    "\\begin{equation*}\n",
    "\\text{mean} \n",
    "\\begin{pmatrix} \n",
    "2.0 & 4.0\\\\\n",
    "6.0 & 8.0\\\\\n",
    "10.0 & 12.0\n",
    "\\end{pmatrix}\n",
    "=\n",
    "\\frac{2.0 + 4.0 + 6.0 + 8.0 + 10.0 +12.0}{6} = 7.0\n",
    "\\end{equation*}"
   ]
  },
  {
   "cell_type": "code",
   "execution_count": 35,
   "metadata": {},
   "outputs": [
    {
     "name": "stdout",
     "output_type": "stream",
     "text": [
      "7.0\n"
     ]
    }
   ],
   "source": [
    "print(meanResult(1))"
   ]
  },
  {
   "cell_type": "markdown",
   "metadata": {},
   "source": [
    "#### Array Median"
   ]
  },
  {
   "cell_type": "markdown",
   "metadata": {},
   "source": [
    "Calculates the element-wise median of an array."
   ]
  },
  {
   "cell_type": "code",
   "execution_count": 36,
   "metadata": {},
   "outputs": [],
   "source": [
    "#Calculate the median of a not-named vector\n",
    "vectorMedian1 = model.converter(\"vectorMedian1\")\n",
    "vectorMedian1.setup_vector(5, [-2.0, -0.1, 3.1, 5.2, 11.1])\n",
    "vectorMedian2 = model.converter(\"vectorMedian2\")\n",
    "vectorMedian2.setup_vector(4, [-2.0, -0.1, 3.1, 5.2])\n",
    "\n",
    "medianResult = model.converter(\"medianResult\")\n",
    "medianResult.equation = vectorMedian1.arr_median()\n",
    "\n"
   ]
  },
  {
   "cell_type": "markdown",
   "metadata": {},
   "source": [
    "\\begin{equation*}\n",
    "\\text{median} \n",
    "\\begin{pmatrix} \n",
    "-2.0\\\\\n",
    "-0.1\\\\\n",
    "3.1\\\\\n",
    "5.2\\\\\n",
    "11.1\n",
    "\\end{pmatrix}\n",
    "=\n",
    "3.1\n",
    "\\end{equation*}"
   ]
  },
  {
   "cell_type": "code",
   "execution_count": 37,
   "metadata": {},
   "outputs": [
    {
     "name": "stdout",
     "output_type": "stream",
     "text": [
      "3.1\n"
     ]
    }
   ],
   "source": [
    "print(medianResult(1)) \n"
   ]
  },
  {
   "cell_type": "code",
   "execution_count": 38,
   "metadata": {},
   "outputs": [],
   "source": [
    "medianResult.equation = vectorMedian2.arr_median()\n"
   ]
  },
  {
   "cell_type": "markdown",
   "metadata": {},
   "source": [
    "\\begin{equation*}\n",
    "\\text{median} \n",
    "\\begin{pmatrix} \n",
    "-2.0\\\\\n",
    "-0.1\\\\\n",
    "3.1\\\\\n",
    "5.2\\\\\n",
    "\\end{pmatrix}\n",
    "=\n",
    "\\frac{-0.1+3.1}{2}=1.5\n",
    "\\end{equation*}"
   ]
  },
  {
   "cell_type": "code",
   "execution_count": 39,
   "metadata": {},
   "outputs": [
    {
     "name": "stdout",
     "output_type": "stream",
     "text": [
      "1.5\n"
     ]
    }
   ],
   "source": [
    "print(medianResult(1)) #Median of vectorMedian2 is (-0.1 + 3.1)/2 = 1.5"
   ]
  },
  {
   "cell_type": "markdown",
   "metadata": {},
   "source": [
    "#### Array Standdarddeviation"
   ]
  },
  {
   "cell_type": "markdown",
   "metadata": {},
   "source": [
    "Calculates the element-wise standard deviation of an array."
   ]
  },
  {
   "cell_type": "code",
   "execution_count": 40,
   "metadata": {},
   "outputs": [],
   "source": [
    "#Calculate the standard deviation of a not-named matrix\n",
    "matrixStddev = model.converter(\"matrixStddev\")\n",
    "matrixStddev.setup_matrix([2,2], [[1.0, 3.0], \n",
    "                                  [3.0, 1.0]])\n",
    "\n",
    "stddevResult = model.converter(\"stddevResult\")\n",
    "stddevResult.equation = matrixStddev.arr_stddev()\n",
    "\n"
   ]
  },
  {
   "cell_type": "markdown",
   "metadata": {},
   "source": [
    "\\begin{equation*}\n",
    "\\sigma\n",
    "\\begin{pmatrix} \n",
    "1.0 & 3.0\\\\\n",
    "3.0 & 1.0\n",
    "\\end{pmatrix}\n",
    "= \\sqrt{\n",
    "\\frac{1}{4} \n",
    "\\cdot\n",
    "\\left(\n",
    "(1-2)^2\n",
    "+\n",
    "(3-2)^2\n",
    "+\n",
    "(3-2)^2\n",
    "+\n",
    "(1-2)^2\n",
    "\\right)\n",
    "}\n",
    "=\n",
    "1\n",
    "\\end{equation*}"
   ]
  },
  {
   "cell_type": "code",
   "execution_count": 41,
   "metadata": {},
   "outputs": [
    {
     "name": "stdout",
     "output_type": "stream",
     "text": [
      "1.0\n"
     ]
    }
   ],
   "source": [
    "print(stddevResult(1))"
   ]
  },
  {
   "cell_type": "markdown",
   "metadata": {},
   "source": [
    "#### Array Size"
   ]
  },
  {
   "cell_type": "markdown",
   "metadata": {},
   "source": [
    "Calculates the size of an array.\n",
    "\n",
    "For a vector, the length will be returned.\n",
    "For a matrix, the size of the highest level will be returned (for example 2 for a $2 \\times 3$ matrix)."
   ]
  },
  {
   "cell_type": "code",
   "execution_count": 42,
   "metadata": {},
   "outputs": [],
   "source": [
    "#Calculate the size of a not-named vector\n",
    "vectorSize = model.converter(\"vectorSize\")\n",
    "vectorSize.setup_vector(6, [1.0, 1.0, 1.0, 1.0, 1.0, 1.0])\n",
    "\n",
    "#Calculate the size of a not-named matrix\n",
    "matrixSize1 = model.converter(\"matrixSize2\")\n",
    "matrixSize1.setup_matrix([2,3], [[1.0, 1.0, 1.0], \n",
    "                                 [1.0, 1.0, 1.0]])\n",
    "matrixSize2 = model.converter(\"matrixSize3\")\n",
    "matrixSize2.setup_matrix([4,3], [[1.0, 1.0, 1.0], \n",
    "                                 [1.0, 1.0, 1.0],\n",
    "                                 [1.0, 1.0, 1.0], \n",
    "                                 [1.0, 1.0, 1.0]])\n",
    "\n",
    "sizeResult = model.converter(\"sizeResult\")\n",
    "sizeResult.equation = vectorSize.arr_size()"
   ]
  },
  {
   "cell_type": "markdown",
   "metadata": {},
   "source": [
    "\\begin{equation*}\n",
    "\\text{len} \n",
    "\\begin{pmatrix} \n",
    "1.0\\\\\n",
    "1.0\\\\\n",
    "1.0\\\\\n",
    "1.0\\\\\n",
    "1.0\\\\\n",
    "1.0\\\\\n",
    "\\end{pmatrix}\n",
    "=\n",
    "6\n",
    "\\end{equation*}"
   ]
  },
  {
   "cell_type": "code",
   "execution_count": 43,
   "metadata": {},
   "outputs": [
    {
     "name": "stdout",
     "output_type": "stream",
     "text": [
      "6\n"
     ]
    }
   ],
   "source": [
    "print(sizeResult(1))"
   ]
  },
  {
   "cell_type": "code",
   "execution_count": 44,
   "metadata": {},
   "outputs": [],
   "source": [
    "sizeResult.equation = matrixSize1.arr_size()"
   ]
  },
  {
   "cell_type": "markdown",
   "metadata": {},
   "source": [
    "\\begin{equation*}\n",
    "\\text{len} \n",
    "\\begin{pmatrix} \n",
    "1.0 & 1.0 & 1.0\\\\\n",
    "1.0 & 1.0 & 1.0\n",
    "\\end{pmatrix}\n",
    "=\n",
    "2\n",
    "\\end{equation*}"
   ]
  },
  {
   "cell_type": "code",
   "execution_count": 45,
   "metadata": {},
   "outputs": [
    {
     "name": "stdout",
     "output_type": "stream",
     "text": [
      "2\n"
     ]
    }
   ],
   "source": [
    "print(sizeResult(1))\n",
    "\n"
   ]
  },
  {
   "cell_type": "code",
   "execution_count": 46,
   "metadata": {},
   "outputs": [],
   "source": [
    "sizeResult.equation = matrixSize2.arr_size()\n"
   ]
  },
  {
   "cell_type": "markdown",
   "metadata": {},
   "source": [
    "\\begin{equation*}\n",
    "\\text{len} \n",
    "\\begin{pmatrix} \n",
    "1.0 & 1.0 & 1.0\\\\\n",
    "1.0 & 1.0 & 1.0\\\\\n",
    "1.0 & 1.0 & 1.0\\\\\n",
    "1.0 & 1.0 & 1.0\n",
    "\\end{pmatrix}\n",
    "=\n",
    "4\n",
    "\\end{equation*}"
   ]
  },
  {
   "cell_type": "code",
   "execution_count": 47,
   "metadata": {},
   "outputs": [
    {
     "name": "stdout",
     "output_type": "stream",
     "text": [
      "4\n"
     ]
    }
   ],
   "source": [
    "print(sizeResult(1))\n",
    "\n"
   ]
  },
  {
   "cell_type": "markdown",
   "metadata": {},
   "source": [
    "#### Array Dot"
   ]
  },
  {
   "cell_type": "markdown",
   "metadata": {},
   "source": [
    "The Dot function provides the classical vector/matrix-multiplication logic. That means, the following can be calculated:\n",
    "\n",
    "| Factor 1 | Factor 2 | Result |\n",
    "|-|-|-|\n",
    "| Vector of size $m$ | Constant | Vector of size $m$ |\n",
    "| Constant | Vector of size $m$ | Vector of size $m$ |\n",
    "| Matrix of size $m \\times n$ | Constant  | Matrix of size $m \\times n$ |\n",
    "| Constant | Matrix of size $m \\times n$  | Matrix of size $m \\times n$ |\n",
    "| Vector of size $m$ | Vector of size $m$  | Value (Scalar Product) |\n",
    "| Vector of size $m$ | Matrix of size $m \\times n$ | Vector of size $n$ |\n",
    "| Matrix of size $m \\times n$ | Vector of size $n$ | Vector of size $m$ |\n",
    "| Matrix of size $m \\times n$ | Matrix of size $n \\times p$ | Matrix of size $m \\times p$ |\n",
    "\n",
    "❗ Using the Dot function for an array and a constant yields the same result as using the $*$-Operator for the array and the value of the constant.\n",
    "\n",
    "If the dimensions of the arrays to which the dot function is applied do not allow for a valid array multiplication, an exception is thrown.\n",
    "\n",
    "⚠️ **The Dot function is currently supported for not-named arrays only!**\n",
    "\n",
    "Lets have a look at some examples:"
   ]
  },
  {
   "cell_type": "code",
   "execution_count": 48,
   "metadata": {},
   "outputs": [],
   "source": [
    "#Calculate vector * constant & constant * vector\n",
    "constant  = model.converter(\"constant\")\n",
    "constant.equation = 2.0\n",
    "\n",
    "vectorDot1 = model.converter(\"vectorDot1\")\n",
    "vectorDot1.setup_vector(3,[1.0, 2.0, 3.0])\n",
    "vectorDot2 = model.converter(\"vectorDot2\")\n",
    "vectorDot2.setup_vector(3,[4.0, 5.0, 6.0])\n",
    "\n",
    "dotResult1 = model.converter(\"dotResult1\")\n",
    "\n",
    "dotResult1.equation = vectorDot1.dot(constant)\n"
   ]
  },
  {
   "cell_type": "markdown",
   "metadata": {},
   "source": [
    "\\begin{equation*}\n",
    "2.0 \\cdot \\begin{pmatrix} 1.0 \\\\ 2.0 \\\\ 3.0 \\end{pmatrix}\n",
    "=\n",
    "\\begin{pmatrix} 2.0 \\\\ 4.0 \\\\ 6.0 \\end{pmatrix}\\end{equation*}"
   ]
  },
  {
   "cell_type": "code",
   "execution_count": 49,
   "metadata": {},
   "outputs": [
    {
     "name": "stdout",
     "output_type": "stream",
     "text": [
      "[2.0 , 4.0 , 6.0]\n"
     ]
    }
   ],
   "source": [
    "print(\"[\" + str(dotResult1[0](1)) + \" , \" + str(dotResult1[1](1)) + \" , \" + str(dotResult1[2](1)) + \"]\")"
   ]
  },
  {
   "cell_type": "code",
   "execution_count": 50,
   "metadata": {},
   "outputs": [],
   "source": [
    "dotResult1.equation = constant.dot(vectorDot2)"
   ]
  },
  {
   "cell_type": "markdown",
   "metadata": {},
   "source": [
    "\\begin{equation*}\n",
    "\\begin{pmatrix} 4.0 \\\\ 5.0 \\\\ 6.0 \\end{pmatrix} \\cdot 2.0\n",
    "=\n",
    "\\begin{pmatrix} 8.0 \\\\ 10.0 \\\\ 12.0 \\end{pmatrix}\\end{equation*}"
   ]
  },
  {
   "cell_type": "code",
   "execution_count": 51,
   "metadata": {},
   "outputs": [
    {
     "name": "stdout",
     "output_type": "stream",
     "text": [
      "[8.0 , 10.0 , 12.0]\n"
     ]
    }
   ],
   "source": [
    "print(\"[\" + str(dotResult1[0](1)) + \" , \" + str(dotResult1[1](1)) + \" , \" + str(dotResult1[2](1)) + \"]\")"
   ]
  },
  {
   "cell_type": "code",
   "execution_count": 52,
   "metadata": {},
   "outputs": [],
   "source": [
    "#Calculate matrix * constant & constant * matrix\n",
    "constant  = model.converter(\"constant\")\n",
    "constant.equation = 2.0\n",
    "\n",
    "matrixDot1 = model.converter(\"matrixDot1\")\n",
    "matrixDot1.setup_matrix([3,2],[[1.0, 2.0],\n",
    "                               [3.0, 4.0],\n",
    "                               [5.0, 6.0]])\n",
    "matrixDot2 = model.converter(\"matrixDot2\")\n",
    "matrixDot2.setup_matrix([2,3],[[-1.0, -2.0, -3.0],\n",
    "                               [-4.0, -5.0, -6.0]])\n",
    "\n",
    "dotResult2 = model.converter(\"dotResult2\")\n",
    "\n",
    "dotResult2.equation = matrixDot1.dot(constant)"
   ]
  },
  {
   "cell_type": "markdown",
   "metadata": {},
   "source": [
    "\\begin{equation*}\n",
    "\\begin{pmatrix}\n",
    "1.0 & 2.0 \\\\\n",
    "3.0 & 4.0 \\\\\n",
    "5.0 & 6.0\n",
    "\\end{pmatrix} \\cdot 2.0\n",
    "=\n",
    "\\begin{pmatrix}\n",
    "2.0 & 4.0 \\\\\n",
    "6.0 & 8.0 \\\\\n",
    "10.0 & 12.0\n",
    "\\end{pmatrix}\\end{equation*}"
   ]
  },
  {
   "cell_type": "code",
   "execution_count": 53,
   "metadata": {},
   "outputs": [
    {
     "name": "stdout",
     "output_type": "stream",
     "text": [
      "[ [2.0 , 4.0]\n",
      "  [6.0 , 8.0]\n",
      "  [10.0 , 12.0] ]\n"
     ]
    }
   ],
   "source": [
    "print(\"[ \" + \"[\" + str(dotResult2[0][0](1)) + \" , \" + str(dotResult2[0][1](1)) + \"]\")\n",
    "print(\"  \" + \"[\" + str(dotResult2[1][0](1)) + \" , \" + str(dotResult2[1][1](1)) + \"]\")\n",
    "print(\"  \" + \"[\" + str(dotResult2[2][0](1)) + \" , \" + str(dotResult2[2][1](1)) + \"]\" + \" ]\")"
   ]
  },
  {
   "cell_type": "code",
   "execution_count": 54,
   "metadata": {},
   "outputs": [],
   "source": [
    "dotResult2.equation = constant.dot(matrixDot2)\n"
   ]
  },
  {
   "cell_type": "markdown",
   "metadata": {},
   "source": [
    "\\begin{equation*}\n",
    "2.0 \\cdot\n",
    "\\begin{pmatrix}\n",
    "-1.0 & -2.0 & -3.0 \\\\\n",
    "-4.0 & -5.0 & -6.0 \\\\\n",
    "\\end{pmatrix}\n",
    "=\n",
    "\\begin{pmatrix}\n",
    "-2.0 & -4.0 & -6.0 \\\\\n",
    "-8.0 & -10.0 & -12.0 \\\\\n",
    "\\end{pmatrix}\\end{equation*}"
   ]
  },
  {
   "cell_type": "code",
   "execution_count": 55,
   "metadata": {},
   "outputs": [
    {
     "name": "stdout",
     "output_type": "stream",
     "text": [
      "[ [-2.0 , -4.0 , -6.0]\n",
      "  [-8.0 , -10.0 , -12.0] ]\n"
     ]
    }
   ],
   "source": [
    "print(\"[ \" + \"[\"    + str(dotResult2[0][0](1)) + \" , \" + str(dotResult2[0][1](1)) + \" , \" \n",
    "                    + str(dotResult2[0][2](1)) + \"]\")\n",
    "print(\"  \" + \"[\"    + str(dotResult2[1][0](1)) + \" , \" + str(dotResult2[1][1](1)) + \" , \" \n",
    "                    + str(dotResult2[1][2](1)) + \"]\" + \" ]\")"
   ]
  },
  {
   "cell_type": "code",
   "execution_count": 56,
   "metadata": {},
   "outputs": [],
   "source": [
    "#Calculate vector * vector\n",
    "dotResult3 = model.converter(\"dotResult3\")\n",
    "\n",
    "dotResult3.equation = vectorDot1.dot(vectorDot2)"
   ]
  },
  {
   "cell_type": "markdown",
   "metadata": {},
   "source": [
    "\\begin{equation*}\n",
    "\\left\\langle \n",
    "\\begin{pmatrix} 1.0 \\\\ 2.0 \\\\ 3.0 \\end{pmatrix}, \n",
    "\\begin{pmatrix} 4.0 \\\\ 5.0 \\\\ 6.0 \\end{pmatrix}\n",
    "\\right\\rangle\n",
    "=\n",
    "1.0 \\cdot 4.0 + 2.0 \\cdot 5.0 + 3.0 \\cdot 6.0\n",
    "=\n",
    "32.0\n",
    "\\end{equation*}"
   ]
  },
  {
   "cell_type": "code",
   "execution_count": 57,
   "metadata": {},
   "outputs": [
    {
     "name": "stdout",
     "output_type": "stream",
     "text": [
      "32.0\n"
     ]
    }
   ],
   "source": [
    "print(dotResult3(1)) #1*4 + 2*5 + 3*6 = 32 "
   ]
  },
  {
   "cell_type": "code",
   "execution_count": 58,
   "metadata": {},
   "outputs": [],
   "source": [
    "#Calculate vector * matrix & matrix * vector\n",
    "dotResult4 = model.converter(\"dotResult4\")\n",
    "\n",
    "dotResult4.equation = vectorDot1.dot(matrixDot1)"
   ]
  },
  {
   "cell_type": "markdown",
   "metadata": {},
   "source": [
    "\\begin{equation*}\n",
    "\\begin{pmatrix}\n",
    "1.0 & 2.0 & 3.0 \\\\\n",
    "\\end{pmatrix}\n",
    "\\cdot\n",
    "\\begin{pmatrix}\n",
    "1.0 & 2.0 \\\\\n",
    "3.0 & 4.0 \\\\\n",
    "5.0 & 6.0 \\\\\n",
    "\\end{pmatrix}\n",
    "=\n",
    "\\begin{pmatrix}\n",
    "1.0 \\cdot 1.0 + 2.0 \\cdot 3.0 + 3.0 \\cdot 5.0 \\\\\n",
    "1.0 \\cdot 2.0 + 2.0 \\cdot 4.0 + 3.0 \\cdot 6.0 \\\\\n",
    "\\end{pmatrix}\n",
    "= \n",
    "\\begin{pmatrix}\n",
    "22.0 & 28.0\n",
    "\\end{pmatrix}\n",
    "\\end{equation*}"
   ]
  },
  {
   "cell_type": "code",
   "execution_count": 59,
   "metadata": {},
   "outputs": [
    {
     "name": "stdout",
     "output_type": "stream",
     "text": [
      "[22.0 , 28.0]\n"
     ]
    }
   ],
   "source": [
    "print(\"[\" + str(dotResult4[0](1)) + \" , \" + str(dotResult4[1](1))  + \"]\")\n",
    "\n"
   ]
  },
  {
   "cell_type": "code",
   "execution_count": 60,
   "metadata": {},
   "outputs": [],
   "source": [
    "dotResult4.equation = matrixDot2.dot(vectorDot2)\n"
   ]
  },
  {
   "cell_type": "markdown",
   "metadata": {},
   "source": [
    "\\begin{equation*}\n",
    "\\begin{pmatrix}\n",
    "-1.0 & -2.0 & -3.0 \\\\\n",
    "-4.0 & -5.0 & -6.0 \\\\\n",
    "\\end{pmatrix}\n",
    "\\cdot\n",
    "\\begin{pmatrix}\n",
    "4.0 \\\\\n",
    "5.0 \\\\\n",
    "6.0 \\\\\n",
    "\\end{pmatrix}\n",
    "=\n",
    "\\begin{pmatrix}\n",
    "-1.0 \\cdot 4.0 + (-2.0) \\cdot 5.0 + (-3.0) \\cdot 6.0 \\\\\n",
    "-4.0 \\cdot 4.0 + (-5.0) \\cdot 5.0 + (-6.0) \\cdot 6.0 \\\\\n",
    "\\end{pmatrix}\n",
    "=\n",
    "\\begin{pmatrix}\n",
    "-32.0 \\\\\n",
    "-77.0\n",
    "\\end{pmatrix}\n",
    "\\end{equation*}"
   ]
  },
  {
   "cell_type": "code",
   "execution_count": 61,
   "metadata": {},
   "outputs": [
    {
     "name": "stdout",
     "output_type": "stream",
     "text": [
      "[-32.0 , -77.0]\n"
     ]
    }
   ],
   "source": [
    "print(\"[\" + str(dotResult4[0](1)) + \" , \" + str(dotResult4[1](1)) + \"]\")"
   ]
  },
  {
   "cell_type": "code",
   "execution_count": 62,
   "metadata": {},
   "outputs": [],
   "source": [
    "#Calculate matrix * matrix\n",
    "matrixDot3 = model.converter(\"matrixDot3\")\n",
    "matrixDot3.setup_matrix([2,2],[[1.0, 2.0],\n",
    "                               [3.0, 4.0]])\n",
    "matrixDot4 = model.converter(\"matrixDot4\")\n",
    "matrixDot4.setup_matrix([2,2],[[-1.0, -2.0],\n",
    "                               [-4.0, -5.0]])\n",
    "\n",
    "dotResult5 = model.converter(\"dotResult5\")\n",
    "dotResult5.equation = matrixDot3.dot(matrixDot4)"
   ]
  },
  {
   "cell_type": "markdown",
   "metadata": {},
   "source": [
    "\\begin{equation*}\n",
    "\\begin{aligned}\n",
    "\\begin{pmatrix}\n",
    "1.0 & 2.0 \\\\\n",
    "3.0 & 4.0 \\\\\n",
    "\\end{pmatrix}\n",
    "\\cdot\n",
    "\\begin{pmatrix}\n",
    "-1.0 & -2.0 \\\\\n",
    "-4.0 & -5.0 \\\\\n",
    "\\end{pmatrix}\n",
    "&=\n",
    "\\begin{pmatrix}\n",
    "1.0 \\cdot (-1.0) + 2.0 \\cdot (-4.0) & 1.0 \\cdot (-2.0) + 2.0 \\cdot (-5.0) \\\\\n",
    "3.0 \\cdot (-1.0) + 4.0 \\cdot (-4.0) & 3.0 \\cdot (-2.0) + 4.0 \\cdot (-5.0) \\\\\n",
    "5.0 \\cdot (-1.0) + 6.0 \\cdot (-4.0) & 5.0 \\cdot (-2.0) + 6.0 \\cdot (-5.0) \\\\\n",
    "\\end{pmatrix}\\\\\n",
    "&=\n",
    "\\begin{pmatrix}\n",
    "-9 & -12 \\\\\n",
    "-19 & -26\\\\\n",
    "\\end{pmatrix}\n",
    "\\end{aligned}\n",
    "\\end{equation*}"
   ]
  },
  {
   "cell_type": "code",
   "execution_count": 63,
   "metadata": {},
   "outputs": [
    {
     "name": "stdout",
     "output_type": "stream",
     "text": [
      "[ [-9.0 , -12.0]\n",
      "  [-19.0 , -26.0] ]\n"
     ]
    }
   ],
   "source": [
    "print(\"[ \" + \"[\"    + str(dotResult5[0][0](1)) + \" , \" + str(dotResult5[0][1](1)) + \"]\")\n",
    "print(\"  \" + \"[\"    + str(dotResult5[1][0](1)) + \" , \" + str(dotResult5[1][1](1)) + \"]\" + \" ]\")"
   ]
  },
  {
   "cell_type": "markdown",
   "metadata": {},
   "source": [
    "## Plotting arrayed Components"
   ]
  },
  {
   "cell_type": "markdown",
   "metadata": {},
   "source": [
    "Similar to one-dimensional SD DSL elements, we can also plot these elements.\n",
    "Lets have a look:"
   ]
  },
  {
   "cell_type": "code",
   "execution_count": 64,
   "metadata": {},
   "outputs": [
    {
     "data": {
      "image/png": "[encoded data removed]",
      "text/plain": [
       "<Figure size 2000x1000 with 1 Axes>"
      ]
     },
     "metadata": {},
     "output_type": "display_data"
    }
   ],
   "source": [
    "vector3 = model.converter(\"vector3\")\n",
    "vector3.setup_named_vector({\"value1\": 6.0, \"value2\": 7.0})\n",
    "vector3.plot()"
   ]
  },
  {
   "cell_type": "markdown",
   "metadata": {},
   "source": [
    "As can be seen, both elements of the Vector are plotted. \n",
    "\n",
    "If you want to plot the values of the Matrix, you need to specify the first index."
   ]
  },
  {
   "cell_type": "code",
   "execution_count": 65,
   "metadata": {},
   "outputs": [
    {
     "data": {
      "image/png": "[encoded data removed]",
      "text/plain": [
       "<Figure size 2000x1000 with 1 Axes>"
      ]
     },
     "metadata": {},
     "output_type": "display_data"
    }
   ],
   "source": [
    "matrix3 = model.converter(\"matrix3\")\n",
    "matrix3.setup_named_matrix({\"value1\": {\"value11\": 6.0, \"value12\": 7.0}, \n",
    "                            \"value2\": {\"value21\": 8.0, \"value22\": 9.0}})\n",
    "matrix3[\"value1\"].plot()"
   ]
  },
  {
   "cell_type": "markdown",
   "metadata": {},
   "source": [
    "## A simple Example"
   ]
  },
  {
   "cell_type": "markdown",
   "metadata": {},
   "source": [
    "Lets have a look on a concrete example, how a multidimensional SD Model can look like.\n",
    "\n",
    "Consider an investment depot with two accounts:\n",
    "- bank account\n",
    "- depot account\n",
    "\n",
    "Both accounts will have different deposit rates and different interest rates each year.\n",
    "We want to investigate the value development of the bank account, the depot account and the whole investment depot.\n",
    "\n",
    "Lets set up the model:"
   ]
  },
  {
   "cell_type": "code",
   "execution_count": 66,
   "metadata": {},
   "outputs": [],
   "source": [
    "account = model.stock(\"account\")\n",
    "account.setup_named_vector({\"bank\" : 0.0, \"depot\": 0.0})\n",
    "\n",
    "#define the initial values of the accounts\n",
    "accountInitialValues = model.constant(\"accountInitialValues\")\n",
    "accountInitialValues.setup_named_vector({\"bank\" : 1000.0, \"depot\": 500.0})\n",
    "\n",
    "account[\"bank\"].initial_value = accountInitialValues[\"bank\"]\n",
    "account[\"depot\"].initial_value = accountInitialValues[\"depot\"]\n",
    "##Does not work yet:\n",
    "#account.initial_value = accountInitialValues\n",
    "\n",
    "#define the interest rates\n",
    "interestRate = model.constant(\"interestRate\")\n",
    "interestRate.setup_named_vector({\"bank\" : 0.02, \"depot\": 0.1})\n",
    "\n",
    "#define the deposit rates\n",
    "depositRate = model.constant(\"depositRate\")\n",
    "depositRate.setup_named_vector({\"bank\" : 200.0, \"depot\": 100.0})\n",
    "\n",
    "#define the flows\n",
    "deposit = model.flow(\"deposit\")\n",
    "deposit.equation = depositRate * 1\n",
    "\n",
    "interest = model.flow(\"interest\")\n",
    "interest.equation = account * interestRate\n",
    "\n",
    "#set the equation for the stock value\n",
    "account.equation = deposit + interest\n",
    "\n",
    "#finally define a converter for the total value of the account\n",
    "totalValue = model.converter(\"totalValue\")\n",
    "totalValue.equation = account.arr_sum()"
   ]
  },
  {
   "cell_type": "markdown",
   "metadata": {},
   "source": [
    "As always we define a scenario manager and scenarios:"
   ]
  },
  {
   "cell_type": "code",
   "execution_count": 67,
   "metadata": {},
   "outputs": [],
   "source": [
    "testbptk.register_model(model)\n",
    "scenario_manager = {\n",
    "    \"sm\": {\n",
    "        \"model\": model,\n",
    "        \"base_constants\": {\n",
    "            \"interestRate[bank]\": 0.02,\n",
    "            \"interestRate[depot]\": 0.1,\n",
    "            \"depositRate[bank]\": 200,\n",
    "            \"depositRate[depot]\": 100,\n",
    "            \"accountInitialValues[bank]\": 1000.0,\n",
    "            \"accountInitialValues[depot]\": 500.0\n",
    "        },\n",
    "    }\n",
    "}\n",
    "testbptk.register_scenario_manager(scenario_manager)\n",
    "testbptk.register_scenarios(\n",
    "    scenario_manager=\"sm\",\n",
    "    scenarios=\n",
    "    {\n",
    "        \"base\":{},\n",
    "        \"scenarioHighDepotInterestRate\":{\n",
    "            \"constants\": {\n",
    "                \"interestRate[depot]\": 0.2\n",
    "            }\n",
    "        },\n",
    "        \"scenarioHighDepotDepositRate\":{\n",
    "            \"constants\": {\n",
    "                \"depositRate[depot]\": 250.0\n",
    "            }\n",
    "        },\n",
    "        \"scenarioHighDepotInitialValue\":{\n",
    "            \"constants\": {\n",
    "                \"accountInitialValues[depot]\": 750.0\n",
    "            }\n",
    "        }\n",
    "    }\n",
    ")"
   ]
  },
  {
   "cell_type": "markdown",
   "metadata": {},
   "source": [
    "And plot the results:"
   ]
  },
  {
   "cell_type": "code",
   "execution_count": 68,
   "metadata": {},
   "outputs": [
    {
     "data": {
      "image/png": "[encoded data removed]",
      "text/plain": [
       "<Figure size 2000x1000 with 1 Axes>"
      ]
     },
     "metadata": {},
     "output_type": "display_data"
    }
   ],
   "source": [
    "testbptk.plot_scenarios(\n",
    "    scenarios=[\"base\"],\n",
    "    scenario_managers=\"sm\",\n",
    "    equations=[\"account[bank]\", \"account[depot]\", \"totalValue\"],\n",
    "    series_names={})"
   ]
  },
  {
   "cell_type": "markdown",
   "metadata": {},
   "source": [
    "As always we can compare different scenarios with each other by plotting them simultaneously:"
   ]
  },
  {
   "cell_type": "code",
   "execution_count": 69,
   "metadata": {},
   "outputs": [
    {
     "data": {
      "image/png": "[encoded data removed]",
      "text/plain": [
       "<Figure size 2000x1000 with 1 Axes>"
      ]
     },
     "metadata": {},
     "output_type": "display_data"
    }
   ],
   "source": [
    "testbptk.plot_scenarios(\n",
    "    scenarios=[\"base\", \n",
    "               \"scenarioHighDepotInterestRate\", \n",
    "               \"scenarioHighDepotDepositRate\", \n",
    "               \"scenarioHighDepotInitialValue\"],\n",
    "    scenario_managers=\"sm\",\n",
    "    equations=[\"totalValue\"],\n",
    "    series_names={})"
   ]
  }
 ],
 "metadata": {
  "kernelspec": {
   "display_name": ".venv",
   "language": "python",
   "name": "python3"
  },
  "language_info": {
   "codemirror_mode": {
    "name": "ipython",
    "version": 3
   },
   "file_extension": ".py",
   "mimetype": "text/x-python",
   "name": "python",
   "nbconvert_exporter": "python",
   "pygments_lexer": "ipython3",
   "version": "3.11.11"
  }
 },
 "nbformat": 4,
 "nbformat_minor": 2
}
