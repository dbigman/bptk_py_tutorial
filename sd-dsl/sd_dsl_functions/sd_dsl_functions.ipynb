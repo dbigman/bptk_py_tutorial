{
 "cells": [
  {
   "cell_type": "markdown",
   "metadata": {},
   "source": [
    "---\n",
    "title: SD DSL Functions\n",
    "description: Overview of the SD DSL functions that are part of the BPTK-Py business simulation framework.\n",
    "keywords: system dynamics, systemdynamics, sd dsl, bptk, bptk-py, python, business simulation\n",
    "eval: false\n",
    "---"
   ]
  },
  {
   "cell_type": "markdown",
   "metadata": {},
   "source": [
    "# SD DSL Functions"
   ]
  },
  {
   "cell_type": "markdown",
   "metadata": {},
   "source": [
    "This document illustrates how to use the operators for the SD DSL. To use the operators, you need to import the `sd_functions`, in addition to importing the `Model` class."
   ]
  },
  {
   "cell_type": "code",
   "execution_count": 1,
   "metadata": {},
   "outputs": [],
   "source": [
    "from BPTK_Py import Model\n",
    "from BPTK_Py import sd_functions as sd\n",
    "from BPTK_Py.bptk import bptk\n",
    "import numpy as np\n",
    "bptk=bptk()"
   ]
  },
  {
   "cell_type": "code",
   "execution_count": 2,
   "metadata": {},
   "outputs": [],
   "source": [
    "#| echo: false\n",
    "%matplotlib inline\n",
    "import matplotlib.pyplot as plt\n",
    "plt.rcParams['figure.facecolor'] = 'white'\n",
    "plt.rcParams['axes.facecolor'] = 'white'\n",
    "plt.rcParams['savefig.facecolor'] = 'white'"
   ]
  },
  {
   "cell_type": "markdown",
   "metadata": {},
   "source": [
    "## IF / THEN / ELSE / AND /NOT / OR\n",
    "\n",
    "\n",
    "It is possible to write up if clauses. We even support NOT and AND / OR operators.\n",
    "\n",
    "Please note that these function names begin with a capital letter. This is because the actual words ``if, and, or`` etc. are protected in Python and cannot / should not be overwritten.\n",
    "\n",
    "An if clause requires 3 arguments: ``If ( <condition> , <then>, <else>)``\n",
    "\n",
    "``condition``: Must be a boolean expression, e.g. ``sd.time() > 1`` is true iff the simulation time is larger than 1\n",
    "``then`` : Any expression that returns a float value if the condition is true\n",
    "``else`` : Any expression that returns a float value if the condition is false\n",
    "\n",
    "A simple if clause may look like this:"
   ]
  },
  {
   "cell_type": "code",
   "execution_count": 3,
   "metadata": {},
   "outputs": [],
   "source": [
    "model = Model(starttime=0.0,stoptime=10.0,dt=0.1,name='if')\n",
    "converter = model.converter(\"converter\")\n",
    "converter.equation = sd.If( sd.time()>5, 10, 5 )\n",
    "converter.plot()"
   ]
  },
  {
   "cell_type": "markdown",
   "metadata": {},
   "source": [
    "You see that its value is 5 until ``t`` reaches 6.\n",
    "\n",
    "You can also add ``and`` / ``or`` / ``not`` conditions easily:\n",
    "\n",
    "Signature:\n",
    "``And(<condition1>, <condition2>)`` : Logical and between 2 conditions\n",
    "``Or(<condition1>, <condition2>)`` : Logical or between 2 conditions\n",
    "``Not(<condition>)`` : Logical not: True if condition is False\n",
    "\n",
    "Each condition within the operators has to return a boolean value. Nesting of the operators is easily possible!"
   ]
  },
  {
   "cell_type": "code",
   "execution_count": 4,
   "metadata": {},
   "outputs": [],
   "source": [
    "converter.equation = sd.If( sd.And(sd.time()>5,sd.time()>10), 10, 5 ) # 5 (else case) as long as t <= 10, then 10\n",
    "converter.equation = sd.If( sd.Or( sd.And(sd.time()>5,sd.time()>10), True), 10, 5 ) # Always 10 (then condition, because Or always evaluates to True)\n",
    "converter.plot()"
   ]
  },
  {
   "cell_type": "markdown",
   "metadata": {},
   "source": [
    "## ABS Function"
   ]
  },
  {
   "cell_type": "markdown",
   "metadata": {},
   "source": [
    "The `ABS`function returns the absolute value of its input.\n",
    "\n",
    "Signature: `abs(input)`\n",
    "\n",
    "`input` may be any model element."
   ]
  },
  {
   "cell_type": "code",
   "execution_count": 5,
   "metadata": {},
   "outputs": [],
   "source": [
    "model = Model(starttime=0.0,stoptime=10.0,dt=0.1,name='abs')\n",
    "\n",
    "input_converter = model.converter(\"input_converter\")\n",
    "\n",
    "input_converter.equation=sd.time()-5\n",
    "\n",
    "abs_converter = model.converter(\"abs_converter\")\n",
    "\n",
    "abs_converter.equation = sd.abs(input_converter)\n",
    "\n",
    "bptk.register_model(model)\n",
    "bptk.plot_scenarios(scenario_managers=[\"smAbs\"],scenarios=[\"base\"],equations=[\"input_converter\",\"abs_converter\"])"
   ]
  },
  {
   "cell_type": "markdown",
   "metadata": {},
   "source": [
    "## DELAY Function"
   ]
  },
  {
   "cell_type": "markdown",
   "metadata": {},
   "source": [
    "The DELAY function returns a delayed value of input, using a fixed lag time of delay duration, and an optional initial value initial for the delay. If you don't specify an initial value initial, DELAY assumes the value to be the initial value of input. If you specify delay duration as a variable, the DELAY function uses the initial value for its fixed lag time\n",
    "\n",
    "Signature: `delay(model, input_function, delay_duration, initial_value)`\n",
    "\n",
    "`input_function` must be a model element\n",
    "`delay_duration` and `initial_value` must be floats or model elements.\n"
   ]
  },
  {
   "cell_type": "code",
   "execution_count": 6,
   "metadata": {},
   "outputs": [],
   "source": [
    "model = Model(starttime=0.0,stoptime=10.0,dt=0.5,name='delay')\n",
    "\n",
    "input_function = model.converter(\"input_function\")\n",
    "\n",
    "input_function.equation=sd.time()\n",
    "\n",
    "delayed_input_1 = model.converter(\"delayed_input_1\")\n",
    "delayed_input_2 = model.converter(\"delayed_input_2\")\n",
    "delayed_input_3 = model.converter(\"delayed_input_3\")\n",
    "\n",
    "delayed_input_1.equation = sd.delay(model,input_function, 1.0,1.0)\n",
    "delayed_input_2.equation = sd.delay(model,input_function, 2.0,0.0)\n",
    "delayed_input_3.equation = sd.delay(model,input_function, 2.5,0.5)\n",
    "\n",
    "bptk.register_model(model)\n",
    "bptk.plot_scenarios(\n",
    "    scenario_managers=[\"smDelay\"],\n",
    "    scenarios=[\"base\"],\n",
    "    equations=[\"input_function\",\"delayed_input_1\",\"delayed_input_2\",\"delayed_input_3\"])"
   ]
  },
  {
   "cell_type": "markdown",
   "metadata": {},
   "source": [
    "## DT Function"
   ]
  },
  {
   "cell_type": "markdown",
   "metadata": {},
   "source": [
    "The `DT` function returns the models dt..\n",
    "\n",
    "Signature: `dt(model)`"
   ]
  },
  {
   "cell_type": "code",
   "execution_count": 7,
   "metadata": {},
   "outputs": [],
   "source": [
    "model = Model(starttime=5,stoptime=12,dt=0.25,name='dt')\n",
    "dt = model.converter(\"dt\")\n",
    "dt.equation = sd.dt(model)\n",
    "dt.plot()"
   ]
  },
  {
   "cell_type": "markdown",
   "metadata": {},
   "source": [
    "## EXP Function"
   ]
  },
  {
   "cell_type": "markdown",
   "metadata": {},
   "source": [
    "The `exp` function returns the exponential value of the input.\n",
    "\n",
    "Signature: `exp(element)`\n",
    "\n",
    "`element` can be any model element (stock, flow, converter, constant)"
   ]
  },
  {
   "cell_type": "code",
   "execution_count": 8,
   "metadata": {},
   "outputs": [],
   "source": [
    "model = Model(starttime=0,stoptime=10,dt=0.1,name='exp')\n",
    "\n",
    "growth_rate = model.constant(\"growth_rate\")\n",
    "\n",
    "growth_rate.equation=np.log(2)\n",
    "\n",
    "exp = model.converter(\"exp\")\n",
    "\n",
    "exp.equation = sd.exp(growth_rate*sd.time())\n",
    "\n",
    "exp.plot()"
   ]
  },
  {
   "cell_type": "markdown",
   "metadata": {},
   "source": [
    "## MAX Function"
   ]
  },
  {
   "cell_type": "markdown",
   "metadata": {},
   "source": [
    "The `max` function always chooses the larger of its two input values.\n",
    "\n",
    "Signature: `max(element, element)`\n",
    "\n",
    "`element` can be any model element (stock, flow, converter, constant)"
   ]
  },
  {
   "cell_type": "code",
   "execution_count": 9,
   "metadata": {},
   "outputs": [],
   "source": [
    "model = Model(starttime=0.0,stoptime=10.0,dt=1.0,name='max')"
   ]
  },
  {
   "cell_type": "code",
   "execution_count": 10,
   "metadata": {},
   "outputs": [],
   "source": [
    "a = model.converter(\"a\")"
   ]
  },
  {
   "cell_type": "code",
   "execution_count": 11,
   "metadata": {},
   "outputs": [],
   "source": [
    "a.equation = 5.0+sd.step(5.0, 5.0)"
   ]
  },
  {
   "cell_type": "code",
   "execution_count": 12,
   "metadata": {},
   "outputs": [],
   "source": [
    "a.plot()"
   ]
  },
  {
   "cell_type": "code",
   "execution_count": 13,
   "metadata": {},
   "outputs": [],
   "source": [
    "b = model.converter(\"b\")"
   ]
  },
  {
   "cell_type": "code",
   "execution_count": 14,
   "metadata": {},
   "outputs": [],
   "source": [
    "b.equation= 10.0 - sd.step(5.0, 5.0)"
   ]
  },
  {
   "cell_type": "code",
   "execution_count": 15,
   "metadata": {},
   "outputs": [],
   "source": [
    "b.plot()"
   ]
  },
  {
   "cell_type": "code",
   "execution_count": 16,
   "metadata": {},
   "outputs": [],
   "source": [
    "c = model.converter(\"c\")"
   ]
  },
  {
   "cell_type": "code",
   "execution_count": 17,
   "metadata": {},
   "outputs": [],
   "source": [
    "c.equation=sd.max(a,b)"
   ]
  },
  {
   "cell_type": "code",
   "execution_count": 18,
   "metadata": {},
   "outputs": [],
   "source": [
    "bptk.register_model(model)\n",
    "bptk.plot_scenarios(scenario_managers=[\"smMax\"],scenarios=[\"base\"],equations=[\"a\",\"b\",\"c\"])"
   ]
  },
  {
   "cell_type": "markdown",
   "metadata": {},
   "source": [
    "## MIN Function"
   ]
  },
  {
   "cell_type": "markdown",
   "metadata": {},
   "source": [
    "The `min` function always chooses the smaller of its two input values.\n",
    "\n",
    "Signature: `min(element, element)`\n",
    "\n",
    "`element` can be any model element (stock, flow, converter, constant)"
   ]
  },
  {
   "cell_type": "code",
   "execution_count": 19,
   "metadata": {},
   "outputs": [],
   "source": [
    "model = Model(starttime=0,stoptime=10,dt=1,name='min')\n",
    "\n",
    "a = model.converter(\"a\")\n",
    "\n",
    "a.equation = 5.0+sd.step(5.0, 5.0)\n",
    "\n",
    "b = model.converter(\"b\")\n",
    "\n",
    "b.equation= 10.0 - sd.step(5.0, 5.0)\n",
    "\n",
    "c = model.converter(\"c\")\n",
    "\n",
    "c.equation = sd.min(a,b)\n",
    "\n",
    "bptk.register_model(model)\n",
    "bptk.plot_scenarios(scenario_managers=[\"smMin\"],scenarios=[\"base\"],equations=[\"a\",\"b\",\"c\"])"
   ]
  },
  {
   "cell_type": "markdown",
   "metadata": {},
   "source": [
    "## PULSE Function"
   ]
  },
  {
   "cell_type": "markdown",
   "metadata": {},
   "source": [
    "The `PULSE` function generates a pulse input of a specified size (volume). When using the PULSE builtin, you have the option of setting the time at which the PULSE will first fire (first pulse), as well as the interval between subsequent PULSEs. Each time that it fires a pulse, the framework pulses the specified volume over a period of one time step (DT). Thus, the instantaneous value taken on by the PULSE function is volume/DT. \n",
    "\n",
    "Signature: `pulse(model, volume, first_pulse=0, interval=0)`\n",
    "\n",
    "Setting `interval` to 0 yields a single pulse that doesn't repeat\n",
    "\n",
    "`volume` can be either a variable or a constant, `first_pulse` and `interval` must be constants.\n",
    "\n"
   ]
  },
  {
   "cell_type": "code",
   "execution_count": 20,
   "metadata": {},
   "outputs": [],
   "source": [
    "model = Model(starttime=0.0,stoptime=10.0,dt=0.25,name='pulse')\n",
    "\n",
    "stock = model.stock(\"stock\")\n",
    "stock.initial_value=0.0\n",
    "\n",
    "flow = model.flow(\"flow\")\n",
    "flow.equation=sd.pulse(model,10.0,2.0,2.0)\n",
    "\n",
    "stock.equation = flow\n",
    "\n",
    "bptk.register_model(model)\n",
    "bptk.plot_scenarios(scenario_managers=[\"smPulse\"],scenarios=[\"base\"],equations=[\"stock\",\"flow\"])"
   ]
  },
  {
   "cell_type": "markdown",
   "metadata": {},
   "source": [
    "## SMOOTH Function"
   ]
  },
  {
   "cell_type": "markdown",
   "metadata": {},
   "source": [
    "The SMOOTH function calculates the exponential average of the input, given the input function, an initial value and an averaging time. \n",
    "\n",
    "Signature: `smooth(model, input_function, averaging_time, initial_value)`\n",
    "\n",
    "`model`: The model you are writing equations for\n",
    "\n",
    "`input_function`: any model element\n",
    "\n",
    "`averaging_time`: any model element\n",
    "\n",
    "`initial_value`: a floating point value or constant\n",
    "\n",
    "The SMOOTH operator is a shorthand for the following stock and flow structure and equations:\n",
    "\n",
    "![Stock and Flow Structure for the TREND Operator](smooth_model.png)\n",
    "\n"
   ]
  },
  {
   "cell_type": "code",
   "execution_count": 21,
   "metadata": {},
   "outputs": [],
   "source": [
    "model = Model(starttime=1.0,stoptime=10.0,dt=0.1,name='smooth')\n",
    "input_function = model.converter(\"input_function\")\n",
    "input_function.equation=sd.step(10.0,3.0)\n",
    "smooth = model.converter(\"smooth\")\n",
    "smooth.equation=sd.smooth(model, input_function,2.0,0.0)\n",
    "bptk.register_model(model)\n",
    "bptk.plot_scenarios(scenario_managers=[\"smSmooth\"],scenarios=[\"base\"],equations=[\"input_function\",\"smooth\"])"
   ]
  },
  {
   "cell_type": "markdown",
   "metadata": {},
   "source": [
    "## STARTTIME Function"
   ]
  },
  {
   "cell_type": "markdown",
   "metadata": {},
   "source": [
    "The `STARTTIME` function returns the models starttime.\n",
    "\n",
    "Signature: `starttime(model)`"
   ]
  },
  {
   "cell_type": "code",
   "execution_count": 22,
   "metadata": {},
   "outputs": [],
   "source": [
    "model = Model(starttime=5,stoptime=12,dt=1,name='starttime')\n",
    "starttime = model.converter(\"starttime\")\n",
    "starttime.equation = sd.starttime(model)\n",
    "starttime.plot()"
   ]
  },
  {
   "cell_type": "markdown",
   "metadata": {},
   "source": [
    "## STOPTIME Function"
   ]
  },
  {
   "cell_type": "markdown",
   "metadata": {},
   "source": [
    "The `STOPTIME` function returns the models starttime.\n",
    "\n",
    "Signature: `stoptime(model)`"
   ]
  },
  {
   "cell_type": "code",
   "execution_count": 23,
   "metadata": {},
   "outputs": [],
   "source": [
    "model = Model(starttime=5,stoptime=12,dt=1,name='stoptime')\n",
    "stoptime = model.converter(\"stoptime\")\n",
    "stoptime.equation = sd.stoptime(model)\n",
    "stoptime.plot()"
   ]
  },
  {
   "cell_type": "markdown",
   "metadata": {},
   "source": [
    "## STEP Function"
   ]
  },
  {
   "cell_type": "markdown",
   "metadata": {},
   "source": [
    "The STEP function generates a change of specified height, which occurs at a specified time. \n",
    "\n",
    "Signature: `step(height, timestep)`\n",
    "\n",
    "`input_function`: any model element or a floating point number\n",
    "\n",
    "`averaging_time`: any model element or a floating point numnber\n",
    "\n",
    "`initial_value`: a floating point value or a constant\n"
   ]
  },
  {
   "cell_type": "code",
   "execution_count": 24,
   "metadata": {},
   "outputs": [],
   "source": [
    "model = Model(starttime=1,stoptime=10,dt=1,name='step')\n",
    "\n",
    "step = model.converter(\"step\")\n",
    "step.equation=sd.step(10.0,5.0)"
   ]
  },
  {
   "cell_type": "code",
   "execution_count": 25,
   "metadata": {},
   "outputs": [],
   "source": [
    "step.plot()"
   ]
  },
  {
   "cell_type": "markdown",
   "metadata": {},
   "source": [
    "## TIME Function"
   ]
  },
  {
   "cell_type": "markdown",
   "metadata": {},
   "source": [
    "The `time` function returns the current simulation time.\n",
    "\n",
    "Signature: `time()`"
   ]
  },
  {
   "cell_type": "code",
   "execution_count": 26,
   "metadata": {},
   "outputs": [],
   "source": [
    "model = Model(starttime=0,stoptime=10,dt=1,name='time')\n",
    "\n",
    "stock = model.stock(\"stock\")\n",
    "\n",
    "stock.initial_value=0.0\n",
    "\n",
    "inflow = model.flow(\"inflow\")\n",
    "\n",
    "inflow.equation = sd.time()\n",
    "\n",
    "stock.equation = inflow\n",
    "\n",
    "inflow.plot()"
   ]
  },
  {
   "cell_type": "markdown",
   "metadata": {},
   "source": [
    "## TREND Function"
   ]
  },
  {
   "cell_type": "markdown",
   "metadata": {},
   "source": [
    "The TREND function calculates the trend in the input, given the input, an initial value and an averaging time. The TREND is defined to be the fractional change in input compared to the exponential average of input per averaging time. The TREND function thus estimates the growth rate of is input function.\n",
    "\n",
    "\n",
    "Signature: `trend(model, input_function, averaging_time, initial_value)`\n",
    "\n",
    "`model`: The model you are writing equations for\n",
    "\n",
    "`input_function`: any model element\n",
    "\n",
    "`averaging_time`: any model element\n",
    "\n",
    "`initial_value`: a floating point value or constant\n",
    "\n",
    "The TREND operator is a shorthand for the following stock and flow structure and equations:\n",
    "\n",
    "![Stock and Flow Structure for the TREND Operator](trend_model.png)\n",
    "\n"
   ]
  },
  {
   "cell_type": "code",
   "execution_count": 27,
   "metadata": {},
   "outputs": [],
   "source": [
    "model = Model(starttime=1,stoptime=10,dt=0.01,name='trend')\n",
    "\n",
    "growth_rate = model.constant(\"growth_rate\")\n",
    "\n",
    "growth_rate.equation=np.log(2)\n",
    "\n",
    "input_function = model.converter(\"input_function\")\n",
    "\n",
    "input_function.equation = sd.exp(growth_rate*sd.time())\n",
    "\n",
    "\n",
    "trend = model.converter(\"trend\")\n",
    "\n",
    "trend.equation = sd.trend(model,input_function,1.0,2/(1+np.log(2))) "
   ]
  },
  {
   "cell_type": "markdown",
   "metadata": {},
   "source": [
    "As an example, we set up a small model that has an input function that doubles every timestep - i.e the exponential growth rate is log 2 ≈ 0.69 and then apply the trend function to estimate the growth rate.\n",
    "\n",
    "Here is a plot of the growth rate, which is constant:"
   ]
  },
  {
   "cell_type": "code",
   "execution_count": 28,
   "metadata": {},
   "outputs": [],
   "source": [
    "growth_rate.plot()"
   ]
  },
  {
   "cell_type": "markdown",
   "metadata": {},
   "source": [
    "This gives an input function which doubles in value on every timestep:"
   ]
  },
  {
   "cell_type": "code",
   "execution_count": 29,
   "metadata": {},
   "outputs": [],
   "source": [
    "input_function.plot()"
   ]
  },
  {
   "cell_type": "markdown",
   "metadata": {},
   "source": [
    "As expexted, the plot of the trend function converges to the input growth rate:"
   ]
  },
  {
   "cell_type": "code",
   "execution_count": 30,
   "metadata": {},
   "outputs": [],
   "source": [
    "trend.plot()"
   ]
  },
  {
   "cell_type": "markdown",
   "metadata": {},
   "source": [
    "## ROUND Function\n",
    "\n",
    "This function rounds any input to a specified number of digits.\n",
    "\n",
    "Signature:\n",
    "``round(expression, digits)``\n",
    "\n",
    "``expression`` can be any float input by any expression.\n",
    "``digits`` must be an int value\n",
    "\n",
    "A minimal example that rounds random numbers between 0 and 2 to 0 digits (int number):"
   ]
  },
  {
   "cell_type": "code",
   "execution_count": 31,
   "metadata": {},
   "outputs": [],
   "source": [
    "model = Model(starttime=0.0,stoptime=10.0,dt=0.25,name='round')\n",
    "flow = model.flow(\"round\")\n",
    "flow.equation = sd.round( sd.random(0, 2), 0 )\n",
    "flow.plot()"
   ]
  },
  {
   "cell_type": "markdown",
   "metadata": {},
   "source": [
    "## SQRT\n",
    "Computes the Square root of an input expression.\n",
    "\n",
    "Signature:\n",
    "``sqrt(expression)``\n",
    "\n",
    "``expression`` can be any element that returns a float value.\n",
    "\n",
    "Simple Example:"
   ]
  },
  {
   "cell_type": "code",
   "execution_count": 32,
   "metadata": {},
   "outputs": [],
   "source": [
    "m= Model(starttime=0,stoptime=10,dt=1)\n",
    "f = m.flow(name=\"sqrt\")\n",
    "\n",
    "val = sd.time() \n",
    "\n",
    "f.equation = sd.sqrt(val)\n",
    "f.plot()"
   ]
  },
  {
   "cell_type": "markdown",
   "metadata": {},
   "source": [
    "## NAN / INF / PI\n",
    "\n",
    "``sd.nan()`` returns a NAN value, ``sd.Inf()`` gives you the infinity value, ```sd.pi()``` returns the number pi."
   ]
  },
  {
   "cell_type": "markdown",
   "metadata": {},
   "source": [
    "\n",
    "\n",
    "## SIN / TAN / COS and ARCCOS / ARCSIN / ARCTAN\n",
    "\n",
    "The SD DSl supports all trigonometric that you are also used to from other SD simulation / modelling tools\n",
    "\n",
    "Use ``sd.sin(x) / sd.cos(x) / sd.tan(x)`` for sinus, cosinus or tangent of x (radians) and ``sd.arcsin(x) / sd.arctan(x) / sd.arccos(x)`` for the respective arctan / arccos and arcsine operators.\n",
    "\n",
    "Let's easily plot sin / cos and tan for the current simulation time:"
   ]
  },
  {
   "cell_type": "code",
   "execution_count": 33,
   "metadata": {},
   "outputs": [],
   "source": [
    "m= Model(starttime=0,stoptime=10,dt=0.1)\n",
    "sin = m.flow(name=\"sin\")\n",
    "tan = m.flow(name=\"tan\")\n",
    "cos = m.flow(name=\"cos\")\n",
    "x = sd.time() \n",
    "\n",
    "sin.equation = sd.sin(x)\n",
    "tan.equation = sd.tan(x)\n",
    "cos.equation = sd.cos(x)\n",
    "\n",
    "sin.plot()\n",
    "tan.plot()\n",
    "cos.plot()"
   ]
  },
  {
   "cell_type": "markdown",
   "metadata": {},
   "source": [
    "## SINWAVE and COSWAVE function\n",
    "\n",
    "SINWAVE returns a time-dependent sine wave, with the specified amplitude and period. To generate the sine wave, the SINWAVE builtin uses the absolute value of the amplitude you specify. To produce meaningful wave results, choose a DT that's significantly smaller than the period of the wave. A DT equal to a quarter of the period gives triangle waves. A smaller DT gives results which better approximate a continuous curve.\n",
    "\n",
    "COSWAVE generates a time-dependent __cosine__ wave. It uses the same arguments\n",
    "\n",
    "Signature:\n",
    "``sinwave(amplitude,period)``\n",
    "\n",
    "``amplitude`` : Amplitude of the sine wave\n",
    "``period`` : Period of the sine wave\n",
    "\n",
    "Example:"
   ]
  },
  {
   "cell_type": "code",
   "execution_count": 34,
   "metadata": {},
   "outputs": [],
   "source": [
    "m= Model(starttime=0,stoptime=10,dt=0.1)\n",
    "f = m.flow(name=\"sinwave\")\n",
    "g = m.flow(\"coswave\")\n",
    "amplitude = 10\n",
    "period = 5\n",
    "\n",
    "f.equation = sd.sinwave(amplitude, period)\n",
    "g.equation = sd.coswave(amplitude, period)\n",
    "f.plot()\n",
    "g.plot()"
   ]
  },
  {
   "cell_type": "markdown",
   "metadata": {},
   "source": [
    "## BETA Function\n",
    "The BETA operator generates a series of random numbers that conforms to a beta distribution defined by two shape arguments, ``alpha`` and ``beta``.\n",
    "\n",
    "Example:"
   ]
  },
  {
   "cell_type": "code",
   "execution_count": 35,
   "metadata": {},
   "outputs": [],
   "source": [
    "m= Model(starttime=0,stoptime=10,dt=0.1)\n",
    "f = m.flow(name=\"beta\")\n",
    "alpha = 1\n",
    "beta = 2\n",
    "f.equation = sd.beta(alpha, beta)\n",
    "f.plot()"
   ]
  },
  {
   "cell_type": "markdown",
   "metadata": {},
   "source": [
    "## BINOMIAL\n",
    "This operator generates a series of random numbers from a discrete probability distribution of the number of successes in a sequence of trials with a given success probability. The success probability should be a number between 0 and 1.\n",
    "\n",
    "Arguments are ``number of trials (n)`` and ``success probability (p)``.\n",
    "\n",
    "A quick example:"
   ]
  },
  {
   "cell_type": "code",
   "execution_count": 36,
   "metadata": {},
   "outputs": [],
   "source": [
    "m= Model(starttime=0,stoptime=10,dt=0.1)\n",
    "f = m.flow(name=\"binomial\")\n",
    "n = 100\n",
    "p = 0.1\n",
    "f.equation = sd.binomial(n, p)\n",
    "f.plot()"
   ]
  },
  {
   "cell_type": "markdown",
   "metadata": {},
   "source": [
    "## COMBINATIONS\n",
    "The COMBINATIONS operator calculates the number of r-element subsets (or r-combinations) of an n-element set without repetition.\n",
    "\n",
    "Arguments ``n`` and ``r`` must follow n >= r >= 0.\n",
    "\n",
    "Example with ``time`` as ``n``:"
   ]
  },
  {
   "cell_type": "code",
   "execution_count": 37,
   "metadata": {},
   "outputs": [],
   "source": [
    "m= Model(starttime=3,stoptime=10,dt=1)\n",
    "f = m.flow(name=\"combinations\")\n",
    "n = sd.time()\n",
    "r = 1\n",
    "f.equation = sd.combinations(n,r)\n",
    "f.plot()"
   ]
  },
  {
   "cell_type": "markdown",
   "metadata": {},
   "source": [
    "## EXPRND Function\n",
    "This operator generates a series of exponentially distributed random numbers with a given ``mean``.\n",
    "\n",
    "Example:"
   ]
  },
  {
   "cell_type": "code",
   "execution_count": 38,
   "metadata": {},
   "outputs": [],
   "source": [
    "m= Model(starttime=0,stoptime=10,dt=0.1)\n",
    "f = m.flow(name=\"exprnd\")\n",
    "\n",
    "mean = sd.time()\n",
    "f.equation = sd.exprnd(mean)\n",
    "f.plot()\n"
   ]
  },
  {
   "cell_type": "markdown",
   "metadata": {},
   "source": [
    "## FACTORIAL Function\n",
    "The FACTORIAL function calculates the factorial of the single argument ``n`` (traditionally noted as n!). ``n`` must be an integer value, decimal values are not allowed.\n",
    "\n",
    "Example:"
   ]
  },
  {
   "cell_type": "code",
   "execution_count": 39,
   "metadata": {},
   "outputs": [],
   "source": [
    "m= Model(starttime=0,stoptime=10,dt=0.1)\n",
    "f = m.flow(name=\"factorial\")\n",
    "\n",
    "n = 5\n",
    "\n",
    "f.equation = sd.factorial(n)\n",
    "f.plot()"
   ]
  },
  {
   "cell_type": "markdown",
   "metadata": {},
   "source": [
    "## GAMMA Function\n",
    "The GAMMA builtin generates a series of random numbers that conforms to a gamma distribution with the specified ``shape`` and ``scale``. If unspecified, ``scale`` uses the value 1.0\n",
    "\n",
    "Example:"
   ]
  },
  {
   "cell_type": "code",
   "execution_count": 40,
   "metadata": {},
   "outputs": [],
   "source": [
    "m= Model(starttime=0,stoptime=10,dt=0.1)\n",
    "f = m.flow(name=\"gamma\")\n",
    "\n",
    "shape = 10\n",
    "scale = sd.time()\n",
    "\n",
    "f.equation = sd.gamma(shape, scale)\n",
    "f.plot()\n"
   ]
  },
  {
   "cell_type": "markdown",
   "metadata": {},
   "source": [
    "## GAMMALN Function\n",
    "\n",
    "The GAMMALN operator returns the natural log of the GAMMA function, given input n. The GAMMA function is a continuous version of the FACTORIAL builtin, with GAMMA(n) the same as FACTORIAL(n-1).\n",
    "\n",
    "Only argument is ``n``"
   ]
  },
  {
   "cell_type": "code",
   "execution_count": 41,
   "metadata": {},
   "outputs": [],
   "source": [
    "m= Model(starttime=0,stoptime=10,dt=0.1)\n",
    "f = m.flow(name=\"gammaln\")\n",
    "\n",
    "n = sd.time()\n",
    "f.equation = sd.gammaln(n)\n",
    "f.plot()"
   ]
  },
  {
   "cell_type": "markdown",
   "metadata": {},
   "source": [
    "## GEOMETRIC Function\n",
    "\n",
    "The GEOMETRIC operator generates a series of random numbers from a discrete probability distribution of the number of trials before the first success with a given ``success probability (p)``.\n",
    "\n",
    "``p`` is the only parameter. It should be any value between 0 and 1.\n",
    "\n",
    "Example:"
   ]
  },
  {
   "cell_type": "code",
   "execution_count": 42,
   "metadata": {},
   "outputs": [],
   "source": [
    "m= Model(starttime=0,stoptime=10,dt=0.1)\n",
    "f = m.flow(name=\"geometric\")\n",
    "\n",
    "p = 0.1\n",
    "\n",
    "f.equation = sd.geometric(p)\n",
    "f.plot()"
   ]
  },
  {
   "cell_type": "markdown",
   "metadata": {},
   "source": [
    "## INVNORM Function\n",
    "\n",
    "The INVNORM operator calculates the inverse of the NORMALCDF function (see below).\n",
    "\n",
    "Parameter is the ``probability p`` (any value between 0 and 1).\n",
    "\n",
    "Example:"
   ]
  },
  {
   "cell_type": "code",
   "execution_count": 43,
   "metadata": {},
   "outputs": [],
   "source": [
    "m= Model(starttime=-0.5,stoptime=1,dt=0.1)\n",
    "f = m.flow(name=\"invnorm\")\n",
    "\n",
    "p = sd.time()\n",
    "\n",
    "f.equation = sd.invnorm(p)\n",
    "f.plot()"
   ]
  },
  {
   "cell_type": "markdown",
   "metadata": {},
   "source": [
    "## LOGISTIC Function\n",
    "\n",
    "The LOGISTIC operator generates a series of random numbers that conforms to a logistic distribution with a specified ``mean`` and ``scale``.\n",
    "\n",
    "Example:"
   ]
  },
  {
   "cell_type": "code",
   "execution_count": 44,
   "metadata": {},
   "outputs": [],
   "source": [
    "m= Model(starttime=-1,stoptime=10,dt=0.1)\n",
    "f = m.flow(name=\"logistic\")\n",
    "\n",
    "mean = 0\n",
    "scale = 1\n",
    "\n",
    "f.equation = sd.logistic(mean, scale)\n",
    "f.plot()"
   ]
  },
  {
   "cell_type": "markdown",
   "metadata": {},
   "source": [
    "## LOGNORMAL Function\n",
    "The LOGNORMAL operator generates a series of random numbers that conform to a Log-Normal distribution (that is, the log of the independent variable follows a normal distribution) with a specified mean and stddev (standard deviation). LOGNORMAL samples a new random number in each iteration of a simulation. \n",
    "\n",
    "Arguments are ``mean`` and ``standard deviation``\n",
    "\n",
    "Example:"
   ]
  },
  {
   "cell_type": "code",
   "execution_count": 45,
   "metadata": {},
   "outputs": [],
   "source": [
    "m= Model(starttime=0,stoptime=10,dt=0.1)\n",
    "f = m.flow(name=\"lognormal\")\n",
    "\n",
    "mean = 0\n",
    "stdev = 1\n",
    "f.equation = sd.lognormal(mean, stdev)\n",
    "f.plot()"
   ]
  },
  {
   "cell_type": "markdown",
   "metadata": {},
   "source": [
    "## MONTECARLO Function\n",
    "The MONTECARLO operator randomly generates a series of zeros and ones from a Bernoulli distribution based on the probability you've provided. The probability is the percentage probability of an event happening per unit of simulation time. The probability value can be either a variable or a constant, but should evaluate to a number between 0 and 100.\n",
    "\n",
    "MONTECARLO is equivalent to the following logic:\n",
    "\n",
    "IF (RANDOM(0,100,<seed>) < probability*DT THEN 1 ELSE 0\n",
    "    \n",
    "Example:"
   ]
  },
  {
   "cell_type": "code",
   "execution_count": 46,
   "metadata": {},
   "outputs": [],
   "source": [
    "m= Model(starttime=0,stoptime=10,dt=0.1)\n",
    "f = m.flow(name=\"montecarlo\")\n",
    "\n",
    "probability = 50\n",
    "f.equation = sd.montecarlo(probability)\n",
    "f.plot()"
   ]
  },
  {
   "cell_type": "markdown",
   "metadata": {},
   "source": [
    "## NORMAL Function\n",
    "The NORMAL operator generates a series of normally distributed random numbers with a specified mean and stddev (standard deviation).\n",
    "\n",
    "Arguments are ``mean`` and the ``standard deviation`` of the underlying normal distribution.\n",
    "\n",
    "Example:"
   ]
  },
  {
   "cell_type": "code",
   "execution_count": 47,
   "metadata": {},
   "outputs": [],
   "source": [
    "m= Model(starttime=0,stoptime=10,dt=1)\n",
    "f = m.flow(name=\"normal\")\n",
    "\n",
    "mean = 0\n",
    "stdev = 1\n",
    "f.equation = sd.normal(mean, stdev)\n",
    "f.plot()"
   ]
  },
  {
   "cell_type": "markdown",
   "metadata": {},
   "source": [
    "## NORMALCDF Function\n",
    "The NORMALCDF operator calculates the cumulative Normal distribution function between the specified z-scores, or, when the mean and stddev (standard deviation) are given, between two data values. \n",
    "\n",
    "Arguments are the ``left`` and ``right`` boundaries and optionally ``mean`` and ``stddev``. If not given, mean will be set to 0, stddev to 1.\n",
    "\n",
    "A really simple example:"
   ]
  },
  {
   "cell_type": "code",
   "execution_count": 48,
   "metadata": {},
   "outputs": [],
   "source": [
    "m= Model(starttime=-4,stoptime=4,dt=0.1)\n",
    "f = m.flow(name=\"normalCDF\")\n",
    "left = -4\n",
    "right = sd.time()\n",
    "mean = 0\n",
    "stddev = 1\n",
    "f.equation = sd.normalcdf(left, right, mean, stddev)\n",
    "f.plot()"
   ]
  },
  {
   "cell_type": "markdown",
   "metadata": {},
   "source": [
    "## PARETO Function\n",
    "The PARETO operator generates a series of random numbers that conforms to a distribution whose log is exponentially distributed with a specified shape and scale\n",
    "\n",
    "Arguments are ``shape`` and ``scale``.\n",
    "\n",
    "Example:"
   ]
  },
  {
   "cell_type": "code",
   "execution_count": 49,
   "metadata": {},
   "outputs": [],
   "source": [
    "m= Model(starttime=1,stoptime=10,dt=0.1)\n",
    "f = m.flow(name=\"pareto\")\n",
    "shape = 1\n",
    "scale = 1\n",
    "\n",
    "f.equation = sd.pareto(shape, scale)\n",
    "f.plot()"
   ]
  },
  {
   "cell_type": "markdown",
   "metadata": {},
   "source": [
    "## PERMUTATIONS\n",
    "The PERMUTATIONS operator calculates the number of permutations of an n-element set with r-element subsets.\n",
    "\n",
    "Arguments are ``n`` and ``r``. Note that both numbers should be integer values and must follow n >= r >= 0.\n",
    "\n",
    "Example:"
   ]
  },
  {
   "cell_type": "code",
   "execution_count": 50,
   "metadata": {},
   "outputs": [],
   "source": [
    "m= Model(starttime=1,stoptime=10,dt=0.1)\n",
    "f = m.flow(name=\"permutations\")\n",
    "n = 7.0\n",
    "r = 3\n",
    "\n",
    "f.equation = sd.permutations(n, r)\n",
    "f.plot()"
   ]
  },
  {
   "cell_type": "markdown",
   "metadata": {},
   "source": [
    "## POISSON Function\n",
    "The POISSON operator generates a series of random numbers that conform to a Poisson distribution. The mean value of the output is mu * DT.\n",
    "\n",
    "Only argument is ``mu``, a float or integer number or any operator that returns a number.\n",
    "\n",
    "Example (with an increasing ``mu`` expressed as the current simulation time):"
   ]
  },
  {
   "cell_type": "code",
   "execution_count": 51,
   "metadata": {},
   "outputs": [],
   "source": [
    "m= Model(starttime=1,stoptime=10,dt=0.1)\n",
    "f = m.flow(name=\"poisson\")\n",
    "mu = sd.time()\n",
    "\n",
    "f.equation = sd.poisson(mu)\n",
    "f.plot()"
   ]
  },
  {
   "cell_type": "markdown",
   "metadata": {},
   "source": [
    "## RANDOM / UNIFORM Function\n",
    "\n",
    "RANDOM and UNIFORM both draw a random number between a minimum and maximum value that conforms to a uniform distribution. For compatibility to modelling practices, we included both into the SD DSL (just as the Stella Architect builtins).\n",
    "\n",
    "Arguments are the ``min_value`` and ``max_value`` between which the random number should lie. If not given, the random number is between 0 and 1.\n",
    "\n",
    "Simple example where the number always lies between DT and the current simulation time:"
   ]
  },
  {
   "cell_type": "code",
   "execution_count": 52,
   "metadata": {},
   "outputs": [],
   "source": [
    "m= Model(starttime=1,stoptime=10,dt=0.1)\n",
    "f = m.flow(name=\"uniform / random\")\n",
    "min_value = 0.1\n",
    "max_value = sd.time()\n",
    "\n",
    "f.equation = sd.random(min_value, max_value)\n",
    "f.plot()"
   ]
  },
  {
   "cell_type": "markdown",
   "metadata": {},
   "source": [
    "## TRIANGULAR Function\n",
    "The TRIANGULAR operator generates a series of random numbers that conforms to a triangular distribution with a specified ``lower bound``, ``mode``, and ``upper bound``.\n",
    "\n",
    "A simple example with the current simulation time as upper bound:"
   ]
  },
  {
   "cell_type": "code",
   "execution_count": 53,
   "metadata": {},
   "outputs": [],
   "source": [
    "m= Model(starttime=1,stoptime=10,dt=0.1)\n",
    "f = m.flow(name=\"triangular\")\n",
    "lower_bound = 0\n",
    "mode = 1\n",
    "upper_bound = sd.time()\n",
    "\n",
    "f.equation = sd.triangular(lower_bound, mode, upper_bound)\n",
    "f.plot()"
   ]
  },
  {
   "cell_type": "markdown",
   "metadata": {},
   "source": [
    "## WEIBULL Function\n",
    "The WEIBULL operator generates a series of random numbers that conforms to a Weibull distribution with the specified ``shape`` and ``scale``.\n",
    "\n",
    "Let's create a quick example with ``scale`` set to the current simulation time:"
   ]
  },
  {
   "cell_type": "code",
   "execution_count": 54,
   "metadata": {},
   "outputs": [],
   "source": [
    "m= Model(starttime=1,stoptime=10,dt=0.1)\n",
    "f = m.flow(name=\"weibull\")\n",
    "shape = 1\n",
    "scale = sd.time()\n",
    "\n",
    "f.equation = sd.weibull(shape, scale)\n",
    "f.plot()"
   ]
  }
 ],
 "metadata": {
  "kernelspec": {
   "display_name": "Python 3.9.7 ('bptk')",
   "language": "python",
   "name": "python3"
  },
  "language_info": {
   "codemirror_mode": {
    "name": "ipython",
    "version": 3
   },
   "file_extension": ".py",
   "mimetype": "text/x-python",
   "name": "python",
   "nbconvert_exporter": "python",
   "pygments_lexer": "ipython3",
   "version": "3.10.4"
  },
  "vscode": {
   "interpreter": {
    "hash": "094f0201946c9f644460566ecd8cf4651564f333550d4a1d3e02e23cab5f01d1"
   }
  }
 },
 "nbformat": 4,
 "nbformat_minor": 4
}
