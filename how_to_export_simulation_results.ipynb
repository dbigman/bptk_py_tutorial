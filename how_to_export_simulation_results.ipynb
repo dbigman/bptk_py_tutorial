{
 "cells": [
  {
   "cell_type": "markdown",
   "metadata": {},
   "source": [
    "# Export Simulation Results"
   ]
  },
  {
   "cell_type": "code",
   "execution_count": 25,
   "metadata": {},
   "outputs": [],
   "source": [
    "## Load the BPTK Package\n",
    "from BPTK_Py.bptk import bptk \n",
    "\n",
    "bptk = bptk()"
   ]
  },
  {
   "cell_type": "code",
   "execution_count": 14,
   "metadata": {},
   "outputs": [],
   "source": [
    "import pandas as pd\n",
    "import numpy as numpy"
   ]
  },
  {
   "cell_type": "code",
   "execution_count": 3,
   "metadata": {},
   "outputs": [],
   "source": [
    "def export_scenarios(scenario_manager, scenarios=[], equations, interactive_scenario=None, interactive_settings=[],time_column_name=\"time\", scenario_column_name=\"scenario\",filename):\n",
    "    manager=bptk.scenario_manager_factory.get_scenario_managers(scenario_managers_to_filter=[scenario_manager])[scenario_manager]\n",
    "    \n",
    "    # if no scenarios are passed we export all scenarios\n",
    "    if scenarios==[]:\n",
    "        scenarios = manager.get_scenario_names()\n",
    "    # collect the scenarios, add a new column to include the scenario name and a new column for the time time dimension  \n",
    "    scenario_dfs=[]\n",
    "    for scenario in scenarios:\n",
    "        df = bptk.plot_scenarios(scenario_managers=[scenario_manager],scenarios=[scenario],equations=equations,return_df=True)\n",
    "        df[scenario_column_name]=[scenario]*len(df.index)\n",
    "        df[time_column_name]=df.index\n",
    "        scenario_dfs += [df]\n",
    "    scenarios_tab = pd.concat(scenario_dfs, ignore_index=True, sort=False) \n",
    "    scenarios_tab.to_excel(filename, sheet_name='scenarios')\n",
    "    # now generate the data for the interactive scenarios\n",
    "    interactive_dfs=[]\n",
    "    # generate all combinations of the settings\n",
    "    settings=[]\n",
    "    setting_index=0\n",
    "    for setting in interactive_settings:\n",
    "        for n in range(*setting[\"range\"]):\n",
    "            settings[setting_index][setting[\"name\"]]=n\n",
    "    \n",
    "    \n",
    "    "
   ]
  },
  {
   "cell_type": "code",
   "execution_count": 4,
   "metadata": {},
   "outputs": [],
   "source": [
    "df=export_scenarios(\"smCustomerAcquisition\",[\"customers\",\"profit\"])"
   ]
  },
  {
   "cell_type": "code",
   "execution_count": 5,
   "metadata": {},
   "outputs": [],
   "source": [
    "df.to_excel('/Users/olivergrasl/Desktop/test.xlsx', sheet_name='scenarios')"
   ]
  },
  {
   "cell_type": "code",
   "execution_count": 28,
   "metadata": {},
   "outputs": [],
   "source": [
    "settings=[\n",
    "    {\n",
    "        \"advertisingSuccessPct\":adv,\n",
    "        \"referralFreeMonths\":months,\n",
    "        \"referralProgramAdoptionPct\":adoption,\n",
    "        \"referrals\":referals\n",
    "    }\n",
    "    for adv in numpy.arange(*(0,0.2,0.01))\n",
    "    for adoption in numpy.arange(*(0,40,10))\n",
    "    for months in numpy.arange(*(0,12,1))\n",
    "    for referals in numpy.arange(*(0,12,1))\n",
    "]"
   ]
  },
  {
   "cell_type": "code",
   "execution_count": 26,
   "metadata": {},
   "outputs": [],
   "source": [
    "bptk.add_scenario(dictionary={\n",
    "                      \"smCustomerAcquisition\":  \n",
    "                      {\n",
    "                          \"source\":\"simulation_models/customer_acquisition.stmx\",\n",
    "                          \"model\":\"simulation_models/customer_acquisition\",\n",
    "                          \"interactiveScenario\":{\n",
    "                              \"constants\":{\n",
    "                                 \"referrals\":0,\n",
    "                                  \"advertisingSuccessPct\":0.1,\n",
    "                                  \"referralFreeMonths\":3,\n",
    "                                  \"referralProgamAdoptionPct\":10\n",
    "                                }\n",
    "                          }\n",
    "                    }\n",
    "                    }\n",
    ")"
   ]
  },
  {
   "cell_type": "code",
   "execution_count": 32,
   "metadata": {},
   "outputs": [],
   "source": [
    "interactive_dfs=[]\n",
    "for setting in settings:\n",
    "    scenario= bptk.scenario_manager_factory.get_scenarios([\"smCustomerAcquisition\"],\n",
    "                                                                          [\"interactiveScenario\"])[\"interactiveScenario\"]\n",
    "    scenario.constants[\"advertisingSuccessPct\"]=setting[\"advertisingSuccessPct\"]\n",
    "    scenario.constants[\"referralFreeMonths\"]=setting[\"referralFreeMonths\"]\n",
    "    scenario.constants[\"referralProgramAdoptionPct\"]=setting[\"referralProgramAdoptionPct\"]\n",
    "    scenario.constants[\"referrals\"]=setting[\"referrals\"]\n",
    "    bptk.reset_simulation_model(scenario_manager=\"smCustomerAcquisition\",\n",
    "                                                             scenario=\"interactiveScenario\")\n",
    "    df=bptk.plot_scenarios(scenario_managers=[\"smCustomerAcquisition\"],\n",
    "        scenarios=[\"interactiveScenario\"], \n",
    "        equations=['profit','customers'],\n",
    "        return_df=True\n",
    "        )\n",
    "    df[\"advertisingSuccessPct\"]=[setting[\"advertisingSuccessPct\"]]*len(df.index)\n",
    "    df[\"referralFreeMonths\"]=[setting[\"referralFreeMonths\"]]*len(df.index)\n",
    "    df[\"referralProgramAdoptionPct\"]=[setting[\"referralProgramAdoptionPct\"]]*len(df.index)\n",
    "    df[\"referrals\"]=[setting[\"referrals\"]]*len(df.index)\n",
    "    df[\"time\"]=df.index\n",
    "    interactive_dfs += [df]\n",
    "interactive_tab = pd.concat(interactive_dfs, ignore_index=True, sort=False) "
   ]
  },
  {
   "cell_type": "code",
   "execution_count": 33,
   "metadata": {},
   "outputs": [],
   "source": [
    "interactive_tab.to_excel('/Users/olivergrasl/Desktop/test.xlsx', sheet_name='interactive')"
   ]
  },
  {
   "cell_type": "code",
   "execution_count": 3,
   "metadata": {},
   "outputs": [
    {
     "data": {
      "text/html": [
       "\n",
       "        <iframe\n",
       "            width=\"933\"\n",
       "            height=\"700\"\n",
       "            src=\"https://app.powerbi.com/view?r=eyJrIjoiNDFlMTA2ZGItYmFkOC00Mjg3LTljODYtYzRkYzY2YmFmM2E4IiwidCI6ImZjNWRmZDc1LTQ1NzktNGQ3MC05YTE3LTk0MmQ0OWMwMTc2ZiIsImMiOjl9\"\n",
       "            frameborder=\"0\"\n",
       "            allowfullscreen\n",
       "        ></iframe>\n",
       "        "
      ],
      "text/plain": [
       "<IPython.lib.display.IFrame at 0x106a11048>"
      ]
     },
     "execution_count": 3,
     "metadata": {},
     "output_type": "execute_result"
    }
   ],
   "source": [
    "from IPython.display import IFrame       \n",
    "IFrame('https://app.powerbi.com/view?r=eyJrIjoiNDFlMTA2ZGItYmFkOC00Mjg3LTljODYtYzRkYzY2YmFmM2E4IiwidCI6ImZjNWRmZDc1LTQ1NzktNGQ3MC05YTE3LTk0MmQ0OWMwMTc2ZiIsImMiOjl9', width=933, height=700)"
   ]
  },
  {
   "cell_type": "code",
   "execution_count": null,
   "metadata": {},
   "outputs": [],
   "source": []
  }
 ],
 "metadata": {
  "kernelspec": {
   "display_name": "Python 3",
   "language": "python",
   "name": "python3"
  },
  "language_info": {
   "codemirror_mode": {
    "name": "ipython",
    "version": 3
   },
   "file_extension": ".py",
   "mimetype": "text/x-python",
   "name": "python",
   "nbconvert_exporter": "python",
   "pygments_lexer": "ipython3",
   "version": "3.7.3"
  }
 },
 "nbformat": 4,
 "nbformat_minor": 4
}
