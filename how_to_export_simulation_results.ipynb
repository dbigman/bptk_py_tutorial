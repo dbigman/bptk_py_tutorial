{
 "cells": [
  {
   "cell_type": "markdown",
   "metadata": {},
   "source": [
    "# Export Simulation Results"
   ]
  },
  {
   "cell_type": "code",
   "execution_count": 1,
   "metadata": {},
   "outputs": [],
   "source": [
    "## Load the BPTK Package\n",
    "from BPTK_Py.bptk import bptk \n",
    "\n",
    "bptk = bptk()"
   ]
  },
  {
   "cell_type": "code",
   "execution_count": 2,
   "metadata": {},
   "outputs": [],
   "source": [
    "bptk.register_scenarios(scenario_manager=\"smCustomerAcquisition\",scenarios={\n",
    "                          \"interactiveScenario\":{\n",
    "                              \"constants\":{\n",
    "                                 \"referrals\":0,\n",
    "                                  \"advertisingSuccessPct\":0.1,\n",
    "                                  \"referralFreeMonths\":3,\n",
    "                                  \"referralProgamAdoptionPct\":10\n",
    "                                }\n",
    "                          }\n",
    "}\n",
    "                    \n",
    ")"
   ]
  },
  {
   "cell_type": "code",
   "execution_count": 3,
   "metadata": {},
   "outputs": [
    {
     "name": "stdout",
     "output_type": "stream",
     "text": [
      "\n",
      "*** smCustomerAcquisition ***\n",
      "\t base\n",
      "\t serviceFlop\n",
      "\t rethinkAdvertising\n",
      "\t referSomeonePlease\n",
      "\t hereWeGo\n",
      "\t boomButBust\n",
      "\t interactiveScenario\n"
     ]
    }
   ],
   "source": [
    "bptk.list_scenarios([\"smCustomerAcquisition\"])"
   ]
  },
  {
   "cell_type": "code",
   "execution_count": 5,
   "metadata": {},
   "outputs": [
    {
     "name": "stdout",
     "output_type": "stream",
     "text": [
      "CPU times: user 3min 47s, sys: 7.51 s, total: 3min 55s\n",
      "Wall time: 4min 11s\n"
     ]
    }
   ],
   "source": [
    "%%time\n",
    "bptk.export_scenarios(\n",
    "    scenario_manager=\"smCustomerAcquisition\",\n",
    "    equations=[\"customers\",\"profit\"],\n",
    "    filename='/Users/olivergrasl/Desktop/test.xlsx',\n",
    "    interactive_scenario=\"interactiveScenario\",\n",
    "    interactive_equations=[\"customers\",\"profit\"],\n",
    "    interactive_settings= {\n",
    "        \"advertisingSuccessPct\":(0,0.2,0.01),\n",
    "        \"referralFreeMonths\":(0,40,10),\n",
    "        \"referralProgramAdoptionPct\":(0,12,1),\n",
    "        \"referrals\":(0,12,1)\n",
    "    }\n",
    ")"
   ]
  },
  {
   "cell_type": "code",
   "execution_count": 46,
   "metadata": {},
   "outputs": [
    {
     "data": {
      "text/html": [
       "\n",
       "        <iframe\n",
       "            width=\"933\"\n",
       "            height=\"700\"\n",
       "            src=\"https://app.powerbi.com/view?r=eyJrIjoiNDFlMTA2ZGItYmFkOC00Mjg3LTljODYtYzRkYzY2YmFmM2E4IiwidCI6ImZjNWRmZDc1LTQ1NzktNGQ3MC05YTE3LTk0MmQ0OWMwMTc2ZiIsImMiOjl9\"\n",
       "            frameborder=\"0\"\n",
       "            allowfullscreen\n",
       "        ></iframe>\n",
       "        "
      ],
      "text/plain": [
       "<IPython.lib.display.IFrame at 0x11ce04a58>"
      ]
     },
     "execution_count": 46,
     "metadata": {},
     "output_type": "execute_result"
    }
   ],
   "source": [
    "from IPython.display import IFrame       \n",
    "IFrame('https://app.powerbi.com/view?r=eyJrIjoiNDFlMTA2ZGItYmFkOC00Mjg3LTljODYtYzRkYzY2YmFmM2E4IiwidCI6ImZjNWRmZDc1LTQ1NzktNGQ3MC05YTE3LTk0MmQ0OWMwMTc2ZiIsImMiOjl9', width=933, height=700)"
   ]
  }
 ],
 "metadata": {
  "kernelspec": {
   "display_name": "Python 3",
   "language": "python",
   "name": "python3"
  },
  "language_info": {
   "codemirror_mode": {
    "name": "ipython",
    "version": 3
   },
   "file_extension": ".py",
   "mimetype": "text/x-python",
   "name": "python",
   "nbconvert_exporter": "python",
   "pygments_lexer": "ipython3",
   "version": "3.7.3"
  }
 },
 "nbformat": 4,
 "nbformat_minor": 4
}
