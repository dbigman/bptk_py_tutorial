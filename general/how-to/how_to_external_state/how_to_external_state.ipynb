{
 "cells": [
  {
   "cell_type": "markdown",
   "metadata": {},
   "source": [
    "# Creating persistent state\n",
    "*Using Flask*"
   ]
  },
  {
   "cell_type": "markdown",
   "metadata": {},
   "source": [
    "BPTK-Py offers a way to persist data externally. This allows simulation instances to be fully restored from a save point."
   ]
  },
  {
   "cell_type": "markdown",
   "metadata": {},
   "source": [
    "## Using persistent state\n",
    "\n",
    "To persist state, an instantiation of a class inheriting `BPTK_Py.ExternalStateAdapter` must be passed into the BPTK-server constructor. When an adapter is provided, BPTK will call the corresponding methods in the provided `ExternalStateAdapter` implementation automatically. \n",
    "\n",
    "BPTK provides `BPTK_Py.FileAdapter`, an implementation of the `ExternalStateAdapter` class that can be used to store the state locally in JSON files. \n",
    "Creating your own implementation for `ExternalStateAdapter` (for example to save the state to an external database) is trivial. "
   ]
  },
  {
   "cell_type": "markdown",
   "metadata": {},
   "source": [
    "Let's look at an example on how to add persistent state using BPTK's `FileAdapter`:"
   ]
  },
  {
   "cell_type": "code",
   "execution_count": 8,
   "metadata": {},
   "outputs": [],
   "source": [
    "from BPTK_Py import BptkServer\n",
    "from BPTK_Py import FileAdapter\n",
    "from model import bptk_factory\n",
    "import os\n",
    "import json\n",
    "\n",
    "adapter = FileAdapter(True, os.path.join(os.getcwd(), \"state\"))"
   ]
  },
  {
   "cell_type": "markdown",
   "metadata": {},
   "source": [
    "The code above imports all required modules and creates a new `FileAdapter` object. The `FileAdapter` init method takes two arguments:\n",
    "1. Compression. When enabled, BPTK sends a compressed format of the instance state to the provided `ExternalStateAdapter` and automatically decompresses the instance states on load.\n",
    "2. Directory path. The path to which the state will be saved and from which the state will be loaded. This directory must be empty on first start-up."
   ]
  },
  {
   "cell_type": "code",
   "execution_count": 8,
   "metadata": {},
   "outputs": [],
   "source": [
    "# Calling the BptkServer class\n",
    "application = BptkServer(__name__, bptk_factory, external_state_adapter=adapter)"
   ]
  },
  {
   "cell_type": "markdown",
   "metadata": {},
   "source": [
    "Running the code above will create a new BPTK-server. The server takes the `adapter` as an optional argument. When no adapter is provided, the state will not be saved."
   ]
  },
  {
   "cell_type": "markdown",
   "metadata": {},
   "source": [
    "# How does it work?\n",
    "*To continue this tutorial, run a new BPTK server using the `run_server.sh` script (or `run_server.bat` under Windows) in the current jupyter notebook directory.*\n",
    "\n",
    "When an `ExternalStateAdapter` is provided, BPTK will automatically call the methods in the adapter implementation. An `ExternalStateAdapter` implements the following methods:\n",
    "1. `_save_state`: Takes a list of all instance states as an argument. This method is called when the `save-state` endpoint of the BPTK-server is called.\n",
    "2. `_load_state`: Takes no arguments and returns a list of all instance states that are stored. This method is called when the `load-state` endpoint of the BPTK-server is called and on BPTK start-up.\n",
    "3. `_save_instance`: Takes an instance state as an argument. This method is called when an instance step is run.\n",
    "4. `_load_instance`: Takes an instance id as an argument. This method is called when an instance cannot be found in local storage.\n",
    "\n",
    "\n",
    "The implementation handles IO with the storage solution. Let's look at an example:"
   ]
  },
  {
   "cell_type": "code",
   "execution_count": 11,
   "metadata": {},
   "outputs": [],
   "source": [
    "import requests\n",
    "\n",
    "req = requests.post(\"http://localhost:5000/start-instance\")\n",
    "instance_id = req.json()['instance_uuid']\n"
   ]
  },
  {
   "cell_type": "markdown",
   "metadata": {},
   "source": [
    "The code above starts a new BPTK simulation instance and returns the instance id."
   ]
  },
  {
   "cell_type": "code",
   "execution_count": 12,
   "metadata": {},
   "outputs": [
    {
     "data": {
      "text/plain": [
       "{'msg': 'session started'}"
      ]
     },
     "execution_count": 12,
     "metadata": {},
     "output_type": "execute_result"
    }
   ],
   "source": [
    "content = {\n",
    "    \"scenario_managers\": [\n",
    "        \"sddsl_customer_acquisition\"\n",
    "    ],\n",
    "    \"scenarios\": [\n",
    "        \"interactive_scenario\"\n",
    "    ],\n",
    "    \"equations\": [\n",
    "        \"customers\",\"word_of_mouth_success\"\n",
    "    ]\n",
    "}\n",
    "\n",
    "req = requests.post(f'http://localhost:5000/{instance_id}/begin-session', json.dumps(content), headers={'Content-Type': 'application/json'})\n",
    "req.json()"
   ]
  },
  {
   "cell_type": "markdown",
   "metadata": {},
   "source": [
    "The code above starts a new session for a given instance."
   ]
  },
  {
   "cell_type": "code",
   "execution_count": 14,
   "metadata": {},
   "outputs": [
    {
     "data": {
      "text/plain": [
       "{'sddsl_customer_acquisition': {'interactive_scenario': {'customers': {'2.0': 1000.0},\n",
       "   'word_of_mouth_success': {'2.0': 0.7}}}}"
      ]
     },
     "execution_count": 14,
     "metadata": {},
     "output_type": "execute_result"
    }
   ],
   "source": [
    "step = {     \n",
    "    \"settings\":{\n",
    "        \"sddsl_customer_acquisition\":\n",
    "        {\n",
    "            \"interactive_scenario\":\n",
    "            {\n",
    "                \"constants\":\n",
    "                {\n",
    "                    \"word_of_mouth_success\":0.7\n",
    "                }\n",
    "            }, \n",
    "        }\n",
    "    }\n",
    "}\n",
    "\n",
    "req = requests.post(f'http://localhost:5000/{instance_id}/run-step', json.dumps(step), headers={'Content-Type': 'application/json'})\n",
    "req.json()"
   ]
  },
  {
   "cell_type": "markdown",
   "metadata": {},
   "source": [
    "When `run-step` is called, BPTK will call the provided `ExternalStateAdapter` to save that instance. This way, every instance is always up to date.\n",
    "\n",
    "You will see a JSON-File with the instance id as its name in the state directory."
   ]
  },
  {
   "cell_type": "markdown",
   "metadata": {},
   "source": [
    "# Implementing your own ExternalStateAdapter\n",
    "\n",
    "Implementing your own `ExternalStateAdapter` is trivial. All the logic is handled by BPTK. The adapter must only handle the IO with the storage solution.\n",
    "Let's look at an example dummy implementation:"
   ]
  },
  {
   "cell_type": "code",
   "execution_count": null,
   "metadata": {},
   "outputs": [],
   "source": [
    "from BPTK_Py import ExternalStateAdapter\n",
    "from BPTK_Py import InstanceState\n",
    "import json\n",
    "import datetime\n",
    "\n",
    "class DBAdapter(ExternalStateAdapter):\n",
    "    def __init__(self, compress: bool, db_client):\n",
    "        super().__init__(compress)\n",
    "        self.db_client = db_client"
   ]
  },
  {
   "cell_type": "markdown",
   "metadata": {},
   "source": [
    "In the first line we extend `ExternalStateAdapter`. Then we create a constructor, taking a boolean and a db_client as an input.\n",
    "- The boolean value indicates whether the state will be compressed and decompressed by BPTK. This is recommended, it can drastically reduce the size of an instance.\n",
    "- The db_client argument represents a dummy database client. Most database connections work using a database client, adapting this dummy class to your storage solution should therefore be simple."
   ]
  },
  {
   "cell_type": "code",
   "execution_count": null,
   "metadata": {},
   "outputs": [],
   "source": [
    "    def _save_state(self, instance_states: list[InstanceState]):\n",
    "        for state in instance_states:\n",
    "            self._save_instance(state)\n",
    "    \n",
    "\n",
    "    def _save_instance(self, state: InstanceState):\n",
    "        data = { \n",
    "            \"data\": { \n",
    "                \"state\": json.dumps(state.state), \n",
    "                \"instance_id\": state.instance_id,\n",
    "                \"time\": str(state.time),\n",
    "                \"timeout\": state.timeout,\n",
    "                \"step\": state.step\n",
    "            }\n",
    "        }\n",
    "        self.db_client.save(key=state.instance_id, data=data)\n",
    "        \n",
    "\n",
    "    def _load_state(self) -> list[InstanceState]:    \n",
    "        instances = []\n",
    "        instance_paths = os.listdir(self.path)\n",
    "\n",
    "        for instance_uuid in instance_paths:\n",
    "            instances.append(self._load_instance(instance_uuid.split(\".\")[0]))\n",
    "\n",
    "        return instances\n",
    "\n",
    "    def _load_instance(self, instance_uuid: str) -> InstanceState:\n",
    "        try:\n",
    "            instance_data = json.loads(self.db_client.read(key=instance_uuid))\n",
    "            \n",
    "            decoded_data = json.loads(instance_data[\"data\"][\"state\"])\n",
    "            instance_id = instance_data[\"data\"][\"instance_id\"]\n",
    "            timeout = instance_data[\"data\"][\"timeout\"]\n",
    "            step = instance_data[\"data\"][\"step\"]\n",
    "            \n",
    "            return InstanceState(decoded_data, instance_id, datetime.datetime.now(), timeout, step)\n",
    "        except Exception as e:\n",
    "            print(\"Error: \" + str(e))\n",
    "            return None"
   ]
  },
  {
   "cell_type": "markdown",
   "metadata": {},
   "source": [
    "The code above implements all four functions. `_load_instance` can be called for instances which do not exist in the database, error handling code is therefore advisable."
   ]
  }
 ],
 "metadata": {
  "kernelspec": {
   "display_name": "Python 3 (ipykernel)",
   "language": "python",
   "name": "python3"
  },
  "language_info": {
   "codemirror_mode": {
    "name": "ipython",
    "version": 3
   },
   "file_extension": ".py",
   "mimetype": "text/x-python",
   "name": "python",
   "nbconvert_exporter": "python",
   "pygments_lexer": "ipython3",
   "version": "3.9.7"
  }
 },
 "nbformat": 4,
 "nbformat_minor": 4
}
