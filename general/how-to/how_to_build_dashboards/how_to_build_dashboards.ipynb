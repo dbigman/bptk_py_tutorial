{
 "cells": [
  {
   "cell_type": "markdown",
   "metadata": {},
   "source": [
    "# How to build Dashboards\n",
    "\n",
    "One of BPTK's biggest strengths is the ability to easily connect it to interactive dashboards."
   ]
  },
  {
   "cell_type": "markdown",
   "metadata": {},
   "source": [
    "## Creating the model\n",
    "\n",
    "We first need a BPTK model, let's create one.\n",
    "\n",
    "First we do necessary imports and instantiate the model:"
   ]
  },
  {
   "cell_type": "code",
   "execution_count": 20,
   "metadata": {},
   "outputs": [],
   "source": [
    "from BPTK_Py import Model\n",
    "import BPTK_Py\n",
    "\n",
    "model = Model(starttime=0.0, stoptime=10.0, dt=1.0, name=\"Test Model\")"
   ]
  },
  {
   "cell_type": "markdown",
   "metadata": {},
   "source": [
    "We have to define what the model does next."
   ]
  },
  {
   "cell_type": "code",
   "execution_count": 21,
   "metadata": {},
   "outputs": [],
   "source": [
    "stock = model.stock(\"balance\")\n",
    "taxes_accumulated = model.stock(\"tax_acc\")\n",
    "income = model.flow(\"income\")\n",
    "taxes = model.flow(\"taxes\")\n",
    "constantSalary = model.constant(\"salary\")\n",
    "constantTax = model.constant(\"tax\")\n",
    "constantTax.equation = 0.0\n",
    "constantSalary.equation = 0.0\n",
    "\n",
    "stock.equation = income - taxes\n",
    "income.equation = constantSalary # income - tax\n",
    "taxes.equation = constantSalary * constantTax\n",
    "\n",
    "taxes_accumulated.equation = taxes"
   ]
  },
  {
   "cell_type": "markdown",
   "metadata": {},
   "source": [
    "Lastly we have to register a scenario manager and scenario in BPTK."
   ]
  },
  {
   "cell_type": "code",
   "execution_count": 22,
   "metadata": {},
   "outputs": [],
   "source": [
    "scenario_manager = {\"sm\": {\"model\": model}}\n",
    "\n",
    "bptk = BPTK_Py.bptk()\n",
    "bptk.register_scenario_manager(scenario_manager)\n",
    "bptk.register_scenarios(\n",
    "    scenario_manager=\"sm\",\n",
    "    scenarios=\n",
    "    {\n",
    "        \"testScenario\":{\n",
    "            \"constants\":\n",
    "            {\n",
    "                \"salary\":100.0,\n",
    "                \"tax\":0.2\n",
    "            }\n",
    "        }\n",
    "    }\n",
    ")"
   ]
  },
  {
   "cell_type": "markdown",
   "metadata": {},
   "source": [
    "Now we have our model setup. Next we want to display the output\n",
    "\n",
    "## Display output\n",
    "There are two ways to create dashboards in BPTK.\n",
    "\n",
    "### The easy way (using SimpleDashboard class)\n",
    "If you want to create dashboards the easy way, use the simple dashboard class. It automatically handles plot updates, connects widgets to the model and handles widget updating.\n",
    "\n",
    "First, we have to import and instantiate the SimpleDashboard class."
   ]
  },
  {
   "cell_type": "code",
   "execution_count": 23,
   "metadata": {},
   "outputs": [],
   "source": [
    "from BPTK_Py.visualizations import SimpleDashboard\n",
    "import ipywidgets as widgets\n",
    "\n",
    "dashboard = SimpleDashboard(bptk, scenario_manager=\"sm\", scenario=\"testScenario\")"
   ]
  },
  {
   "cell_type": "markdown",
   "metadata": {},
   "source": [
    "Now we have to create a few widgets. We want two sliders, one to update the tax rate and one to update the salary. When the sliders changed a graph plotting the balance is updated."
   ]
  },
  {
   "cell_type": "code",
   "execution_count": 24,
   "metadata": {},
   "outputs": [
    {
     "data": {
      "application/vnd.jupyter.widget-view+json": {
       "model_id": "7b60bd632e164d2f922550ac2ad00137",
       "version_major": 2,
       "version_minor": 0
      },
      "text/plain": [
       "Output()"
      ]
     },
     "metadata": {},
     "output_type": "display_data"
    },
    {
     "data": {
      "application/vnd.jupyter.widget-view+json": {
       "model_id": "65332d00297b493c9ca4342fb5d9f3d2",
       "version_major": 2,
       "version_minor": 0
      },
      "text/plain": [
       "VBox(children=(FloatSlider(value=0.2, continuous_update=False, description='Tax rate', max=1.0, step=0.01), Fl…"
      ]
     },
     "metadata": {},
     "output_type": "display_data"
    }
   ],
   "source": [
    "wdg_tax_slider = dashboard.get_float_slider(description=\"Tax rate\", min=0.0, max=1.0, value=0.2, step=0.01, model_connection=\"tax\")\n",
    "wdg_salary_slider = dashboard.get_float_slider(description=\"Tax rate\", min=0.0, max=1000.0, value=100.0, step=1.0, model_connection=\"salary\")\n",
    "\n",
    "plot = dashboard.add_plot(\n",
    "    equations=[\"balance\"], \n",
    "    names=[\"Balance\"],\n",
    "    title=\"Account Balance\",\n",
    "    x_label=\"Months\",\n",
    "    y_label=\"Balance\",\n",
    ")\n",
    "\n",
    "controls = widgets.VBox([wdg_tax_slider, wdg_salary_slider])\n",
    "display(plot)\n",
    "display(controls)\n",
    "dashboard.start()"
   ]
  },
  {
   "cell_type": "markdown",
   "metadata": {},
   "source": [
    "It would be useful to see how much of salary gets paid as taxes. Luckily, adding multiple graphs is trivial."
   ]
  },
  {
   "cell_type": "code",
   "execution_count": 25,
   "metadata": {},
   "outputs": [
    {
     "data": {
      "application/vnd.jupyter.widget-view+json": {
       "model_id": "c4fb270446da4c81afd7116d15a01abd",
       "version_major": 2,
       "version_minor": 0
      },
      "text/plain": [
       "Tab(children=(Output(outputs=({'output_type': 'display_data', 'data': {'text/plain': '<Figure size 1440x720 wi…"
      ]
     },
     "metadata": {},
     "output_type": "display_data"
    },
    {
     "data": {
      "application/vnd.jupyter.widget-view+json": {
       "model_id": "65332d00297b493c9ca4342fb5d9f3d2",
       "version_major": 2,
       "version_minor": 0
      },
      "text/plain": [
       "VBox(children=(FloatSlider(value=0.2, continuous_update=False, description='Tax rate', max=1.0, step=0.01), Fl…"
      ]
     },
     "metadata": {},
     "output_type": "display_data"
    }
   ],
   "source": [
    "plot2 = dashboard.add_plot(\n",
    "    equations=[\"tax_acc\"], \n",
    "    names=[\"Taxes\"],\n",
    "    title=\"Paid Taxes\",\n",
    "    x_label=\"Months\",\n",
    "    y_label=\"Taxes\",\n",
    ")\n",
    "\n",
    "graph_tabs = widgets.Tab(children = [plot, plot2])\n",
    "graph_tabs.set_title(0, 'Balance')\n",
    "graph_tabs.set_title(1, 'Taxes')\n",
    "\n",
    "display(graph_tabs)\n",
    "display(controls)\n",
    "dashboard.start()"
   ]
  },
  {
   "cell_type": "markdown",
   "metadata": {},
   "source": [
    "### Advanced features\n",
    "\n",
    "Bigger models tend to have more requirements than just updating a graph when a slider moves. In this example we create a more complex model to show advanced features.\n",
    "\n",
    "First, let's update the model. This model has different tax rates depending on income. "
   ]
  },
  {
   "cell_type": "code",
   "execution_count": 26,
   "metadata": {},
   "outputs": [],
   "source": [
    "from BPTK_Py import sd_functions as sd\n",
    "\n",
    "model = Model(starttime=0.0, stoptime=10.0, dt=1.0, name=\"Test Model\")\n",
    "\n",
    "stock = model.stock(\"balance\")\n",
    "taxes_accumulated = model.stock(\"tax_acc\")\n",
    "income = model.flow(\"income\")\n",
    "taxes = model.flow(\"taxes\")\n",
    "constantSalary = model.constant(\"salary\")\n",
    "constantSalary.equation = 0.0\n",
    "\n",
    "stock.equation = income - taxes\n",
    "income.equation = constantSalary # income - tax\n",
    "taxes.equation = constantSalary * sd.lookup(constantSalary, \"tax_rates\")\n",
    "\n",
    "taxes_accumulated.equation = taxes\n",
    "\n",
    "scenario_manager = {\"sm\": {\"model\": model}}\n",
    "\n",
    "bptk = BPTK_Py.bptk()\n",
    "bptk.register_scenario_manager(scenario_manager)\n",
    "bptk.register_scenarios(\n",
    "    scenario_manager=\"sm\",\n",
    "    scenarios=\n",
    "    {\n",
    "        \"testScenario2\":{\n",
    "            \"base_points\": {\n",
    "                \"tax_rates\": [\n",
    "                    [0.0, 0.1],\n",
    "                    [250.0, 0.2],\n",
    "                    [500.0, 0.25],\n",
    "                    [750.0, 1.0],\n",
    "                ]\n",
    "            }\n",
    "        }\n",
    "    }\n",
    ")"
   ]
  },
  {
   "cell_type": "markdown",
   "metadata": {},
   "source": [
    "Next, we create the dashboard:"
   ]
  },
  {
   "cell_type": "code",
   "execution_count": 28,
   "metadata": {},
   "outputs": [
    {
     "data": {
      "application/vnd.jupyter.widget-view+json": {
       "model_id": "6082712f7d89441c86b98af7d86ec37c",
       "version_major": 2,
       "version_minor": 0
      },
      "text/plain": [
       "Output()"
      ]
     },
     "metadata": {},
     "output_type": "display_data"
    },
    {
     "data": {
      "application/vnd.jupyter.widget-view+json": {
       "model_id": "becb7632489f4e08b0a69aa933f28055",
       "version_major": 2,
       "version_minor": 0
      },
      "text/plain": [
       "VBox(children=(FloatSlider(value=100.0, continuous_update=False, description='Salary', max=1000.0, step=1.0),)…"
      ]
     },
     "metadata": {},
     "output_type": "display_data"
    }
   ],
   "source": [
    "wdg_salary_slider = dashboard.get_float_slider(description=\"Salary\", min=0.0, max=1000.0, value=100.0, step=1.0, model_connection=\"salary\")\n",
    "\n",
    "plot = dashboard.add_plot(\n",
    "    equations=[\"balance\"], \n",
    "    names=[\"Balance\"],\n",
    "    title=\"Account Balance\",\n",
    "    x_label=\"Months\",\n",
    "    y_label=\"Balance\",\n",
    ")\n",
    "\n",
    "controls = widgets.VBox([wdg_salary_slider])\n",
    "display(plot)\n",
    "display(controls)\n",
    "dashboard.start()"
   ]
  }
 ],
 "metadata": {
  "interpreter": {
   "hash": "051a0b1937142dbda83490af8db60330184a602049aa9c36ad1f9ffa5cf670d4"
  },
  "kernelspec": {
   "display_name": "Python 3.9.7 ('bptk')",
   "language": "python",
   "name": "python3"
  },
  "language_info": {
   "codemirror_mode": {
    "name": "ipython",
    "version": 3
   },
   "file_extension": ".py",
   "mimetype": "text/x-python",
   "name": "python",
   "nbconvert_exporter": "python",
   "pygments_lexer": "ipython3",
   "version": "3.9.7"
  },
  "orig_nbformat": 4
 },
 "nbformat": 4,
 "nbformat_minor": 2
}
