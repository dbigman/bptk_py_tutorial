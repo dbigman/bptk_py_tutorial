{
 "cells": [
  {
   "cell_type": "markdown",
   "metadata": {},
   "source": [
    "# How to build Dashboards\n",
    "\n",
    "One of BPTK's biggest strengths is the ability to easily create interactive dashboards. The simple dashboard class in BPTK allows the user to create complex, interactive dashboards with minimum coding requirements."
   ]
  },
  {
   "cell_type": "markdown",
   "metadata": {},
   "source": [
    "## Creating the model\n",
    "\n",
    "First, we need a BPTK model, let's create one.\n",
    "\n",
    "We need to do all necessary imports and instantiate the model:"
   ]
  },
  {
   "cell_type": "code",
   "execution_count": 2,
   "metadata": {},
   "outputs": [],
   "source": [
    "from BPTK_Py import Model\n",
    "import BPTK_Py\n",
    "\n",
    "model = Model(starttime=0.0, stoptime=20.0, dt=1.0, name=\"Test Model\")"
   ]
  },
  {
   "cell_type": "markdown",
   "metadata": {},
   "source": [
    "Next, we have to define the model. The model calculates an account balance given a salary and a tax rate."
   ]
  },
  {
   "cell_type": "code",
   "execution_count": 2,
   "metadata": {},
   "outputs": [],
   "source": [
    "stock = model.stock(\"balance\")\n",
    "taxes_accumulated = model.stock(\"tax_acc\")\n",
    "\n",
    "income = model.flow(\"income\")\n",
    "taxes = model.flow(\"taxes\")\n",
    "\n",
    "constantSalary = model.constant(\"salary\")\n",
    "constantTax = model.constant(\"tax\")\n",
    "constantTax.equation = 0.0\n",
    "constantSalary.equation = 0.0\n",
    "\n",
    "stock.equation = income - taxes\n",
    "income.equation = constantSalary # income - tax\n",
    "taxes.equation = constantSalary * constantTax\n",
    "\n",
    "taxes_accumulated.equation = taxes"
   ]
  },
  {
   "cell_type": "markdown",
   "metadata": {},
   "source": [
    "Lastly we have to register a scenario manager and scenario in BPTK."
   ]
  },
  {
   "cell_type": "code",
   "execution_count": 3,
   "metadata": {},
   "outputs": [],
   "source": [
    "scenario_manager = {\"sm\": {\"model\": model}}\n",
    "\n",
    "bptk = BPTK_Py.bptk()\n",
    "bptk.register_scenario_manager(scenario_manager)\n",
    "bptk.register_scenarios(\n",
    "    scenario_manager=\"sm\",\n",
    "    scenarios=\n",
    "    {\n",
    "        \"testScenario\":{}\n",
    "    }\n",
    ")"
   ]
  },
  {
   "cell_type": "markdown",
   "metadata": {},
   "source": [
    "Next we want to display the output using an interactive dashboard.\n",
    "\n",
    "## Display output\n",
    "The simple dashboard class automatically handles plot updates, connects widgets to the model and handles widget updating. You can create dashboards without the simple dashboard class, but that is not recommended.\n",
    "\n",
    "First, we have to import and instantiate the SimpleDashboard class. It requires both the scenario manager and scenario."
   ]
  },
  {
   "cell_type": "code",
   "execution_count": 6,
   "metadata": {},
   "outputs": [],
   "source": [
    "from BPTK_Py.visualizations import SimpleDashboard\n",
    "import ipywidgets as widgets\n",
    "\n",
    "dashboard = SimpleDashboard(bptk, scenario_manager=\"sm\", scenario=\"testScenario\")"
   ]
  },
  {
   "cell_type": "markdown",
   "metadata": {},
   "source": [
    "Now we have to create a few widgets. We need two sliders to update the tax rate and salary. When the sliders change, a graph plotting the balance is updated."
   ]
  },
  {
   "cell_type": "code",
   "execution_count": 5,
   "metadata": {},
   "outputs": [
    {
     "data": {
      "application/vnd.jupyter.widget-view+json": {
       "model_id": "21b376d990fc4d61a4000899a72db4df",
       "version_major": 2,
       "version_minor": 0
      },
      "text/plain": [
       "Output()"
      ]
     },
     "metadata": {},
     "output_type": "display_data"
    },
    {
     "data": {
      "application/vnd.jupyter.widget-view+json": {
       "model_id": "0c3c99aee20f49568732d107ab91c8d5",
       "version_major": 2,
       "version_minor": 0
      },
      "text/plain": [
       "VBox(children=(FloatSlider(value=0.2, description='Tax rate', max=1.0, step=0.01), FloatSlider(value=100.0, de…"
      ]
     },
     "metadata": {},
     "output_type": "display_data"
    }
   ],
   "source": [
    "wdg_tax_slider = widgets.FloatSlider(description=\"Tax rate\", min=0.0, max=1.0, value=0.2, step=0.01)\n",
    "wdg_salary_slider = widgets.FloatSlider(description=\"Salary\", min=0.0, max=1000.0, value=100.0, step=1.0)\n",
    "\n",
    "dashboard.add_widget(wdg_tax_slider, \"tax\")\n",
    "dashboard.add_widget(wdg_salary_slider, \"salary\")\n",
    "\n",
    "plot = dashboard.add_plot(\n",
    "    equations=[\"balance\"], \n",
    "    names=[\"Balance\"],\n",
    "    title=\"Account Balance\",\n",
    "    x_label=\"Months\",\n",
    "    y_label=\"Balance\",\n",
    ")\n",
    "\n",
    "controls = widgets.VBox([wdg_tax_slider, wdg_salary_slider])\n",
    "display(plot)\n",
    "display(controls)\n",
    "dashboard.start()"
   ]
  },
  {
   "cell_type": "markdown",
   "metadata": {},
   "source": [
    "It would be useful to see how much of the salary gets paid as taxes (in absolute terms). Luckily, adding multiple graphs is trivial."
   ]
  },
  {
   "cell_type": "code",
   "execution_count": 6,
   "metadata": {},
   "outputs": [
    {
     "data": {
      "application/vnd.jupyter.widget-view+json": {
       "model_id": "0112321eb9f747c68e7ed9c010436b49",
       "version_major": 2,
       "version_minor": 0
      },
      "text/plain": [
       "Tab(children=(Output(outputs=({'output_type': 'display_data', 'data': {'text/plain': '<Figure size 1440x720 wi…"
      ]
     },
     "metadata": {},
     "output_type": "display_data"
    },
    {
     "data": {
      "application/vnd.jupyter.widget-view+json": {
       "model_id": "0c3c99aee20f49568732d107ab91c8d5",
       "version_major": 2,
       "version_minor": 0
      },
      "text/plain": [
       "VBox(children=(FloatSlider(value=0.2, description='Tax rate', max=1.0, step=0.01), FloatSlider(value=100.0, de…"
      ]
     },
     "metadata": {},
     "output_type": "display_data"
    }
   ],
   "source": [
    "plot2 = dashboard.add_plot(\n",
    "    equations=[\"tax_acc\"], \n",
    "    names=[\"Taxes\"],\n",
    "    title=\"Paid Taxes\",\n",
    "    x_label=\"Months\",\n",
    "    y_label=\"Taxes\",\n",
    ")\n",
    "\n",
    "graph_tabs = widgets.Tab(children = [plot, plot2])\n",
    "graph_tabs.set_title(0, 'Balance')\n",
    "graph_tabs.set_title(1, 'Taxes')\n",
    "\n",
    "display(graph_tabs)\n",
    "display(controls)\n",
    "dashboard.start()"
   ]
  },
  {
   "cell_type": "markdown",
   "metadata": {},
   "source": [
    "### Advanced features\n",
    "\n",
    "Complex models tend to have more requirements than just updating a graph when a slider moves.\n",
    "\n",
    "#### Callbacks\n",
    "\n",
    "This dashboard will show how to use callbacks to execute custom code when widget values change. In the example below, taxes can be activated and deactivated using a tick box."
   ]
  },
  {
   "cell_type": "code",
   "execution_count": 8,
   "metadata": {},
   "outputs": [
    {
     "data": {
      "application/vnd.jupyter.widget-view+json": {
       "model_id": "6b00949828a843f6895068f8ba5c90aa",
       "version_major": 2,
       "version_minor": 0
      },
      "text/plain": [
       "Output()"
      ]
     },
     "metadata": {},
     "output_type": "display_data"
    },
    {
     "data": {
      "application/vnd.jupyter.widget-view+json": {
       "model_id": "ee237e77c0ec44dfa768c39553a0578b",
       "version_major": 2,
       "version_minor": 0
      },
      "text/plain": [
       "VBox(children=(FloatSlider(value=100.0, description='Salary', max=1000.0, step=1.0), Checkbox(value=False, des…"
      ]
     },
     "metadata": {},
     "output_type": "display_data"
    }
   ],
   "source": [
    "\n",
    "\n",
    "# instantiate dashboard\n",
    "dashboard = SimpleDashboard(bptk, scenario_manager=\"sm\", scenario=\"testScenario\")\n",
    "\n",
    "# Create all widgets\n",
    "wdg_salary_slider = widgets.FloatSlider(description=\"Salary\", min=0.0, max=1000.0, value=100.0, step=1.0)\n",
    "wdg_taxes = widgets.Checkbox(description=\"Taxes\")\n",
    "wdg_tax_slider = widgets.FloatSlider(description=\"Tax rate\", min=0.0, max=1.0, value=0.0, step=0.01)\n",
    "\n",
    "debug = widgets.Label(\"Debug\")\n",
    "\n",
    "dashboard.add_widget(wdg_salary_slider, \"salary\")\n",
    "dashboard.add_widget(wdg_tax_slider, \"tax\")\n",
    "\n",
    "# Hide tax slider\n",
    "wdg_tax_slider.layout.display = \"none\"\n",
    "\n",
    "# When tax checkbox is changed\n",
    "def taxes_changed(active):\n",
    "    if(active): # If tax checkbox is set to true\n",
    "        wdg_tax_slider.layout.display = \"flex\" # Show tax slider\n",
    "    else:\n",
    "        wdg_tax_slider.layout.display = \"none\" # Hide tax slider\n",
    "        wdg_tax_slider.value = 0.0 # Set value of tax slider to 0\n",
    "\n",
    "# Add tax tick box to dashboard and link it to the tax_changed function.\n",
    "dashboard.add_widget(wdg_taxes, taxes_changed)\n",
    "\n",
    "plot = dashboard.add_plot(\n",
    "    equations=[\"balance\"], \n",
    "    names=[\"Balance\"],\n",
    "    title=\"Account Balance\",\n",
    "    x_label=\"Months\",\n",
    "    y_label=\"Balance\",\n",
    ")\n",
    "main_controls = widgets.VBox([wdg_salary_slider, wdg_taxes, wdg_tax_slider, debug])\n",
    "\n",
    "\n",
    "display(plot)\n",
    "display(main_controls)\n",
    "\n",
    "dashboard.start()"
   ]
  },
  {
   "cell_type": "markdown",
   "metadata": {},
   "source": [
    "#### Dynamically update plots\n",
    "\n",
    "Plots are managed by the simple dashboard class. Dynamically updating plots is often required for more advanced features. In this example we update the number of steps a graph displays.\n",
    "\n",
    "The dashboard uses the SimpleDashboard.update_plot_data function to update plot data when the visualization period is selected in a dropdown."
   ]
  },
  {
   "cell_type": "code",
   "execution_count": 9,
   "metadata": {},
   "outputs": [
    {
     "data": {
      "application/vnd.jupyter.widget-view+json": {
       "model_id": "f19390752c2a440982375b668287a1ad",
       "version_major": 2,
       "version_minor": 0
      },
      "text/plain": [
       "Output()"
      ]
     },
     "metadata": {},
     "output_type": "display_data"
    },
    {
     "data": {
      "application/vnd.jupyter.widget-view+json": {
       "model_id": "5392226288f34c0d856151cf3b88377f",
       "version_major": 2,
       "version_minor": 0
      },
      "text/plain": [
       "VBox(children=(Dropdown(description='Display', options=('10', '20'), value='10'),))"
      ]
     },
     "metadata": {},
     "output_type": "display_data"
    }
   ],
   "source": [
    "# instantiate dashboard\n",
    "dashboard = SimpleDashboard(bptk, scenario_manager=\"sm\", scenario=\"testScenario\")\n",
    "\n",
    "# Create all widgets\n",
    "wdg_months_select = widgets.Dropdown(description=\"Display\", options=[\"10\", \"20\"])\n",
    "\n",
    "def month_select(months):\n",
    "    dashboard.update_plot_data(\"visualize_to_period\", int(months) + 1, -1)\n",
    "\n",
    "dashboard.add_widget(wdg_months_select, month_select)\n",
    "\n",
    "plot = dashboard.add_plot(\n",
    "    equations=[\"balance\"], \n",
    "    names=[\"Balance\"],\n",
    "    title=\"Account Balance\",\n",
    "    visualize_to_period=11,\n",
    "    x_label=\"Months\",\n",
    "    y_label=\"Balance\",\n",
    ")\n",
    "main_controls = widgets.VBox([wdg_months_select])\n",
    "\n",
    "\n",
    "display(plot)\n",
    "display(main_controls)\n",
    "\n",
    "dashboard.start()"
   ]
  },
  {
   "cell_type": "markdown",
   "metadata": {},
   "source": [
    "#### Custom plots\n",
    "\n",
    "SimpleDashboard only supports simple plots. More complex plotting requires custom plots. Below is an example on how to create a custom table plot."
   ]
  },
  {
   "cell_type": "code",
   "execution_count": 10,
   "metadata": {},
   "outputs": [
    {
     "data": {
      "application/vnd.jupyter.widget-view+json": {
       "model_id": "df33ed5f4a114a19a9f8a9261360ebf8",
       "version_major": 2,
       "version_minor": 0
      },
      "text/plain": [
       "Output()"
      ]
     },
     "metadata": {},
     "output_type": "display_data"
    }
   ],
   "source": [
    "# instantiate dashboard\n",
    "dashboard = SimpleDashboard(bptk, scenario_manager=\"sm\", scenario=\"testScenario\")\n",
    "\n",
    "def custom_plot():\n",
    "    df = bptk.plot_scenarios(\n",
    "        scenario_managers=[\"sm\"],\n",
    "        scenarios=[\"testScenario\"],\n",
    "        equations=[\"balance\"],\n",
    "        title=\"Table Example\",\n",
    "        series_names={\"sm_testScenario3_balance\": \"Balance\"},\n",
    "        return_df=True\n",
    "    )\n",
    "\n",
    "    display(df)\n",
    "\n",
    "plot = dashboard.add_custom_plot(custom_plot)\n",
    "\n",
    "display(plot)\n",
    "dashboard.start()"
   ]
  },
  {
   "cell_type": "markdown",
   "metadata": {},
   "source": [
    "### A complex example\n",
    "\n",
    "This example incorporates all techniques into one model. It is a fairly complex example that can be used as a reference when creating interactive dashboard.\n",
    "\n",
    "First, let's update the model. This model has an income tax and social security payments. Social security payments are only paid once a threshold of 200 is reached. Health insurance is paid optionally, either based on income or fixed amount. Income now increases over time."
   ]
  },
  {
   "cell_type": "code",
   "execution_count": 18,
   "metadata": {},
   "outputs": [],
   "source": [
    "from BPTK_Py import sd_functions as sd\n",
    "\n",
    "# Create the model\n",
    "model = Model(starttime=0.0, stoptime=20.0, dt=1.0, name=\"Test Model\")\n",
    "\n",
    "# The final balance of the account\n",
    "stock = model.stock(\"balance\")\n",
    "\n",
    "# All required flows\n",
    "income = model.flow(\"income_in\")\n",
    "incomeTax = model.flow(\"income_tax_in\")\n",
    "socialSecurity = model.flow(\"social_security_in\")\n",
    "\n",
    "healthInsurance = model.flow(\"health_insurance_in\")\n",
    "healthInsuranceFixed = model.flow(\"health_insurance_fixed_in\") # Health insurance fixed amount\n",
    "healthInsuranceIncome = model.flow(\"health_insurance_income_in\") # Health insurance based on income\n",
    "\n",
    "# All constants (can be adjusted in the interactive dashboard)\n",
    "constantSalary = model.constant(\"salary\")\n",
    "constantTax = model.constant(\"income_tax\")\n",
    "constantSocialSecurity = model.constant(\"social_security\")\n",
    "constantHealthInsuranceFixed = model.constant(\"health_insurance_fixed\")\n",
    "constantHealthInsuranceIncome = model.constant(\"health_insurance_income\")\n",
    "\n",
    "constantSalary.equation = 300.0\n",
    "constantTax.equation = 0.2\n",
    "constantSocialSecurity.equation = 40.0\n",
    "constantHealthInsuranceFixed.equation = 0.0\n",
    "constantHealthInsuranceIncome.equation = 0.0\n",
    "\n",
    "# All flow equations\n",
    "healthInsuranceIncome.equation = constantHealthInsuranceIncome * constantSalary\n",
    "healthInsuranceFixed.equation = constantHealthInsuranceFixed\n",
    "\n",
    "stock.equation = income - incomeTax - socialSecurity - healthInsurance\n",
    "income.equation = constantSalary * sd.lookup(sd.time(), \"salary_curve\")\n",
    "incomeTax.equation = constantSalary * constantTax\n",
    "socialSecurity.equation = sd.min(sd.max(0.0, constantSalary - 200.0), 1.0) * constantSocialSecurity\n",
    "healthInsurance.equation = healthInsuranceFixed + healthInsuranceIncome\n",
    "\n",
    "# Create scenario manager and scenario\n",
    "scenario_manager = {\"sm\": {\"model\": model, \n",
    "            \"base_points\": {\n",
    "                \"salary_curve\":[\n",
    "                    [1.0, 1.0],\n",
    "                    [2.0, 1.0],\n",
    "                    [3.0, 1.0],\n",
    "                    [4.0, 1.0],\n",
    "                    [5.0, 1.1],\n",
    "                    [9.0, 1.20],\n",
    "                    [13.0, 1.35],\n",
    "                    [17.0, 1.6],\n",
    "                ]\n",
    "            }}}\n",
    "\n",
    "bptk = BPTK_Py.bptk()\n",
    "bptk.register_scenario_manager(scenario_manager)\n",
    "bptk.register_scenarios(\n",
    "    scenario_manager=\"sm\",\n",
    "    scenarios=\n",
    "    {\n",
    "        \"testScenario2\":{\n",
    "        }\n",
    "    }\n",
    ")"
   ]
  },
  {
   "cell_type": "markdown",
   "metadata": {},
   "source": [
    "Next, we create the dashboard:"
   ]
  },
  {
   "cell_type": "code",
   "execution_count": 23,
   "metadata": {},
   "outputs": [
    {
     "data": {
      "application/vnd.jupyter.widget-view+json": {
       "model_id": "c054ab75e1f341e780ee949e0fcadd4d",
       "version_major": 2,
       "version_minor": 0
      },
      "text/plain": [
       "Tab(children=(Output(), Output()), _titles={'0': 'Balance', '1': 'Table'})"
      ]
     },
     "metadata": {},
     "output_type": "display_data"
    },
    {
     "data": {
      "application/vnd.jupyter.widget-view+json": {
       "model_id": "b11e61bc2469464082e4c2607662b107",
       "version_major": 2,
       "version_minor": 0
      },
      "text/plain": [
       "Tab(children=(VBox(children=(FloatSlider(value=0.2, description='Income Tax', max=1.0, step=0.01), FloatSlider…"
      ]
     },
     "metadata": {},
     "output_type": "display_data"
    },
    {
     "data": {
      "text/html": [
       "<div>\n",
       "<style scoped>\n",
       "    .dataframe tbody tr th:only-of-type {\n",
       "        vertical-align: middle;\n",
       "    }\n",
       "\n",
       "    .dataframe tbody tr th {\n",
       "        vertical-align: top;\n",
       "    }\n",
       "\n",
       "    .dataframe thead th {\n",
       "        text-align: right;\n",
       "    }\n",
       "</style>\n",
       "<table border=\"1\" class=\"dataframe\">\n",
       "  <thead>\n",
       "    <tr style=\"text-align: right;\">\n",
       "      <th></th>\n",
       "      <th>Balance</th>\n",
       "      <th>Income</th>\n",
       "      <th>Tax</th>\n",
       "      <th>Social Security</th>\n",
       "      <th>Health Insurance</th>\n",
       "    </tr>\n",
       "    <tr>\n",
       "      <th>t</th>\n",
       "      <th></th>\n",
       "      <th></th>\n",
       "      <th></th>\n",
       "      <th></th>\n",
       "      <th></th>\n",
       "    </tr>\n",
       "  </thead>\n",
       "  <tbody>\n",
       "    <tr>\n",
       "      <th>0.0</th>\n",
       "      <td>0.0</td>\n",
       "      <td>100.00</td>\n",
       "      <td>20.0</td>\n",
       "      <td>0</td>\n",
       "      <td>0</td>\n",
       "    </tr>\n",
       "    <tr>\n",
       "      <th>1.0</th>\n",
       "      <td>80.0</td>\n",
       "      <td>100.00</td>\n",
       "      <td>20.0</td>\n",
       "      <td>0</td>\n",
       "      <td>0</td>\n",
       "    </tr>\n",
       "    <tr>\n",
       "      <th>2.0</th>\n",
       "      <td>160.0</td>\n",
       "      <td>100.00</td>\n",
       "      <td>20.0</td>\n",
       "      <td>0</td>\n",
       "      <td>0</td>\n",
       "    </tr>\n",
       "    <tr>\n",
       "      <th>3.0</th>\n",
       "      <td>240.0</td>\n",
       "      <td>100.00</td>\n",
       "      <td>20.0</td>\n",
       "      <td>0</td>\n",
       "      <td>0</td>\n",
       "    </tr>\n",
       "    <tr>\n",
       "      <th>4.0</th>\n",
       "      <td>320.0</td>\n",
       "      <td>100.00</td>\n",
       "      <td>20.0</td>\n",
       "      <td>0</td>\n",
       "      <td>0</td>\n",
       "    </tr>\n",
       "    <tr>\n",
       "      <th>5.0</th>\n",
       "      <td>400.0</td>\n",
       "      <td>110.00</td>\n",
       "      <td>20.0</td>\n",
       "      <td>0</td>\n",
       "      <td>0</td>\n",
       "    </tr>\n",
       "    <tr>\n",
       "      <th>6.0</th>\n",
       "      <td>490.0</td>\n",
       "      <td>112.50</td>\n",
       "      <td>20.0</td>\n",
       "      <td>0</td>\n",
       "      <td>0</td>\n",
       "    </tr>\n",
       "    <tr>\n",
       "      <th>7.0</th>\n",
       "      <td>582.5</td>\n",
       "      <td>115.00</td>\n",
       "      <td>20.0</td>\n",
       "      <td>0</td>\n",
       "      <td>0</td>\n",
       "    </tr>\n",
       "    <tr>\n",
       "      <th>8.0</th>\n",
       "      <td>677.5</td>\n",
       "      <td>117.50</td>\n",
       "      <td>20.0</td>\n",
       "      <td>0</td>\n",
       "      <td>0</td>\n",
       "    </tr>\n",
       "    <tr>\n",
       "      <th>9.0</th>\n",
       "      <td>775.0</td>\n",
       "      <td>120.00</td>\n",
       "      <td>20.0</td>\n",
       "      <td>0</td>\n",
       "      <td>0</td>\n",
       "    </tr>\n",
       "    <tr>\n",
       "      <th>10.0</th>\n",
       "      <td>875.0</td>\n",
       "      <td>123.75</td>\n",
       "      <td>20.0</td>\n",
       "      <td>0</td>\n",
       "      <td>0</td>\n",
       "    </tr>\n",
       "  </tbody>\n",
       "</table>\n",
       "</div>"
      ],
      "text/plain": [
       "      Balance  Income   Tax  Social Security  Health Insurance\n",
       "t                                                             \n",
       "0.0       0.0  100.00  20.0                0                 0\n",
       "1.0      80.0  100.00  20.0                0                 0\n",
       "2.0     160.0  100.00  20.0                0                 0\n",
       "3.0     240.0  100.00  20.0                0                 0\n",
       "4.0     320.0  100.00  20.0                0                 0\n",
       "5.0     400.0  110.00  20.0                0                 0\n",
       "6.0     490.0  112.50  20.0                0                 0\n",
       "7.0     582.5  115.00  20.0                0                 0\n",
       "8.0     677.5  117.50  20.0                0                 0\n",
       "9.0     775.0  120.00  20.0                0                 0\n",
       "10.0    875.0  123.75  20.0                0                 0"
      ]
     },
     "metadata": {},
     "output_type": "display_data"
    }
   ],
   "source": [
    "from BPTK_Py.visualizations.simple_dashboard import ModelConnection\n",
    "\n",
    "# instantiate dashboard\n",
    "dashboard = SimpleDashboard(bptk, scenario_manager=\"sm\", scenario=\"testScenario2\")\n",
    "\n",
    "# Create all widgets\n",
    "wdg_salary_slider = widgets.FloatSlider(description=\"Salary\", min=0.0, max=1000.0, value=100.0, step=1.0)\n",
    "dashboard.add_widget(wdg_salary_slider, \"salary\")\n",
    "\n",
    "wdg_tax_slider = widgets.FloatSlider(description=\"Income Tax\", min=0.0, max=1.0, value=0.2, step=0.01)\n",
    "dashboard.add_widget(wdg_tax_slider, \"income_tax\")\n",
    "\n",
    "wdg_social_security_slider = widgets.FloatSlider(description=\"Social Security\", min=0.0, max=200.0, value=40.0, step=1.0)\n",
    "dashboard.add_widget(wdg_social_security_slider, \"social_security\")\n",
    "\n",
    "wdg_health_insurance_tick = widgets.Checkbox(description=\"Health insurance\")\n",
    "wdg_health_insurance_drop = widgets.Dropdown(description=\"Type\", options=[\"Fixed rate\", \"Income dependent\"])\n",
    "\n",
    "wdg_health_insurance_fixed_rate = widgets.FloatSlider(description=\"Fixed Rate\", min=0.0, max=400.0, value=0.0, step=1.0)\n",
    "dashboard.add_widget(wdg_health_insurance_fixed_rate, \"health_insurance_fixed\")\n",
    "wdg_health_insurance_income_based = widgets.FloatSlider(description=\"Percentage\", min=0.0, max=1.0, value=0.0, step=0.01)\n",
    "dashboard.add_widget(wdg_health_insurance_income_based, \"health_insurance_income\")\n",
    "\n",
    "wdg_months_select = widgets.Dropdown(description=\"Months\", options=[\"10\", \"20\"])\n",
    "\n",
    "wdg_salary_increase_1 = widgets.FloatSlider(description=\"Salary 1-4\", min=0.0, max=3.0, value=1.0, step=0.01)\n",
    "wdg_salary_increase_2 = widgets.FloatSlider(description=\"Salary 5-9\", min=0.0, max=3.0, value=1.1, step=0.01)\n",
    "wdg_salary_increase_3 = widgets.FloatSlider(description=\"Salary 10-13\", min=0.0, max=3.0, value=1.2, step=0.01)\n",
    "wdg_salary_increase_4 = widgets.FloatSlider(description=\"Salary 13-17\", min=0.0, max=3.0, value=1.35, step=0.01)\n",
    "wdg_salary_increase_5 = widgets.FloatSlider(description=\"Salary 18-20\", min=0.0, max=3.0, value=1.6, step=0.01)\n",
    "\n",
    "# When health insurance is deactivated, the values of wdg_health_insurance_fixed_rate and wdg_health_insurance_income_based are set to 0. These variables save the slider values to restore it if health insurance is enabled again.\n",
    "fixed_rate = 0.0\n",
    "income_based = 0.0\n",
    "\n",
    "# Called when health insurance is deactivated or activated\n",
    "def health_insurance_event(active):\n",
    "    global fixed_rate\n",
    "    global income_based\n",
    "\n",
    "    if(active): # Show widgets\n",
    "        wdg_health_insurance_drop.layout.display = 'flex'\n",
    "\n",
    "        if(wdg_health_insurance_drop.value == \"Fixed rate\"): # If the health insurance type is fixed rate\n",
    "            wdg_health_insurance_fixed_rate.layout.display = 'flex'\n",
    "            wdg_health_insurance_income_based.layout.display = 'none'\n",
    "            wdg_health_insurance_fixed_rate.value = fixed_rate # Restore last slider value\n",
    "        else:  # If the health insurance type is income dependent\n",
    "            wdg_health_insurance_fixed_rate.layout.display = 'none'\n",
    "            wdg_health_insurance_income_based.layout.display = 'flex'\n",
    "            wdg_health_insurance_income_based.value = income_based # Restore last slider value\n",
    "    else: # Hide widgets\n",
    "        wdg_health_insurance_drop.layout.display = 'none'\n",
    "        wdg_health_insurance_fixed_rate.layout.display = 'none'\n",
    "        wdg_health_insurance_income_based.layout.display = 'none'\n",
    "\n",
    "        # Save last slider value\n",
    "        if(wdg_health_insurance_drop.value == \"Fixed rate\"):\n",
    "            fixed_rate = wdg_health_insurance_fixed_rate.value\n",
    "        else:\n",
    "            income_based = wdg_health_insurance_income_based.value\n",
    "        \n",
    "        # Set slider values to 0, to remove the effect of health insurance from the model\n",
    "        wdg_health_insurance_income_based.value = 0.0\n",
    "        wdg_health_insurance_fixed_rate.value = 0.0\n",
    "\n",
    "# Called when the type of health insurance is changed\n",
    "def health_insurance_type_event(type):\n",
    "    global fixed_rate\n",
    "    global income_based\n",
    "\n",
    "    if(type == \"Fixed rate\"): # If the new type is fixed rate\n",
    "        # Remove income based slider, save the value and set it to 0\n",
    "        wdg_health_insurance_income_based.layout.display = 'none'\n",
    "        income_based = wdg_health_insurance_income_based.value\n",
    "        wdg_health_insurance_income_based.value = 0.0\n",
    "        \n",
    "        # Show fixed rate slider, restore the value\n",
    "        wdg_health_insurance_fixed_rate.layout.display = 'flex'\n",
    "        wdg_health_insurance_fixed_rate.value = fixed_rate\n",
    "\n",
    "    else:\n",
    "        # Remove fixed rate slider, save the value and set it to 0\n",
    "        wdg_health_insurance_fixed_rate.layout.display = 'none'\n",
    "        fixed_rate = wdg_health_insurance_fixed_rate.value\n",
    "        wdg_health_insurance_fixed_rate.value = 0.0\n",
    "        \n",
    "        # Show income based slider, restore the value\n",
    "        wdg_health_insurance_income_based.layout.display = 'flex'\n",
    "        wdg_health_insurance_income_based.value = income_based\n",
    "\n",
    "\n",
    "def month_select(months):\n",
    "    dashboard.update_plot_data(\"visualize_to_period\", int(months) + 1, -1)\n",
    "\n",
    "# Add widgets to the dashboard\n",
    "dashboard.add_widget(wdg_health_insurance_tick, health_insurance_event)\n",
    "dashboard.add_widget(wdg_health_insurance_drop, health_insurance_type_event)\n",
    "dashboard.add_widget(wdg_months_select, month_select)\n",
    "dashboard.add_widget(wdg_salary_increase_1, model_connection=ModelConnection(element=\"salary_curve\", points=[0,1,2,3]))\n",
    "dashboard.add_widget(wdg_salary_increase_2, model_connection=ModelConnection(element=\"salary_curve\", points=[4]))\n",
    "dashboard.add_widget(wdg_salary_increase_3, model_connection=ModelConnection(element=\"salary_curve\", points=[5]))\n",
    "dashboard.add_widget(wdg_salary_increase_4, model_connection=ModelConnection(element=\"salary_curve\", points=[6]))\n",
    "dashboard.add_widget(wdg_salary_increase_5, model_connection=ModelConnection(element=\"salary_curve\", points=[7]))\n",
    "dashboard.add_widget(wdg_months_select, month_select)\n",
    "dashboard.add_widget(wdg_months_select, month_select)\n",
    "dashboard.add_widget(wdg_months_select, month_select)\n",
    "dashboard.add_widget(wdg_months_select, month_select)\n",
    "\n",
    "# Hide widgets\n",
    "wdg_health_insurance_drop.layout.display = 'none'\n",
    "wdg_health_insurance_fixed_rate.layout.display = 'none'\n",
    "wdg_health_insurance_income_based.layout.display = 'none'\n",
    "\n",
    "def table():\n",
    "    df = bptk.plot_scenarios(\n",
    "        scenario_managers=[\"sm\"],\n",
    "        scenarios=[\"testScenario2\"],\n",
    "        equations=[\"balance\", \"income_in\", \"income_tax_in\", \"social_security_in\", \"health_insurance_in\"],\n",
    "        title=\"Table Example\",\n",
    "        series_names={\"sm_testScenario2_balance\": \"Balance\", \"sm_testScenario2_income_in\": \"Income\", \"sm_testScenario2_income_tax_in\": \"Tax\", \"sm_testScenario2_social_security_in\": \"Social Security\", \"sm_testScenario2_health_insurance_in\": \"Health Insurance\"},\n",
    "        return_df=True,\n",
    "        visualize_to_period=int(wdg_months_select.value)+1\n",
    "    )\n",
    "\n",
    "    display(df)\n",
    "\n",
    "plot_table = dashboard.add_custom_plot(table)\n",
    "\n",
    "plot = dashboard.add_plot(\n",
    "    equations=[\"balance\"], \n",
    "    names=[\"Balance\"],\n",
    "    title=\"Account Balance\",\n",
    "    visualize_to_period=11,\n",
    "    x_label=\"Months\",\n",
    "    y_label=\"Balance\",\n",
    ")\n",
    "\n",
    "tabbed_graphs = widgets.Tab([plot, plot_table])\n",
    "tabbed_graphs.set_title(0, \"Balance\")\n",
    "tabbed_graphs.set_title(1, \"Table\")\n",
    "\n",
    "main_controls = widgets.VBox([wdg_tax_slider, wdg_social_security_slider, wdg_months_select])\n",
    "salary_controls = widgets.VBox([wdg_salary_slider, wdg_salary_increase_1, wdg_salary_increase_2, wdg_salary_increase_3, wdg_salary_increase_4, wdg_salary_increase_5])\n",
    "health_insurance_controls = widgets.VBox([wdg_health_insurance_tick, wdg_health_insurance_drop, wdg_health_insurance_fixed_rate, wdg_health_insurance_income_based])\n",
    "\n",
    "controls_tab = widgets.Tab([main_controls, salary_controls, health_insurance_controls])\n",
    "controls_tab.set_title(0, \"General\")\n",
    "controls_tab.set_title(1, \"Salary\")\n",
    "controls_tab.set_title(2, \"Health insurance\")\n",
    "\n",
    "display(tabbed_graphs)\n",
    "display(controls_tab)\n",
    "\n",
    "dashboard.start()"
   ]
  }
 ],
 "metadata": {
  "interpreter": {
   "hash": "829b5de4ab4fd1954ada4a5f2b22709021a5048cae9a1512fbbbf59543079bf0"
  },
  "kernelspec": {
   "display_name": "Python 3.9.7 64-bit",
   "language": "python",
   "name": "python3"
  },
  "language_info": {
   "codemirror_mode": {
    "name": "ipython",
    "version": 3
   },
   "file_extension": ".py",
   "mimetype": "text/x-python",
   "name": "python",
   "nbconvert_exporter": "python",
   "pygments_lexer": "ipython3",
   "version": "3.9.7"
  },
  "orig_nbformat": 4
 },
 "nbformat": 4,
 "nbformat_minor": 2
}
