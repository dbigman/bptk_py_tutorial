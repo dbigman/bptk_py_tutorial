{
 "cells": [
  {
   "cell_type": "markdown",
   "metadata": {},
   "source": [
    "# How To: Accessing Raw Simulation Results\n",
    "\n",
    "In some situations, it is helpful obtain the raw simulation results rather than the plot. To activate this feature, set the ``return_df`` flag to ``True``.\n",
    "\n",
    "Below is example code that runs a scenario and sets ``return_df`` to true. This way it is possible to work with the data outside ``BPTK_Py``!"
   ]
  },
  {
   "cell_type": "code",
   "execution_count": 1,
   "metadata": {},
   "outputs": [],
   "source": [
    "from BPTK_Py.bptk import bptk\n",
    "bptk = bptk()"
   ]
  },
  {
   "cell_type": "code",
   "execution_count": 2,
   "metadata": {},
   "outputs": [],
   "source": [
    "df = bptk.plot_scenarios(\n",
    "    scenario_managers=[\"smSimpleProjectManagement\"],\n",
    "    scenarios=[\"scenario120\"], \n",
    "    equations=[\"openTasks\"],\n",
    "    title=\"Deadline changes\\n\",\n",
    "    x_label=\"Time\",start_date=\"1/1/2018\",freq=\"M\",\n",
    "    y_label=\"Marketing Budget (USD)\",\n",
    "    kind=\"line\",\n",
    "    return_df=True ## <--- HERE\n",
    "    ,series_names = {\"smSimpleProjectManagement_scenario120_openTasks\" : \"openTasks\"}\n",
    "    )"
   ]
  },
  {
   "cell_type": "markdown",
   "metadata": {},
   "source": [
    "The following code prints useful information by calling the ``head()`` and ``describe()`` functions of the dataFrame. Head return the first 5 elements and Describe gives some important information on the data.\n",
    "For instance, we learn that there are 121 elements in the dataFrame (\"count\"). Further values are the mean, standard deviation, min, max, and the 25th / 50th and 75th percentile."
   ]
  },
  {
   "cell_type": "code",
   "execution_count": 3,
   "metadata": {},
   "outputs": [
    {
     "name": "stdout",
     "output_type": "stream",
     "text": [
      "***************************\n",
      "Properties of the dataFrame\n",
      "\t first 5 elements:\n",
      "             openTasks\n",
      "2018-01-31  120.000000\n",
      "2018-02-28  118.904800\n",
      "2018-03-31  117.809096\n",
      "2018-04-30  116.712881\n",
      "2018-05-31  115.616145\n",
      "\n",
      "Main description of the dataFrame\n",
      "        openTasks\n",
      "count  121.000000\n",
      "mean    53.582193\n",
      "std     38.468884\n",
      "min      0.000000\n",
      "25%     18.411872\n",
      "50%     53.185085\n",
      "75%     86.886076\n",
      "max    120.000000\n"
     ]
    }
   ],
   "source": [
    "print(\"***************************\")\n",
    "print(\"Properties of the dataFrame\")\n",
    "print(\"\\t first 5 elements:\")\n",
    "print(df.head())\n",
    "print(\"\")\n",
    "print(\"Main description of the dataFrame\")\n",
    "print(df.describe())"
   ]
  },
  {
   "cell_type": "markdown",
   "metadata": {},
   "source": [
    "\n",
    "To select only certain periods, two different approaches can be used. \n",
    "1. Use the list index representation\n",
    "2. Use dates (if you created a time series using ``start_date``)\n",
    "\n",
    "In both cases, the selected range is supplied  in square brackets:"
   ]
  },
  {
   "cell_type": "code",
   "execution_count": 4,
   "metadata": {},
   "outputs": [
    {
     "name": "stdout",
     "output_type": "stream",
     "text": [
      "BY INDEX\n",
      "             openTasks\n",
      "2018-01-31  120.000000\n",
      "2018-02-28  118.904800\n",
      "2018-03-31  117.809096\n",
      "2018-04-30  116.712881\n",
      "2018-05-31  115.616145\n",
      "2018-06-30  114.518882\n",
      "\n",
      "BY YEAR-MONTH:\n",
      "             openTasks\n",
      "2018-01-31  120.000000\n",
      "2018-02-28  118.904800\n",
      "2018-03-31  117.809096\n",
      "2018-04-30  116.712881\n",
      "2018-05-31  115.616145\n",
      "2018-06-30  114.518882\n",
      "\n",
      "CHECK FOR EQUALITY OF BOTH\n",
      "            openTasks\n",
      "2018-01-31       True\n",
      "2018-02-28       True\n",
      "2018-03-31       True\n",
      "2018-04-30       True\n",
      "2018-05-31       True\n",
      "2018-06-30       True\n"
     ]
    }
   ],
   "source": [
    "# Select 06 first months\n",
    "by_index = df[0:6] \n",
    "\n",
    "# Select all values of the months January to June 2018:\n",
    "by_year = df[\"2018-01\":\"2018-06\"]\n",
    "\n",
    "print(\"BY INDEX\")\n",
    "print(by_index)\n",
    "\n",
    "print(\"\")\n",
    "print(\"BY YEAR-MONTH:\")\n",
    "print(by_year)\n",
    "\n",
    "print(\"\")\n",
    "print(\"CHECK FOR EQUALITY OF BOTH\")\n",
    "print(by_index == by_year)"
   ]
  },
  {
   "cell_type": "markdown",
   "metadata": {},
   "source": [
    "This allows for versatile and easy analysis of the returned data. For example, equality testing using ``by_index == by_year``. The return type is a ``Series`` that may be used for further computation.\n",
    "We will now simulate the equation \"closedTasks\" and generate a second dataFrame and append it to the existing dataFrame:"
   ]
  },
  {
   "cell_type": "code",
   "execution_count": 5,
   "metadata": {},
   "outputs": [],
   "source": [
    "df_closed = bptk.plot_scenarios(\n",
    "    scenario_managers=[\"smSimpleProjectManagement\"],\n",
    "    scenarios=[\"scenario120\"], \n",
    "    equations=[\"closedTasks\"],\n",
    "    title=\"Deadline changes\\n\",\n",
    "    x_label=\"Time\",start_date=\"1/1/2018\",freq=\"M\",\n",
    "    y_label=\"Tasks\",\n",
    "    kind=\"line\",\n",
    "    return_df=True,\n",
    "    series_names= {\"smSimpleProjectManagement_scenario120_closedTasks\":\"closedTasks\"}\n",
    "    )\n",
    "\n",
    "\n",
    "df[\"closedTasks\"] = df_closed[\"closedTasks\"]"
   ]
  },
  {
   "cell_type": "markdown",
   "metadata": {},
   "source": [
    "This shows how easy it is to maniupulate series data. Similarly, we may create new series using computation:"
   ]
  },
  {
   "cell_type": "code",
   "execution_count": 6,
   "metadata": {},
   "outputs": [
    {
     "name": "stdout",
     "output_type": "stream",
     "text": [
      "2018-01-31    120.0\n",
      "2018-02-28    120.0\n",
      "2018-03-31    120.0\n",
      "2018-04-30    120.0\n",
      "2018-05-31    120.0\n",
      "Freq: M, Name: initialOpenTasks, dtype: float64\n"
     ]
    }
   ],
   "source": [
    "df[\"initialOpenTasks\"] = df[\"openTasks\"] + df[\"closedTasks\"]\n",
    "print(df[\"initialOpenTasks\"].head())"
   ]
  },
  {
   "cell_type": "markdown",
   "metadata": {},
   "source": [
    "As you can see, the DataFrame handles all the heavy lifting and we can focus on high-level analysis.\n",
    "Every value should now be 120, just like the initial number of tasks of the scenario ``scenario120``.\n",
    "As the last example, we will now compute the percentage of tasks closed:"
   ]
  },
  {
   "cell_type": "code",
   "execution_count": 7,
   "metadata": {},
   "outputs": [
    {
     "data": {
      "image/png": "[encoded data removed]",
      "text/plain": [
       "<Figure size 1440x720 with 1 Axes>"
      ]
     },
     "metadata": {
      "needs_background": "light"
     },
     "output_type": "display_data"
    }
   ],
   "source": [
    "df[\"Percent Tasks Closed\"] = df[\"closedTasks\"] / df[\"initialOpenTasks\"] * 100\n",
    "\n",
    "### and plot it:\n",
    "plt=df[\"Percent Tasks Closed\"].plot(title=\"Tasks closed %\",figsize=(20,10))"
   ]
  },
  {
   "cell_type": "code",
   "execution_count": null,
   "metadata": {},
   "outputs": [],
   "source": []
  }
 ],
 "metadata": {
  "interpreter": {
   "hash": "5721abfe33942d351f7b09905420df100ba8c34b49fc290848df1028bfa2da07"
  },
  "kernelspec": {
   "display_name": "Python 3",
   "language": "python",
   "name": "python3"
  },
  "language_info": {
   "codemirror_mode": {
    "name": "ipython",
    "version": 3
   },
   "file_extension": ".py",
   "mimetype": "text/x-python",
   "name": "python",
   "nbconvert_exporter": "python",
   "pygments_lexer": "ipython3",
   "version": "3.9.5"
  }
 },
 "nbformat": 4,
 "nbformat_minor": 4
}
