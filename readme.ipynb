{
 "cells": [
  {
   "cell_type": "markdown",
   "metadata": {},
   "source": [
    "# Overview Of The BPTK-Py Tutorial"
   ]
  },
  {
   "cell_type": "markdown",
   "metadata": {},
   "source": [
    "Welcome to the BPTK-PY tutorial. This tutorial contain sample agent-based and System Dynamics models along with Jupyter notebooks that illustrate the features of the BPTK-Py framework. This tutorial is designed as a companion to the [BPTK-Py online documentation](http://bptk.transentis-labs.com).\n",
    "\n",
    "The objective of the tutorials is to illustrate how to use the BPTK-Py framework, not to introduce System Dynamics modeling or Agent-based modeling in general.\n",
    "\n",
    "We illustrate the framework using three simple models:\n",
    "\n",
    "* __Simple Project Management Model__. This model is an illustration of [Parkinson's law](https://en.wikipedia.org/wiki/Parkinson%27s_law), which states that work expands so as to fill the time available for its completion. \n",
    "* __Bass Diffusion Model__. This model is an implementation of the [Bass diffusion model](https://en.wikipedia.org/wiki/Bass_diffusion_model) originally created by [Frank Bass](https://en.wikipedia.org/wiki/Frank_Bass) that describes the process of how new products get adopted in a population. The Bass model has been widely used in forecasting, especially new products' sales forecasting and technology forecasting.\n",
    "* __Customer Acquisition Model__. A small model about referal marketing that builds upon the Bass Diffusion Model.\n",
    "\n",
    "The objective of this tutorial is to show you how to use the BPTK-Py framework and not to explain these models. If you want to learn more about the models themselves, please refer to our blog:\n",
    "\n",
    "* [Step-by-step introduction to System Dynamics](https://www.transentis.com/step-by-step-tutorials/introduction-to-system-dynamics/) using the simple project management model.\n",
    "* Introduction to the [Bass Diffusion Model](https://www.transentis.com/causal-loop-diagramming/).\n",
    "* The [Customer Acquisition Model](https://www.transentis.com/an-example-to-illustrate-the-business-prototyping-methodology) is discussed in our series of post introducing the Business Prototyping Methodology.\n",
    "\n",
    "Here is an overview of the documents contained in this tutorial:\n",
    "\n",
    "* __Introduction__\n",
    "    * [Writing Computational Essays Using Simulation Models](writing_computational_essays.ipynb). Introduction to writing Computational Essays around System Dynamics models created using the XMILE Standard (e.g. using  ®Stella or ®iThink).\n",
    "* __In Depth Discussions__\n",
    "    * [The Architecture of the BPTK-Py Framework](in_depth_bptk_py_architecture.ipynb) Explains the overall architecture of the BPTK-Py framework.\n",
    "    * [A Simple Python Library for System Dynamics](in_depth_simple_python_library_sd_dsl.ipynb). Introduction to building System Dynamics models directly in Juptyer Notebooks, using SD DSL, a specially created domain specific language for System Dynamics, that is part of BPTK-Py.\n",
    "    * [SD DSL Functions](in_depth_sd_dsl_functions.ipynb) An overview of how to use the SD DSL operators such as MIN, MAX and DELAY.\n",
    "    * [Agent-based Modeling with BPTK-Py](in_depth_agent_based_modeling.ipynb) Illustrates how to create an agent-based implementation of a simple project management model.\n",
    "    * [Scenarios In Depth](in_depth_scenarios.ipynb) Explains the scenario definition format and how to add and manipulate scenarios at run-time.\n",
    "* __How To's__\n",
    "    * [How To: Working With XMILE System Dynamics Models](how_to_working_with_XMILE.ipynb) Illustrates the quickest route to importing a System Dynamics model stored in the XMILE format, such as those created with ®Stella (*.stmx) or ®iThink (*.itmx).\n",
    "    * [How To: Accessing Raw Simulation Results](how_to_accessing_raw_simulation_results.ipynb) Explains how to access raw simulation results with scenarios.\n",
    "    * [How To: Advanced Plotting Features](how_to_advanced_plotting_features.ipynb) Discusses some advanced features of the `bptk.plot_scenarios` method.\n",
    "    * [How To: Building Interactive Dashboards](how_to_interactive_dashboards.ipynb). Shows how do build simple interactive dashboards using the `bptk.dashboard` method.\n",
    "    * [How To: Developing Advanced User-Interfaces](how_to_developing_advanced_user_interfaces.ipynb) Explains how to develop more advanced user interfaces using Jupyter Widgets, Pandas dataframes and Matplotlib.\n",
    "    * [How To: Exporting Simulation Results](how_to_exporting_simulation_results.ipynb) Explains how to export simulation results into a spreadsheet.\n",
    "    * [How To: Creating User Defined Functions in SD Models](how_to_sd_user_defined_functions.ipynb) Explains how to create user defined functions in SD models.\n",
    "    * [How To: Writing Tests For Models](how_to_writing_tests_for_models.ipynb) Explains how to write model tests using the `bptk.model_check` method.\n",
    "    * [How To: Modifying Models At Runtime](how_to_modifying_models_at_runtime.ipynb) Explain how to modify models that have been transpiled from XMILE models at runtime.\n",
    "  \n",
    "   \n",
    "   \n",
    "\n",
    "Please let us know if you need help getting started, if you find a bug or are missing important functionality. You can best reach us per e-mail at [support@transentis.com](mailto:supprt@transentis.com)"
   ]
  },
  {
   "cell_type": "code",
   "execution_count": null,
   "metadata": {},
   "outputs": [],
   "source": []
  }
 ],
 "metadata": {
  "kernelspec": {
   "display_name": "Python 3",
   "language": "python",
   "name": "python3"
  },
  "language_info": {
   "codemirror_mode": {
    "name": "ipython",
    "version": 3
   },
   "file_extension": ".py",
   "mimetype": "text/x-python",
   "name": "python",
   "nbconvert_exporter": "python",
   "pygments_lexer": "ipython3",
   "version": "3.7.3"
  }
 },
 "nbformat": 4,
 "nbformat_minor": 4
}
