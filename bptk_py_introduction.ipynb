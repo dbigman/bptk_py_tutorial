{
 "cells": [
  {
   "cell_type": "markdown",
   "metadata": {},
   "source": [
    "# Writing Computational Essays Based On Simulation Models\n",
    "\n",
    "## How to use Jupyter and Python to rapidly build interactive stories based on System Dynamics simulations\n",
    "\n",
    "**If you want to use the insights gained from simulation models to transform your enterprise, just having the model and the insights alone are often not enough â€“ you need to develop a good story that persuades your stakeholders to make decisions and take action.**\n",
    "\n",
    "**Our BPTK_PY library allows you to convert System Dynamics models into Python code and run them in the powerful Jupyter notebook environment, which is a wonderful place for writing interactive, data-driven papers and reports.**\n",
    "\n",
    "In our post [Telling Stories with System Dynamics Models](https://www.transentis.com/telling-stories-with-system-dynamics-models/) we introduced our approach to telling interactive stories based on simulation models built using System Dynamics.\n",
    "\n",
    "Writing such interactive stories is quite challenging, even if your simulation model is already fairly complete, because you need to craft the storyline while testing different scenarios with the simulation model.\n",
    "\n",
    "We realised early on that what we needed a \"interactive writing environment\" that would help us to prototype a complex story line while still building the model:\n",
    "\n",
    "* Build an initial simulation model using a visual modeling tool.\n",
    "* Start writing a story around the model using the interactive writing environment.\n",
    "* Use the new questions and insights that arise during the writing process to drive experiments with the simulation model â€“ this may lead to changes in both the model and the storyline.\n",
    "\n",
    "In 2014 we started writing such \"computational essays\" using [Wolfram Research'](http://www.wolfram.com) MathematicaÂ®. \n",
    "\n",
    "Mathematica is a wonderful and very powerful tool to support this process â€“ it is a complete environment that supports writing, computation, presentation and very sophisticated interactive dashboards.\n",
    "\n",
    "Mathematica does not contain native support for System Dynamics, but we crafted a small library that allows us to import System Dynamics models based on the XMILE standard and to run them in Mathematica (see this [blog post](https://www.transentis.com/building-interactive-stories-from-simulation-models/) for details on that).\n",
    "\n",
    "But since 2014 a lot has happened in the world of computational modelling ... Python has become the premiere programming language for data science and its use has thus become even more ubiquitous, and with it the [Jupyter](http://www.jupyter.org) notebook environemnt (using the IPython kernel).\n",
    "\n",
    "Both Mathematica and Jupyter are fantastic environments for creating computational essays and \"story-driven simulations\":\n",
    "\n",
    "* Working with Mathematica and the Wolfram Language is incredibly productive thanks to the symbolic nature of the language and the way it integrates into the highly sophisticated Mathematica notebook environment.\n",
    "* Currently Jupyter notebooks still lack the sophistication of Mathematica notebooks. But what sets the Jupyter/IPython ecosystem appart is that it is open source (and thus free to use for everyone), highly extensible and very widely used in the data science/computational modeling community - it is thus much easier to find books, training materials and skilled resources.\n",
    "\n",
    ">For a more in-depth comparison of Jupyter and Mathematica see Paul Romer's very interesting [blog post](https://paulromer.net/jupyter-mathematica-and-the-future-of-the-research-paper/) on this topic. Also be sure to read the [Atlantic Article](https://www.theatlantic.com/science/archive/2018/04/the-scientific-paper-is-obsolete/556676/) referenced by Paul Romer.\n",
    "\n",
    "Because Jupyter and Python are free to use, we decided to port our Business Prototyping Toolkit to the Jupyer/Python universe  and also provide it free of charge - which means you can now create simulation models using System Dynamics and let them run in Python.\n",
    "\n",
    "Our approach is very powerful and liberating, because it turns our models into computable objects â€“ we can now use our simulation models in new ways, quite independently of the modeling environment in which we create the model.\n",
    "\n",
    "Some \"everyday\" examples of such uses are:\n",
    "\n",
    "* Writing up a report (or paper) based on a System Dynamics model using Jupyter and plotting all related graphs directly in Jupyter. \n",
    "* Creating and managing a comprehensive set of scenarios pertaining to that model.\n",
    "* Creating an interactive dashboard for a model.\n",
    "* Sharing models, dashboards and reports with people who do not have access to the original model environment.\n",
    "* Comparing multiple versions of a model to each other.\n",
    "\n",
    "We provide examples for all these points later in this document.\n",
    "\n",
    "More advanced examples for using models as computable objects are:\n",
    "\n",
    "* creating interactive games (see our version of the [Beergame](https://www.transentis.com/understanding-the-beer-game) and the computational essay that goes with it. We built the model underlying the game using System Dynamics and transpiled the model into Javascript using our Javascript transpiler),\n",
    "* performing monte-carlo sensitivity analysis of a model on multiple machines in parallel, using state-of-the art, scalable parallel processing engines such as [Apache Spark](http://spark.apache.org)\n",
    "* training machine learning algorithms using System Dynamics models.\n",
    "* combining system dynamics models with other computational model techniques, such as agent based modeling.\n",
    "\n",
    "\n",
    "We are providing the BPTK PY framework as a closed source framework under the [MIT license](https://en.wikipedia.org/wiki/MIT_License), which means you are free to use the framework in your own modeling projects. You can download the Jupyter Notebook and System Dynamics model corresponding to this blog post along with installation instructions and a more detailed tutorial in our [member area](https://www.transentis.com/member-area/) - please sign up to the member area first if you do not have an account yet.\n",
    "\n",
    "To demonstrate our computational essay approach using our BPTK PY framework we will use a very simple System Dynamics model. The System Dynamics model itself was built using the dynamic modeling and simulation software StellaÂ® from [iseesystems](http://www.iseesystems.com).\n",
    "\n",
    "Stella saves models using the [XMILE format](https://www.oasis-open.org/committees/tc_home.php?wg_abbrev=xmile), which is an open XML protocol for sharing interoperable system dynamics models and simulations. The XMILE standard is governed by the OASIS standards consortium - our framework currently only supports XMILE, we may create a compiler for other formats (such as VensimÂ® by [Ventana Systems](http://www.vensim.com)) in the future ([send us an email](mailto:support@transentis.com) if you are interested in this).\n",
    "\n",
    "To illustrate how our framework works, this post uses the model from our [Step-By-Step Introduction To System Dynamics](https://www.transentis.com/step-by-step-tutorials/introduction-to-system-dynamics/).\n",
    "\n",
    "We've included the stock and flow diagram of the entire model below â€“ you don't need to understand how the model works to follow this post, but knowing the stock and flow structure will be useful.\n",
    "\n",
    "![Simple Project Management Model](images/intro/simple_project_diagram.png)\n",
    "\n",
    "The following sections illustrated various aspects of our framework and of how to use it.\n",
    "\n",
    "* [Importing the BPTK_Py Framework](#Importing-The-Framework)\n",
    "* [Setting up Scenarios and Scenario Managers](#Setting-up-Scenarios-and-Scenario-Managers)\n",
    "* [Plotting Scenario Results](#Plotting-Scenario-Results)\n",
    "* [Creating Interactive Simulation Dashboards](#Creating-Interactive-Simulation-Dashboards)\n",
    "* [Accessing The Underlying System Dynamics Model](#Accessing-the-Underlying-System-Dynamics-Model)\n",
    "* [Accessing Model Information](#Accessing-Model-Information)\n",
    "* [Checking and Comparing Models](#Checking-and-Comparing-Models)\n",
    "\n",
    "### Importing The Framework\n",
    "\n",
    "The Business Prototyping Toolkit for Python comes with a model transpiler, which automatically converts SD-models created with [Stella](http://www.iseesystems.com) into Python Code, a model simulator which let's you run those models in a Python environment (such as a Jupyter notebook), a simple format for defining scenarios, and some methods to plot simulation results - these methods form the BPTK API.\n",
    "\n",
    "For most users, this will be enough initialy: you create the model using Stella and experiment with it by defining scenarios and plotting graphs in Jupyter notebooks. Whenever you change the model in Stella, the model is automatically transpiled to Python in a background process. Hence you can work on your model (in Stella) and write your computational essay (in Jupyter) in parallel.\n",
    "\n",
    "You only need very limited Python skills to do this â€“ the following sections show all the code that is needed to get up and running, our downloadable tutorial provides detailed installation instructions. we have found that even modelers who are new to Jupyter and Python can get productive with our toolkit within a few hours.\n",
    "\n",
    "More advanced users can use the full power of Jupyter and Python to access and manipulate the underlying simulation model and simulation results.\n",
    "\n",
    ">For those of you that are new to Jupyter: Please run the code cells by pushing ``Shift + Enter``. The next code cell imports the BPTK_Py package and initializes it. This may take some time during the first run, because some necessary libraries will be downloaded from the [NPM repository](http://www.npmjs.org). "
   ]
  },
  {
   "cell_type": "code",
   "execution_count": null,
   "metadata": {
    "scrolled": true
   },
   "outputs": [],
   "source": [
    "## BPTK Package\n",
    "from BPTK_Py.bptk import bptk \n",
    "\n",
    "bptk = bptk()"
   ]
  },
  {
   "cell_type": "markdown",
   "metadata": {},
   "source": [
    "### Setting up Scenarios and Scenario Managers"
   ]
  },
  {
   "cell_type": "markdown",
   "metadata": {},
   "source": [
    "Scenarios are just particular settings for the constants and graphical functions in your model and scenario managers are a simple way of grouping scenarios.\n",
    "\n",
    "You can create scenarios directly in Python, but the easiest way to maintain them is to keep them in separate files â€“ you can define as many scenario managers and scenarios in a file as you would like and use as many files as you would like. Each scenario manager references the model it pertains to. So you can run multiple simulation models in one notebook.\n",
    "\n",
    "All the scenario definition files are kept in the ``scenarios/`` folder. The BPTK_Py framework will automatically scan this folder and load the scenarios â€“ including the underlying simulation models â€“ into memory.\n",
    "\n",
    "The following code lists all available scenario managers and scenarios:"
   ]
  },
  {
   "cell_type": "code",
   "execution_count": null,
   "metadata": {},
   "outputs": [],
   "source": [
    "print(\"Available Scenario Managers and Scenarios:\")\n",
    "\n",
    "managers = bptk.scenario_manager_factory.get_scenario_managers(scenario_managers_to_filter=[])\n",
    "\n",
    "for key, manager in managers.items():\n",
    "     print(\"\")\n",
    "     print(\"*** {} ***\".format(key))\n",
    "\n",
    "     for name in manager.get_scenario_names():\n",
    "         print(\"\\t {}\".format(name))"
   ]
  },
  {
   "cell_type": "markdown",
   "metadata": {},
   "source": [
    "As the filename suggests, scenarios are defined using the [JSON format](http://www.json.org):\n",
    "```\n",
    "\"smSimpleProjectManagement\":{\n",
    "    \"source\":\"simulation_models/sd_simple_project.itmx\",\n",
    "    \"model\":\"simulation_models/sd_simple_project\",\n",
    "    \"scenarios\":{\n",
    "      \"scenario100\":{\n",
    "        \"constants\": {\n",
    "          \"deadline\": 100,\n",
    "          \"effortPerTask\": 1,\n",
    "          \"initialOpenTasks\": 100,\n",
    "          \"initialStaff\": 1\n",
    "        }\n",
    "      }\n",
    "    }\n",
    "  }\n",
    "  ```"
   ]
  },
  {
   "cell_type": "markdown",
   "metadata": {},
   "source": [
    "The outer bracket  defines the scenario manager. Next to containing a number of scenarios, the scenario manager also defines which model the scenarios apply to (the `source` field and also the `model` file which contains the model's transpiled Python code.\n",
    "\n",
    "Each scenario gets a name (`scenario100` in this example) and a list of constants which define the scenario settings.\n",
    "\n",
    "We can also take a look at how the scenario is stored in our Python Scenario Manager:"
   ]
  },
  {
   "cell_type": "code",
   "execution_count": null,
   "metadata": {},
   "outputs": [],
   "source": [
    "bptk.scenario_manager_factory.get_scenario(\"smSimpleProjectManagement\",\"scenario100\").dictionary"
   ]
  },
  {
   "cell_type": "markdown",
   "metadata": {},
   "source": [
    "The only difference in `scenario80` is that we have set the number of initial open tasks to 80 instead of 100."
   ]
  },
  {
   "cell_type": "code",
   "execution_count": null,
   "metadata": {},
   "outputs": [],
   "source": [
    "bptk.scenario_manager_factory.get_scenario(\"smSimpleProjectManagement\",\"scenario80\").dictionary"
   ]
  },
  {
   "cell_type": "markdown",
   "metadata": {},
   "source": [
    "### Plotting Scenario Results\n",
    "#### Example 1: Multiple Equations for one scenario\n",
    "Let's assume that we would like to plot multiple equations for the same scenario.\n",
    "\n",
    "All plotting is done using the ``bptk.plot_cenarios`` method. We just need to pass the name of the scenario ('scenario100') and the list of equations ('openTasks' and 'closedTasks')."
   ]
  },
  {
   "cell_type": "code",
   "execution_count": null,
   "metadata": {},
   "outputs": [],
   "source": [
    "bptk.plot_scenarios(\n",
    "    scenario_managers=[\"smSimpleProjectManagement\"],\n",
    "    scenarios=[\"scenario100\"], \n",
    "    equations=['openTasks','closedTasks'],\n",
    "    title=\"Tasks remaining vs. Tasks closed\",\n",
    "    freq=\"D\",\n",
    "    start_date=\"1/1/2018\",\n",
    "    x_label=\"Time\",\n",
    "    y_label=\"Tasks\"\n",
    ")"
   ]
  },
  {
   "cell_type": "markdown",
   "metadata": {},
   "source": [
    "As you can see we can easly change the name of the diagram, the axes labels and the time scale. A legend showing the names of the plotted equations is displayed automatically.The colors for the plots are set in a configuration file - you can learn more about how to do this in the advanced documentation contained in our tutorial."
   ]
  },
  {
   "cell_type": "markdown",
   "metadata": {},
   "source": [
    "#### Renaming the series\n",
    "The equation names (such as `openTasks`) are often not the kind of names you want to show to the reader â€“ in this case for instance we would much rather use the phrase `Open Tasks`.\n",
    "\n",
    "Fortunately we can use the ``series_name`` parameter to rename them. "
   ]
  },
  {
   "cell_type": "code",
   "execution_count": null,
   "metadata": {},
   "outputs": [],
   "source": [
    "bptk.plot_scenarios(\n",
    "    scenario_managers=[\"smSimpleProjectManagement\"],\n",
    "    scenarios=[\"scenario100\"], \n",
    "    equations=['openTasks','closedTasks'],\n",
    "    title=\"Renaming Equations\",\n",
    "     freq=\"D\",\n",
    "    start_date=\"1/1/2018\",\n",
    "    x_label=\"Time\",\n",
    "    y_label=\"Tasks\",\n",
    "    series_names={\"openTasks\" : \"Open Tasks\",\"closedTasks\" : \"Closed Tasks\"}\n",
    ")"
   ]
  },
  {
   "cell_type": "markdown",
   "metadata": {},
   "source": [
    "#### Example 2: Plot one equation for multiple scenarios\n",
    "Now let us change the perspective. In the above example we assumed one scenario for which we simulate multiple equations. Now we simulate **one equation for multiple scenarios**. This is useful whenever we want to compare the behaviour of the same model element between different scenarios.\n",
    "\n",
    "To achieve this, we supply just one equation and a list of scenarios to the `plot_scenarios` method."
   ]
  },
  {
   "cell_type": "code",
   "execution_count": null,
   "metadata": {},
   "outputs": [],
   "source": [
    "bptk.plot_scenarios(\n",
    "    scenario_managers=[\"smSimpleProjectManagement\"],\n",
    "    scenarios=[\"scenario80\",\"scenario100\",\"scenario120\"],\n",
    "    equations=[\"openTasks\"],\n",
    "    title=\"One Equation for Multiple Scenarios\",\n",
    "     freq=\"D\",\n",
    "    start_date=\"1/1/2018\",\n",
    "    x_label=\"Time\",\n",
    "    y_label=\"Tasks\",\n",
    "    series_names={\n",
    "        \"scenario80_openTasks\":\"80 initial open tasks\",\n",
    "        \"scenario100_openTasks\":\"100 initial open tasks\",\n",
    "        \"scenario120_openTasks\":\"120 initial open tasks\"\n",
    "    }\n",
    ")"
   ]
  },
  {
   "cell_type": "code",
   "execution_count": null,
   "metadata": {},
   "outputs": [],
   "source": [
    "bptk.plot_scenarios(\n",
    "    scenario_managers=[\"smSimpleProjectManagement\"],\n",
    "    scenarios=[\"scenario80\",\"scenario100\",\"scenario120\"],\n",
    "    equations=[\"productivity\"],\n",
    "    title=\"One Equation for Multiple Scenarios\",\n",
    "     freq=\"D\",\n",
    "    start_date=\"1/1/2018\",\n",
    "    x_label=\"Time\",\n",
    "    y_label=\"Producitivty %\",\n",
    "    series_names={\n",
    "        \"scenario80_productivity\":\"80 initial open tasks\",\n",
    "        \"scenario100_productivity\":\"100 initial open tasks\",\n",
    "        \"scenario120_productivity\":\"120 initial open tasks\"\n",
    "    }\n",
    ")"
   ]
  },
  {
   "cell_type": "markdown",
   "metadata": {},
   "source": [
    "#### What if I want another kind of graph?\n",
    "\n",
    "The default output format for our plots shows each plot with a shaded area. This can easly be changed using the``kind`` parameter. Currently we also support the `line` and `stacked` setting.\n"
   ]
  },
  {
   "cell_type": "code",
   "execution_count": null,
   "metadata": {},
   "outputs": [],
   "source": [
    "bptk.plot_scenarios(\n",
    "    scenario_managers=[\"smSimpleProjectManagement\"],\n",
    "    scenarios=[\"scenario80\",\"scenario100\",\"scenario120\"],\n",
    "    equations=[\"openTasks\"],\n",
    "    kind=\"line\",\n",
    "    title=\"One Equation for Multiple Scenarios\",\n",
    "     freq=\"D\",\n",
    "    start_date=\"1/1/2018\",\n",
    "    x_label=\"Time\",\n",
    "    y_label=\"Tasks\",\n",
    "    series_names={\n",
    "        \"scenario80_openTasks\":\"80 initial open tasks\",\n",
    "        \"scenario100_openTasks\":\"100 initial open tasks\",\n",
    "        \"scenario120_openTasks\":\"120 initial open tasks\"}\n",
    ")"
   ]
  },
  {
   "cell_type": "markdown",
   "metadata": {},
   "source": [
    "## Agent Based Modelling\n",
    "Along with the SD models, starting from version 0.4.0, you can simulate agent based models. Agent based models use agents or actors, that follow a certain logic, communicate with each other and are triggered at every timestep t.\n",
    "\n",
    "They are a little more complex as they require you to program some logic.\n",
    "[abm/spm/](abm/spm/) contains example code. It is an agent-based implementation of the simple Project Management. We also need to program the agent logic. ``BPTK-Py`` comes with main classes ``ABModel, Agent and Scheduler`` which the concrete implementations need to inherit. \n",
    "The scenarios are also stored in JSON files, similar to the already-known JSON files for SD models. See [scenarios/abm.json](scenarios/abm.json). The most important change is that you need to tell ``BPTK-Py`` which class to load as model.\n",
    "\n",
    "To plot the scenario, you need to inform ``BPTK-Py`` which agents to plot for and which states. In this example, a task has the states open, in progress and closed. Note that the dashboard method cannot modify constants of agent based models as of now:"
   ]
  },
  {
   "cell_type": "code",
   "execution_count": null,
   "metadata": {},
   "outputs": [],
   "source": [
    "bptk.dashboard(\n",
    "    scenario_managers=['smSimpleProjectManagement',\n",
    "                       \"ABMsmSimpleProjectManagement\",\n",
    "                      ],\n",
    "    kind=\"area\",\n",
    "    scenarios=[\"scenarioSPM\",\"scenario100\"],\n",
    "    equations=[\"openTasks\",\"closedTasks\"],\n",
    "    agents=[\"task\"],\n",
    "    agent_states=[\"open\",\"closed\"],\n",
    "    constants=[(\"timerange\"),(\"slider\",\"deadline\",0,1000)]\n",
    ")\n"
   ]
  },
  {
   "cell_type": "markdown",
   "metadata": {},
   "source": [
    "### Widgets for ABM simulation\n",
    "Agent based simulations can take a very long time. Visualizations with widgets can visualize the progress of the simulation by monitoring agent states.\n",
    "\n",
    "As of now, the framework comes with a widget to show states of the agents. In order to use progress widgets, you need to implement the method ``build_widget()`` in your Agent based model implementation. \n",
    "The following is an example that tracks the states of all task agents. You need to map which states to monitor and create a widgetLoader. The widgetLoader loads the specified class and you need to hand over all arguments for the widget:\n",
    "\n",
    "```python\n",
    "def build_widget(self):\n",
    "    widgetLoader = WidgetLoader()\n",
    "    states = {1: Task.STATES[\"IN_PROGRESS\"], 2: Task.STATES[\"CLOSED\"]}\n",
    "    agents = [agent for agent in self.agents if isinstance(agent, Task)]\n",
    "        \n",
    "    widgetLoader.create_widget(\"AgentStatusWidget\", states=states, agents=agents)\n",
    "        \n",
    "    return widgetLoader\n",
    "```"
   ]
  },
  {
   "cell_type": "code",
   "execution_count": null,
   "metadata": {},
   "outputs": [],
   "source": [
    "df =bptk.run_abm_with_widget(scenario_manager=\"ABMsmSimpleProjectManagement\",scenario=\"scenarioSPM\")"
   ]
  },
  {
   "cell_type": "markdown",
   "metadata": {},
   "source": [
    "#### What if I need the underlying data?\n",
    "\n",
    "Sometimes you may not be interested in plotting a graph but would rather use the underlying data directly. This is easy â€“ you can use use the `return_df=True` setting to return a dataframe containing all of the data in the scenario. The dataframe is provided as a [Pandas](http://pandas.pydata.org/) dataframe."
   ]
  },
  {
   "cell_type": "code",
   "execution_count": null,
   "metadata": {},
   "outputs": [],
   "source": [
    "data=bptk.plot_scenarios(\n",
    "    scenario_managers=[\"smSimpleProjectManagement\"],\n",
    "    scenarios=[\"scenario80\"],\n",
    "     freq=\"D\",\n",
    "    start_date=\"1/1/2018\",\n",
    "    equations=[\"openTasks\",\"closedTasks\",\"completionRate\",\"remainingTime\",\"schedulePressure\",\"productivity\"],\n",
    "    return_df=True\n",
    ")"
   ]
  },
  {
   "cell_type": "markdown",
   "metadata": {},
   "source": [
    "The dataframe is a table with a row for each day and a column for each of the scenarios. Using the `pandas.DataFrame.head` function we can show the first five rows of the dataframe:"
   ]
  },
  {
   "cell_type": "code",
   "execution_count": null,
   "metadata": {},
   "outputs": [],
   "source": [
    "data.head()"
   ]
  },
  {
   "cell_type": "markdown",
   "metadata": {},
   "source": [
    "Once you have the dataframe, you can use the full power of `Python` and the `pandas` library to access the data, e.g. the `iloc`indexer to access a particular row."
   ]
  },
  {
   "cell_type": "code",
   "execution_count": null,
   "metadata": {},
   "outputs": [],
   "source": [
    "data.iloc[4]"
   ]
  },
  {
   "cell_type": "markdown",
   "metadata": {},
   "source": [
    "### Creating Interactive Simulation Dashboards\n",
    "\n",
    "Jupyer notebooks aren't just a great environment for interactive writing and plotting, they also allow you to build interactive user interfaces. "
   ]
  },
  {
   "cell_type": "code",
   "execution_count": null,
   "metadata": {
    "scrolled": true
   },
   "outputs": [],
   "source": [
    "bptk.dashboard(\n",
    "    scenario_managers=[\"smInteractive\"],\n",
    "    scenarios=[\"scenario100\"],\n",
    "    kind=\"area\",\n",
    "    equations=[\"openTasks\"],\n",
    "    series_names={\"openTasks\":\"Open Tasks\"},\n",
    "    freq=\"D\",\n",
    "    start_date=\"\",\n",
    "    title=\"Interactive Simulation Dashboard\",\n",
    "    x_label=\"Date\",\n",
    "    y_label=\"â‚¬\",\n",
    "    constants=[(\"slider\",'initialOpenTasks',50.0,100.0),(\"slider\",\"deadline\",0,150),(\"timerange\")]\n",
    "    )"
   ]
  },
  {
   "cell_type": "markdown",
   "metadata": {},
   "source": [
    "This generates an interactive dashboard in the Jupyter Notebook that looks like this:\n",
    "\n",
    "![Interactive Dashboard](images/intro/btpk_tutorial_dashboard.png)"
   ]
  },
  {
   "cell_type": "markdown",
   "metadata": {},
   "source": [
    "### Accessing The Underlying System Dynamics Model\n",
    "\n",
    "The underlying System Dynamics model is automatically converted from the XMILE format into Python code â€“ currently our transpiler only supports conversion of models in XMILE format, but we are planning to create a compiler for models in other formats.\n",
    "\n",
    "We keep both the Stella/XMILE models and the compiled models in the `/MODELS` directory.\n",
    "\n",
    "The actual equations underlying the simulation are stored in a dictonary of Python lambda functions within the class, e.g. here are the equations for closed tasks, open tasks and the completion rate:\n",
    "\n",
    "```\n",
    "\n",
    "'closedTasks': lambda t : 0 if  t  <=  self.starttime  else self.memoize('closedTasks',t-self.dt)\n",
    "            +  self.dt  * ( self.memoize('completionRate',t-self.dt) ),\n",
    "\n",
    "'openTasks': lambda t : self.memoize('initialOpenTasks', t) if  t  <=  self.starttime  else\n",
    "                self.memoize('openTasks',t-self.dt) +  \n",
    "                self.dt  * ( -1 * ( self.memoize('completionRate',t-self.dt) ) ),\n",
    "\n",
    "'staff': lambda t : self.memoize('initialStaff', t) if  t  <=  self.starttime\n",
    "        else self.memoize('staff',t-self.dt)\n",
    "        +  self.dt  * 0, \n",
    "\n",
    "'completionRate': lambda t : max( 0, min( self.memoize('openTasks', t), self.memoize('staff', t) * \n",
    "                self.memoize('productivity', t) / self.memoize('effortPerTask', t) ) ),\n",
    "  \n",
    "```\n",
    "\n",
    "Because of the recursive nature of System Dynamics equations we use memoization to remember previous values â€“ this makes the equations more cumbersome to read (and write should you want to create your own), but it dramatically speeds up calculations.\n",
    "\n",
    "You can easily access (and change) these lambda functions if you want to, they are stored in a dictionary within the model, which itself is associated with the scenario. Assocating the model with the scenario is essential because it ensure that the scenario settings are automatically applied to the model."
   ]
  },
  {
   "cell_type": "code",
   "execution_count": null,
   "metadata": {},
   "outputs": [],
   "source": [
    "bptk.scenario_manager_factory.get_scenario(\"smSimpleProjectManagement\",\"scenario80\").model.equations"
   ]
  },
  {
   "cell_type": "markdown",
   "metadata": {},
   "source": [
    "You can run these equations and access individual values:"
   ]
  },
  {
   "cell_type": "code",
   "execution_count": null,
   "metadata": {},
   "outputs": [],
   "source": [
    "bptk.scenario_manager_factory.get_scenario(\"smSimpleProjectManagement\",\"scenario100\").model.equations[\"closedTasks\"](10)"
   ]
  },
  {
   "cell_type": "markdown",
   "metadata": {},
   "source": [
    "### Accessing Model Information"
   ]
  },
  {
   "cell_type": "markdown",
   "metadata": {},
   "source": [
    "Having the model in a python class is useful for other purposes too â€“ for instance you can access the list of stocks, flows and converters to check which elements are in your model:"
   ]
  },
  {
   "cell_type": "code",
   "execution_count": null,
   "metadata": {},
   "outputs": [],
   "source": [
    "bptk.scenario_manager_factory.get_scenarios()[\"scenario100\"].model.stocks"
   ]
  },
  {
   "cell_type": "code",
   "execution_count": null,
   "metadata": {},
   "outputs": [],
   "source": [
    "bptk.scenario_manager_factory.get_scenarios()[\"scenario100\"].model.constants"
   ]
  },
  {
   "cell_type": "markdown",
   "metadata": {},
   "source": [
    "Of course we can then use the power of Jupyter to pretty print this using HTML:"
   ]
  },
  {
   "cell_type": "code",
   "execution_count": null,
   "metadata": {},
   "outputs": [],
   "source": [
    "from functools import reduce\n",
    "from IPython.display import HTML\n",
    "HTML(\"<ul><li>\"+\n",
    "     reduce(lambda x, y: x+\"</li><li>\"+y, bptk.scenario_manager_factory.get_scenario(\"smSimpleProjectManagement\",\"scenario100\").model.stocks)\n",
    "     +\"</li></ul>\")"
   ]
  },
  {
   "cell_type": "markdown",
   "metadata": {},
   "source": [
    "We can also easily output the settings for the constants in the model (for any of the defined scenarios)"
   ]
  },
  {
   "cell_type": "code",
   "execution_count": null,
   "metadata": {},
   "outputs": [],
   "source": [
    "for constant in bptk.scenario_manager_factory.get_scenario(\"smSimpleProjectManagement\",\"scenario100\").model.constants:\n",
    "    print (constant+\": \"+str(bptk.scenario_manager_factory.get_scenario(\"smSimpleProjectManagement\",\"scenario100\").model.equations[constant](0)))"
   ]
  },
  {
   "cell_type": "code",
   "execution_count": null,
   "metadata": {},
   "outputs": [],
   "source": [
    "for constant in bptk.scenario_manager_factory.get_scenario(\"smSimpleProjectManagement\",\"scenario80\").model.constants:\n",
    "    print (constant+\": \"+str(bptk.scenario_manager_factory.get_scenario(\"smSimpleProjectManagement\",\"scenario80\").model.equations[constant](0)))"
   ]
  },
  {
   "cell_type": "markdown",
   "metadata": {},
   "source": [
    "#### Checking and Comparing Models\n",
    "\n",
    "Simulation models can become very large and they often are often in use over many years. This means that you end up having many versions of a model, and it often become difficult to ensure that model versions are consistent or that changes to a later model don't invalidate results obtained earlier.\n",
    "\n",
    "Thanks to the BPTK framework, models are now computable and we can easily create checks to ensure that models behave as we expect:"
   ]
  },
  {
   "cell_type": "code",
   "execution_count": null,
   "metadata": {},
   "outputs": [],
   "source": [
    "bptk.model_check(data=bptk.plot_scenarios(\n",
    "    scenario_managers=[\"smSimpleProjectManagement\"],\n",
    "    scenarios=[\"scenario100\"],\n",
    "    equations=['openTasks'],\n",
    "    return_df=True\n",
    "),check=(lambda data: data.iloc[-1,-1]>10),message=\"Model not behaving as expected\")            "
   ]
  },
  {
   "cell_type": "markdown",
   "metadata": {},
   "source": [
    "The `bptk.model_check` is very simple - it expects some data and a check function which takes the data as input and returns true or false depending on whether the data passses the check or not.\n",
    "\n",
    "In this example we used the dataframe return from a scenario to provide the data and a Python lambda function to check whether the number of `openTasks` is greater than 10 in the last timestep. It isn't, and hence an error is generated.\n",
    "\n",
    "But in this case the model is actually correct but the check function is wrong - if we correct this the `model_check` function returns with a success message:"
   ]
  },
  {
   "cell_type": "code",
   "execution_count": null,
   "metadata": {},
   "outputs": [],
   "source": [
    "bptk.model_check(data=bptk.plot_scenarios(\n",
    "    scenario_managers=[\"smSimpleProjectManagement\"],\n",
    "    scenarios=[\"scenario100\"],\n",
    "    equations=['openTasks'],\n",
    "    return_df=True\n",
    "),check=(lambda data: data.iloc[-1,-1]<10),message=\"Model not behaving as expected\")            "
   ]
  },
  {
   "cell_type": "markdown",
   "metadata": {},
   "source": [
    "We can also easily compare two different versions of a model to each other - for instance let's assume we have two versions of our project management model, which say contain different settings for the graphical function we use to model the effect of schedule pressure on productivity and also the number of inital open tasks (as defined in the underlying model, not in the scenarios).\n",
    "\n",
    "Let's compare the results between the models:"
   ]
  },
  {
   "cell_type": "code",
   "execution_count": null,
   "metadata": {},
   "outputs": [],
   "source": [
    "bptk.plot_scenarios(scenario_managers=[\"smSimpleProjectManagement\",\"smSimpleProjectManagementV0\"],\n",
    "    scenarios=[\"scenario80\"],\n",
    "    equations=['openTasks'],\n",
    "    title=\"Compare Two Models\",\n",
    "    series_names={\"smSimpleProjectManagement_scenario80_openTasks\":\"Current Model\",\"smSimpleProjectManagementV0_scenario80_openTasks\":\"Model v0\"}\n",
    ")"
   ]
  },
  {
   "cell_type": "markdown",
   "metadata": {},
   "source": [
    "We can also create some code that automatically lists all of the model elements that have changed between the two models:"
   ]
  },
  {
   "cell_type": "code",
   "execution_count": null,
   "metadata": {},
   "outputs": [],
   "source": [
    "for constant in bptk.scenario_manager_factory.get_scenario(\"smSimpleProjectManagement\",\"base\").model.constants:\n",
    "    if constant in bptk.scenario_manager_factory.get_scenario(\"smSimpleProjectManagementV0\",\"base\").model.equations:\n",
    "        if bptk.scenario_manager_factory.get_scenario(\"smSimpleProjectManagement\",\"base\").model.equations[constant](1)!=bptk.scenario_manager_factory.get_scenario(\"smSimpleProjectManagementV0\",\"base\").model.equations[constant](1):\n",
    "            print (constant+\" , Current Model:\"+str(bptk.scenario_manager_factory.get_scenario(\"smSimpleProjectManagement\",\"base\").model.equations[constant](1))+\" , Model v0: \"+str(bptk.scenario_manager_factory.get_scenario(\"smSimpleProjectManagementV0\",\"base\").model.equations[constant](1)))\n",
    "        else:\n",
    "            print(constant+ \" has same value in both models\")\n",
    "    else:\n",
    "        print (constant +\" missing in Model v0\")"
   ]
  },
  {
   "cell_type": "markdown",
   "metadata": {},
   "source": [
    "Note that this last function isn't part of the BPTK framework, but it uses a number of methods provided by the framework â€¦ this shows the real power of making models computable: because you can manipulate models using code, you can easily create your own functions to use your models in any way you want."
   ]
  },
  {
   "cell_type": "markdown",
   "metadata": {},
   "source": [
    "## Conclusion"
   ]
  },
  {
   "cell_type": "markdown",
   "metadata": {},
   "source": [
    "This post detailed our approach to building interactive stories based on simulation models using Jupyter, Python and the BPTK_PY framewor. Here are the important points you should remember:\n",
    "\n",
    "* If you want to use the insights gained from simulation models to have an impact in the real world, just having the model and the insights is often not enough â€“ you need to develop a good story that persuades your stakeholders to make decisions and take action.\n",
    "* Jupyter and Python provide a great environment for rapidly building such interactive stories that rely on data and on simulations. Using the BPTK_PY framework, creating such documents is actually quite easy. You can concentrate on the story and let the framework do the heavy lifting.\n",
    "* Building complex simulations using System Dynamics is best done using visual modeling environments such as Stella. Thanks to the XMILE standard and our BPTK PY framework, we can import System Dynamics models created with Stella straight into Jupyter and run them there.\n",
    "* Once you have finished the interactive story you can publish it to a wide audience by sharing the Jupyter notebook â€“ this is made particularly easy because Jupyter, Python and BPTK_PY are free.\n",
    "\n",
    "To see interactive stories and games written using this approach, take a look at our blog posts on [Prototyping Business Models and Market Strategies](https://www.transentis.com/current-topics/prototyping-business-models-market-strategies/), on [Growth Strategies in Professional Service Firms](https://www.transentis.com/industries/transforming-professional-services/) or the [Beergame](https://www.transentis.com/understanding-the-beer-game/)."
   ]
  }
 ],
 "metadata": {
  "kernelspec": {
   "display_name": "Python 3",
   "language": "python",
   "name": "python3"
  },
  "language_info": {
   "codemirror_mode": {
    "name": "ipython",
    "version": 3
   },
   "file_extension": ".py",
   "mimetype": "text/x-python",
   "name": "python",
   "nbconvert_exporter": "python",
   "pygments_lexer": "ipython3",
   "version": "3.7.0"
  }
 },
 "nbformat": 4,
 "nbformat_minor": 2
}
