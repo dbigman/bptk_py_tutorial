{
 "cells": [
  {
   "cell_type": "markdown",
   "metadata": {},
   "source": [
    "# In Depth Discussion of the Business Prototyping Toolkit for Python\n",
    "\n",
    "The Business Prototyping Toolkit for Python comes with a model simulator and some methods to plot simulation results, a so-called API. Furthermore you may reuse the simulation results as DataFrames.\n",
    "\n",
    "The API for plotting simulation is really simple. It only exposes some methods that generate plots. The simulations run in the background every time you call a plot method. For long and large simulations, please bear with me and bring a few seconds of patience before I plot. ;-) We try to optimize the simulation execution as much as possible but it may still take a while to generate results.\n",
    "\n",
    "All simulation scenarios have to be in the ``scenarios/`` folder. BPTK_Py will scan and load them - including the models - into python. Each API method comes with many parameters for modifying the graph. The standard settings however are in my config. They define the common \"transentis\" style.\n",
    "\n",
    "Usually you only need the ``scenario_names`` and ``equations`` parameters to get a working example. Of course you will probably want to define a title and labels for the x and y axis. Just look at the example method calls given to get a feel for the optional parameters.\n",
    "\n",
    "This document is designed to help you understand all methods of the API quickly.\n",
    "\n",
    "It is based on a simple Project Management model. We describe its equations and background in our [Blog Post](https://www.transentis.com/step-by-step-tutorials/introduction-to-system-dynamics/system-dynamics-simulation/). But you don't really need to understand the model to follow this document.\n",
    "\n",
    "So let's get started now.\n",
    "\n",
    "Before plotting, we have to setup some stuff.\n",
    "\n",
    "Please run the following lines to import the API to your notebook and ignore the warnings (if any). You run a line by pushing ``Shift + Enter``\n",
    "\n",
    "You will also get an overview over the available scenario managers and scenarios.\n"
   ]
  },
  {
   "cell_type": "code",
   "execution_count": 1,
   "metadata": {},
   "outputs": [
    {
     "name": "stdout",
     "output_type": "stream",
     "text": [
      "Available Scenario Managers and Scenarios:\n",
      "\n",
      "\n",
      "*** anotherSimpleProjectManagement ***\n",
      "\t scenario100\n",
      "\t scenario80\n",
      "\t scenario120\n",
      "\n",
      "*** smSimpleProjectManagement ***\n",
      "\t base\n",
      "\t scenario100\n",
      "\t scenario80\n",
      "\t scenario120\n",
      "\n",
      "*** smInteractive ***\n",
      "\t scenario100\n",
      "\n",
      "*** smSimpleProjectManagementV0 ***\n",
      "\t base\n",
      "\t scenario100\n",
      "\t scenario80\n",
      "\t scenario120\n"
     ]
    }
   ],
   "source": [
    "## BPTK Package\n",
    "from BPTK_Py.bptk import bptk \n",
    "\n",
    "bptk = bptk()\n",
    "\n",
    "\n",
    "print(\"Available Scenario Managers and Scenarios:\")\n",
    "print()\n",
    "managers = bptk.scenario_manager_factory.get_scenario_managers(scenario_managers_to_filter=[])\n",
    "\n",
    "for key, manager in managers.items():\n",
    "     print(\"\")\n",
    "     print(\"*** {} ***\".format(key))\n",
    "\n",
    "     for name in manager.get_scenario_names():\n",
    "         print(\"\\t {}\".format(name))\n",
    "\n"
   ]
  },
  {
   "cell_type": "markdown",
   "metadata": {},
   "source": [
    "# Scenarios\n",
    "Scenarios are the heart of each simulation. A scenario defines which simulation model to use, the source model and has a name. \n",
    "It may override model constants and define execution strategies. \n",
    "The latter change constants in different steps of the simulation. See the \"strategy simulation\" section for details.\n",
    "You write scenarios in JSON format. Please store the scenarios in the ``scenarios`` subfolder of your current working directory so ``BPTK_Py`` is able to find it. \n",
    "If you wish to use another folder, feel free to change ``config.configuration[\"scenario_storage\"]`` to a folder of your choice.\n",
    "We group simulation scenarios by \"scenario Managers\". One scenario manager encapsulates one simulation model and has a name. Scenarios run this simulation model and modify constants.\n",
    "One JSON file may contain more than one scenario manager and hence a key is required to distinguish the different scenarios. A simple example may look like this:\n",
    "\n",
    "```\n",
    "{  \n",
    "    \"smSimpleProjectManagement\":{\n",
    "    \"source\":\"simulation_models/sd_simple_project.itmx\",\n",
    "    \"model\":\"simulation_models/sd_simple_project\",\n",
    "    \"base_constants\": {\n",
    "          \"deadline\": 100,\n",
    "          \"effortPerTask\": 1,\n",
    "          \"initialOpenTasks\": 80,\n",
    "          \"initialStaff\": 1\n",
    "    },\n",
    "    \"scenarios\": {\n",
    "      \"base\": {},\n",
    "      \"scenario100\": {\n",
    "        \"constants\": {\n",
    "          \"initialOpenTasks\": 100\n",
    "        }\n",
    "      },\n",
    "      \"scenario80\": {\n",
    "        \"constants\": {\n",
    "        }\n",
    "      },\n",
    "      \"scenario120\": {\n",
    "        \"constants\": {\n",
    "          \"initialOpenTasks\": 120\n",
    "        },\n",
    "        \"strategy\": {\n",
    "          \"20\": {\n",
    "            \"deadline\": 120\n",
    "          }\n",
    "        }\n",
    "      }\n",
    "    }\n",
    " }\n",
    "}\n",
    "```\n",
    "We start with the name of the scenario manager's name which stores all the scenarios. If you use the same name for a scenario manager in another file, this will be detected and the scenario will be added to the scenario manager. \n",
    "The scenario manager stores the model (source file and python file) as well as all scenarios that belong to it. \n",
    "The ``model`` parameter contains the (relative) path to the (python) simulation model. If using a relative path, keep in mind that ``BPTK_Py`` looks for the file from your current working directory, i.e. the path of your script or jupyter notebook. \n",
    "\n",
    "Then the key ``base_constants`` may follow. It defines the initial state for all models, regardless the state in the model source file. Here you can set all constants to a desired state. Each scenario will store the same values for the given constants. For example, in this example we set \"initialOpenTasks\" to 80.\n",
    "The actual scenarios follow in the ``scenarios`` tag.\n",
    "For each scenario, you have to supply a unique name as well. JSON does not support integer keys. The ``constants`` list stores the overrides constants. The idea of this field is that you override certain base constants given before. The scenario \"base\" sets \"initialOpenTasks\" to 100. This value is only valid for this specific scenario. The other values like \"deadline\" will be the same as the base constants, as there is no overrid. \"scenario80\" does not override any constants and hence use all base constants. \n",
    "You may either define numerical values such as ``0.5`` or use strings to define expressions such as ``\"5/10\"``which will be evaluated to ``0.5`` by the framework.\n",
    "\n",
    "\n",
    "You should consider using the ``source`` field in the scenario manager tag. It specifies the (relative) path to the original model file of 3rd party applications. \n",
    "For now, the framework supports automatic conversion of .itmx/.stmx files from Stella Architect. \n",
    "For each source file, a file monitor will run in background to check for changes in the source model. \n",
    "The file monitor will automatically update the python model file whenever a change to the source model is detected! "
   ]
  },
  {
   "cell_type": "markdown",
   "metadata": {},
   "source": [
    "## Example 1: Multiple Equations for one scenario\n",
    "Let's dive right in to the first the example. We may want to simulate different equations -  or variables in stela architect - for a specific simulation scenario. A scenario has a name and defines overrides for the simulation model's constants. Furthermore it supports the definition of strategies, which we will talk about a little later.\n",
    "\n",
    "Let us simulate the equation 'openTasks' and 'closedTasks' for the scenario \"scenario80\". Play around with the parameters for the x/y labels and title.\n",
    "\n",
    "You may either use the ``scenario_managers`` parameter and supply a list of all scenario Managers (by name) you want to plot the simulation results for. Or you use the specific ``scenario_name``. You may of course as well use both if you have duplicate names (one name in multiple scenario managers)."
   ]
  },
  {
   "cell_type": "code",
   "execution_count": 3,
   "metadata": {},
   "outputs": [
    {
     "data": {
      "image/png": "[encoded data removed]",
      "text/plain": [
       "<Figure size 1440x720 with 1 Axes>"
      ]
     },
     "metadata": {},
     "output_type": "display_data"
    }
   ],
   "source": [
    "\n",
    "bptk.plot_scenarios(\n",
    "    scenario_managers=[\"smSimpleProjectManagement\"],\n",
    "    scenarios=[\"scenario80\"],\n",
    "    equations=['openTasks',\"closedTasks\"],\n",
    "    title=\"Multiple Equations for one Scenario\\n\",\n",
    "    x_label=\"Time\",\n",
    "    y_label=\"S0m3 Number\",\n",
    ")\n"
   ]
  },
  {
   "cell_type": "markdown",
   "metadata": {},
   "source": [
    "### Play with start date and frequency\n",
    "In the above example, we did not specify the ``freq`` and ``start_date`` parameters. So the series just plots the values of t for the x axis. Using the mentioned parameters you can generate time series data. Let us set ``freq=\"M\"``and ``start_date=\"1/11/2017\"``.\n",
    "Of course, the graph is the same. But the y-axis changed. Now the plot assumes daily data, starting at Nov, 1, 2017!"
   ]
  },
  {
   "cell_type": "code",
   "execution_count": null,
   "metadata": {},
   "outputs": [],
   "source": [
    "\n",
    "bptk.plot_scenarios(\n",
    "    scenario_managers=[\"smSimpleProjectManagement\"],\n",
    "    scenarios=[\"scenario80\"],\n",
    "    equations=['openTasks',\"closedTasks\"],\n",
    "    title=\"Example Graph\\n\",\n",
    "    x_label=\"Time\",\n",
    "    y_label=\"S0m3 Number\",\n",
    "    start_date=\"1/11/2017\",\n",
    "    freq=\"D\"\n",
    ")"
   ]
  },
  {
   "cell_type": "markdown",
   "metadata": {},
   "source": [
    "### Naming the series\n",
    "The equation names are not the kind of names we want to show the customer. So let use the ``series_names`` parameter to rename them. Supply the equations to rename and their destination names. Use Python's dict notation: ``{ equation_name : rename_to }``. \n",
    "\n",
    "The dictionary serves as a set of replacement rules. To correctly rename the series, you have to understand how the framework sets the names of series to avoid ambiguity in series names. If you use more than one scenario manager for plotting, bptk_py will use the following series naming schema: ``\"scenarioManager\"_\"scenario\"_\"equation\"``. If you want to replace this, use ``series_names={\"scenarioManager_scenario_equation\": \"new name\"}``. You may as well define a rule that replaces the name of each scenario Manager with a whitespace. The number of rules is not limited.\n",
    "\n",
    "Execute the following cell and see how we rename the series:\n"
   ]
  },
  {
   "cell_type": "code",
   "execution_count": null,
   "metadata": {},
   "outputs": [],
   "source": [
    "bptk.plot_scenarios(\n",
    "    scenario_managers=[\"smSimpleProjectManagement\",\"anotherSimpleProjectManagement\"],\n",
    "    scenarios=[\"scenario80\"],\n",
    "    equations=['openTasks',\"closedTasks\"],\n",
    "    title=\"Multiple Equations for one Scenario\\n\",\n",
    "    x_label=\"Time\",\n",
    "    y_label=\"S0m3 Number\",\n",
    "    start_date=\"1/11/2017\",\n",
    "    freq=\"D\",\n",
    "    series_names={\"anotherSimpleProjectManagement_scenario80_openTasks\" : \"Open Tasks another manager\" , \"anotherSimpleProjectManagement_scenario80_closedTasks\" : \"Closed Tasks anoter Manager\",}\n",
    ")"
   ]
  },
  {
   "cell_type": "markdown",
   "metadata": {},
   "source": [
    "## Example 2: Plot one equation for multiple scenarios\n",
    "Now let us change the perspective. In the above example we assumed one scenario for which we simulate multiple equations. Now we simulate **one equation for multiple scenarios**.\n",
    "The parameters stay the same and you can play around with them just as you could above. As you may have guessed already, You may even use multiple scenarios **and** equations. The framework will make sure that the naming is still fine."
   ]
  },
  {
   "cell_type": "code",
   "execution_count": null,
   "metadata": {},
   "outputs": [],
   "source": [
    "bptk.plot_scenarios(\n",
    "    scenario_managers=[\"smSimpleProjectManagement\"],\n",
    "    scenarios=[\"scenario80\",\"scenario120\"],\n",
    "    equations=[\"openTasks\"],\n",
    "    stacked=False, \n",
    "    freq=\"M\", \n",
    "    start_date=\"1/11/2017\",\n",
    "    title=\"One Equation for multiple Scenarios\",\n",
    "    x_label=\"Time\",\n",
    "    y_label=\"Dollars\",\n",
    "\n",
    ")"
   ]
  },
  {
   "cell_type": "markdown",
   "metadata": {},
   "source": [
    "## What if I want another kind of graph?\n",
    "Well, there is the ``kind`` parameter! Let us see what happens if we set ``kind=\"line\"``!\n"
   ]
  },
  {
   "cell_type": "code",
   "execution_count": null,
   "metadata": {},
   "outputs": [],
   "source": [
    "bptk.plot_scenarios(\n",
    "    scenario_managers=[\"smSimpleProjectManagement\"],\n",
    "    scenarios=[\"scenario100\",\"scenario80\"],\n",
    "    equations=[\"openTasks\"],\n",
    "    stacked=False, \n",
    "    freq=\"M\", \n",
    "    start_date=\"1/11/2017\",\n",
    "    title=\"One Equation for multiple Scenarios\",\n",
    "    x_label=\"Time\",\n",
    "    y_label=\"Dollars\",\n",
    "    kind=\"line\"\n",
    ")"
   ]
  },
  {
   "cell_type": "markdown",
   "metadata": {},
   "source": [
    "## Interactive Plotting\n",
    "An important part of modelling is to modify values on-the-fly, interactively with the customer. The API call ``bptk.dashboard`` has this functionality. It comes with a field \"constants\" that contains a list of widget definitions. Each widget is defined using a tuple.\n",
    "The structure is:  ``(\"widget_type\",\"name.of.constant\",start_value,maximum_value)``. This allows you to see the results of the simulations instantly without having to re-run the simulation manually. See a working example in the following plot.\n",
    "\n",
    "Currently, we support two types of widgets to control the process:\n",
    "* **sliders**: Sliders allow you to select a value in an interval. Use \"slider\" as ``widget_type``. A slider requires ``start_value and maximum_value`` as described above. Example: ``(\"slider\",'initialOpenTasks',100.0,1000.0)``\n",
    "* **checkbox**: If you want a checkbox, use \"checkbox\" as ``widget_type``. You do not have to supply ``start_value / maximum_value``. Example: ``(\"checkbox\",\"initialStaff\")``\n",
    "* **timerange**: This will give you a slider in which you can select time intervals within the graph to \"zoom in/out\" of certain parts of the graph. It gives you the power to further look into certain simulation periods. It is enough to just add the keyword \"timerange\" as ``widget_type``.\n",
    "\n",
    "For interactive plotting to work, you need to install an extension to jupyter lab. If you followed the above guide for initial setup, this should do in the terminal:\n",
    "```\n",
    "source venv/bin/activate\n",
    "jupyter labextension install @jupyter-widgets/jupyterlab-manager\n",
    "```\n",
    "\n",
    "### Model modifications by dashboard widgets\n",
    "\n",
    "It is important to mention that everytime you move a slider/checkbox, the underlying model equations are modified. This means, the results of the scenario will also deviate in other plots of the same scenario. You may reuse the modifications to the model in further plots. If this is not what you want,\n",
    "a quick workaround is to initiliaze another instance of BPTK_Py and run the ``dashboard`` function independently from the other instance(s).\n",
    "\n",
    "#### Attention Mac OS X user\n",
    "There is a bug in the underlying NPM framework that requires you to use node version 8 to successfully download the extension. If you are using homebrew, issue these commands:\n",
    "```\n",
    "brew install node@8\n",
    "\n",
    "#before calling the code above prepend node@8 to the path:\n",
    "\n",
    "source venv/bin/activate\n",
    "export PATH='/usr/local/opt/node@8/bin:$PATH'\n",
    "jupyter labextension install @jupyter-widgets/jupyterlab-manager\n",
    "```"
   ]
  },
  {
   "cell_type": "code",
   "execution_count": null,
   "metadata": {},
   "outputs": [],
   "source": [
    "\n",
    "bptk.dashboard(scenario_managers=[\"smInteractive\"],\n",
    "                                scenarios=[\"scenario100\"],\n",
    "                                kind=\"area\",\n",
    "                                equations=['openTasks',\"closedTasks\"],\n",
    "                                stacked=False,\n",
    "                                strategy=False,\n",
    "                                freq=\"D\",\n",
    "                                start_date=\"1/11/2017\",\n",
    "                                title=\"Interactive Plotting\",\n",
    "                                x_label=\"Date\",\n",
    "                                y_label=\"€\",\n",
    "                                constants=[(\"slider\",'deadline',0.0,1000.0),(\"slider\",\"effortPerTask\",0.1,1.0),(\"timerange\")]\n",
    "                                )\n"
   ]
  },
  {
   "cell_type": "code",
   "execution_count": null,
   "metadata": {},
   "outputs": [],
   "source": [
    "bptk.reset_all_scenarios()"
   ]
  },
  {
   "cell_type": "markdown",
   "metadata": {},
   "source": [
    "## Strategies\n",
    "\n",
    "The simulator is also able to simulate various strategies. A strategy defines which constants change at which point in time of the simulation. For defining a strategy, use the ``strategy`` key in your scenario definition and give (key,value) sets for the constants you'd like to change. Note that the ``constants`` field in the strategy will also be parsed at ``t=0`` for initial modifications of the strategies.\n",
    "```\n",
    "  \"strategy\": {\n",
    "    \"20\": {\n",
    "      \"deadline\" : 110\n",
    "    }\n",
    "  }\n",
    "```\n",
    "This strategy reduces the deadline for the project to 110 at the 20th day. The full scenario for this strategy is available in [scenarios/intro.json)](scenarios/make_your_startup_grow_with_strategy.json).\n",
    "To apply a strategy for a scenario, use the parameter ``strategy=True``. You saw this parameter already in the previous example. In interactive plotting, we also just modify strategies and run the configuration during runtime (more details below). However, if you defined a strategy in the JSON file, this overrides the sliders in interactive plotting! The following plot executes the model with the strategy and shows how the marketing budget follows the configuration the strategy.\n",
    "\n",
    "**Note:** If you set the ``strategy=True`` but there is not strategy defined in the scenario, the simulator will just issue a Warning in the logfile and execute the simulation(s) without a strategy. \n",
    "\n",
    "The following example shows what happens when using the strategy as compared to the scenario without strategy:"
   ]
  },
  {
   "cell_type": "code",
   "execution_count": null,
   "metadata": {},
   "outputs": [],
   "source": [
    "bptk.plot_scenarios(\n",
    "    scenario_managers=[\"smSimpleProjectManagement\"],\n",
    "    scenarios=[\"scenario120\"], \n",
    "    equations=[\"deadline\"],\n",
    "    title=\"Deadline changes\\n\",\n",
    "    x_label=\"Time\",\n",
    "    y_label=\"Marketing Budget (USD)\",\n",
    "    strategy=True, kind=\"line\"\n",
    ")\n"
   ]
  },
  {
   "cell_type": "markdown",
   "metadata": {},
   "source": [
    "## Advanced: Extended Strategies / Manipulation during runtime\n",
    "Now it gets really interesting and rather complex. The goal is to replace certain equations of the model with custom lambda functions during runtime. This is for advanced use only and currently considered unstable.\n",
    "\n",
    "First we need to obtain the scenarios and their corresponding simulation models and replace the given equations with the new lambda. \n",
    "An extended strategy is just another dictionary. In general, it looks like this:\n",
    "```\n",
    "scenarios = bptk.scenario_manager_factory.get_scenarios(scenario_managers=[\"smSimpleProjectManagement\"])\n",
    "\n",
    "\n",
    "extended_strategy= {\n",
    "    \"scenario80\" : {\n",
    "        \"10\" : { \n",
    "            \"initialOpenTasks\" : lambda t :0 if t <= 1 else 42 + scenarios[\"scenario80\"].model.memoize(\"initialOpenTasks\",t-1) ,\n",
    "        }\n",
    "    }    \n",
    "}\n",
    "```\n",
    "You see that this concept is rather complex and requires understanding of Python. First we have to load all available scenarios. The dictionary contains *pointers* to the specific scenario objects that we loaded from the scenario files. They are stored in the ``ScenarioManager`` object instance of the ``bptk`` object. The lambda functions now have to use these pointers to receive the pointers to the ``model`` object (and therefore the equations) of the simulation model. \n",
    "We will overwrite the specific equations with the given lambda function(s) in the previously-described strategy dictionary of the scenario. It is possible to store lambda functions just like this as strings in JSON **but** the complexity is even higher when it comes to adding it to the model during run-time. As the bptk object uses the same set of scenarios, it will use the same object pointers when we finally issue ``bptk.plot_scenarios(... ,strategy=True)``\n",
    "\n",
    "We begin with defining the new, extended strategy. It plays a around with the initial open Tasks. It will return 0 if at starttime of the model. Otherwise, it returns the value of t-dt multiplied by 1,000. See also how we get the dt and start time of the model by accessing the scenarios.\n"
   ]
  },
  {
   "cell_type": "code",
   "execution_count": null,
   "metadata": {},
   "outputs": [],
   "source": [
    "from BPTK_Py.bptk import bptk\n",
    "bptk=bptk()\n",
    "scenarios = bptk.scenario_manager_factory.get_scenarios(scenario_managers=[\"smSimpleProjectManagement\"])\n",
    "\n",
    "dt = scenarios[\"scenario80\"].model.dt\n",
    "\n",
    "\n",
    "extended_strategy= {\n",
    "    \"scenario80\" : {\n",
    "        \"10\" : { \n",
    "            \"initialOpenTasks\" : lambda t :0 if t <= 1 else 42 + scenarios[\"scenario80\"].model.memoize(\"initialOpenTasks\",t-1) ,\n",
    "            \"deadline\" : lambda t : 80\n",
    "        }\n",
    "    }    \n",
    "}\n",
    "\n",
    "bptk.modify_strategy(scenarios=scenarios,extended_strategy=extended_strategy)\n",
    "\n"
   ]
  },
  {
   "cell_type": "markdown",
   "metadata": {},
   "source": [
    "And now we run the method ``bptk.modify_strategy(scenarios,extended_strategy)``. It receives the pointers to the scenarios object and the modifications to the existing strategy. The method will just take the dictionary and fill up the strategy field of the scenario(s) with the lambda function objects.\n",
    "\n",
    "Please keep in mind that ``bptk`` stores the old lambda function. It runs the simulation until ``t-1``, inserts the new function and continues until the next change. If you want to re-run the scenario with another modified strategy, just flush the ``ScenarioManager``'s ``scenario`` object:\n",
    "```\n",
    "bptk.scenario_manager_factory.reset_scenario(scenario_name=\"scenario80\",scenario_manager=\"smSimpleProjectManagement\")\n",
    "```\n",
    "This will cause the scenario manager to reload the scenario's simulation model from the source file.\n",
    "Finally, you may use the plotting methods with the ``strategy=True`` parameter for simulating and plotting the modified scenarios. "
   ]
  },
  {
   "cell_type": "code",
   "execution_count": null,
   "metadata": {},
   "outputs": [],
   "source": [
    "## Plot the graph with the extended stratefy\n",
    "bptk.plot_scenarios(\n",
    "    scenario_managers=[\"smSimpleProjectManagement\"],\n",
    "    scenarios=[\"scenario80\"],\n",
    "    kind=\"line\",\n",
    "    equations=[\"openTasks\"],\n",
    "    stacked=False, \n",
    "    strategy=True,\n",
    "    freq=\"D\", \n",
    "    start_date=\"1/11/2017\",\n",
    "    title=\"Modified Lambda method as a \\n Line Graph\",\n",
    "    x_label=\"Time\",\n",
    "    y_label=\"Number\"\n",
    ")"
   ]
  },
  {
   "cell_type": "markdown",
   "metadata": {},
   "source": [
    "# Create Scenarios during Runtime\n",
    "It is possible to add scenarios during runtime. For convenience, here is some example code you may use as a template to generate your own scenarios during runtime. If you define multiple scenarios for the same ``scenario_manager``, this is no problem. \n",
    "\n",
    "First define the details for the scenario manager and then set up the name of the scenario, the strategy and the constants. The strategy may as well be one of the complex ones as described above. But be careful to define everything correctly."
   ]
  },
  {
   "cell_type": "code",
   "execution_count": null,
   "metadata": {},
   "outputs": [],
   "source": [
    "from BPTK_Py.scenariomanager.scenario import simulationScenario\n",
    "from BPTK_Py.scenariomanager.scenario_manager import scenarioManager\n",
    "from BPTK_Py.bptk import bptk\n",
    "bptk = bptk()\n",
    "scenario_manager = {\n",
    "    \"name\" : \"ScenarioManager_temp\",\n",
    "    \"model\" : \"simulation_models/sd_simple_project\",\n",
    "    \"source\" : \"simulation_models/sd_simple_project.itmx\"\n",
    "}\n",
    "\n",
    "\n",
    "name = \"scenario_160\"\n",
    "strategy = {\n",
    "            \"20\": {\n",
    "                \"deadline\" : 2000\n",
    "            } \n",
    "}\n",
    "constants = {\n",
    "            \"deadline\" : 160,\n",
    "            \"effortPerTask\" : 0.1\n",
    "        }\n",
    "\n",
    "\n",
    "dictionary ={ scenario_manager[\"name\"]:  \n",
    "             {\n",
    "                \"model\": scenario_manager[\"model\"],\n",
    "                \"source\": scenario_manager[\"source\"],\n",
    "                 name:{\n",
    "                     \"constants\" : constants, \n",
    "                     \"strategy\" : strategy\n",
    "                 } \n",
    "             } \n",
    "            }\n",
    "\n",
    "\n",
    "bptk.add_scenario(dictionary=dictionary)\n",
    "\n"
   ]
  },
  {
   "cell_type": "code",
   "execution_count": null,
   "metadata": {},
   "outputs": [],
   "source": [
    "bptk.plot_scenarios(\n",
    "    scenario_managers=[\"ScenarioManager_temp\"],\n",
    "    scenarios=[\"scenario_160\"],\n",
    "    kind=\"line\",\n",
    "    equations=[\"productivity\"],\n",
    "    stacked=False, \n",
    "    strategy=True,\n",
    "    freq=\"D\", \n",
    "    start_date=\"1/11/2017\",\n",
    "    title=\"Added scenario during runtime\",\n",
    "    x_label=\"Time\",\n",
    "    y_label=\"Number\",\n",
    ")"
   ]
  },
  {
   "cell_type": "markdown",
   "metadata": {},
   "source": [
    "## Model Checking\n",
    "To verify the behavior of the simulator and of the simulation model, it is important to check certain assertions. ``bptk_py`` comes with a simple model checker to verify ``lambda`` functions, small functions stored in a variable.\n",
    "The function is supposed to only return True or False and receives a data parameter. For example ``lambda data : sum(data)/len(data) < 0`` tests if the average of the data is below 0. We can get the raw output data instead of the plot if we use the parameter ``return_df=True``. This returns a dataFrame object. The following example generates this dataframe and uses the model checker to test if the ``productivity`` series' mean is below 0. Otherwise it will return the specified message."
   ]
  },
  {
   "cell_type": "code",
   "execution_count": null,
   "metadata": {},
   "outputs": [],
   "source": [
    "df =bptk.plot_scenarios(\n",
    "    scenario_managers=[\"smSimpleProjectManagement\"],\n",
    "    scenarios=[\"scenario120\"],\n",
    "    kind=\"line\",\n",
    "    equations=[\"productivity\"],\n",
    "    stacked=False, \n",
    "    strategy=True,\n",
    "    freq=\"D\", \n",
    "    start_date=\"1/11/2017\",\n",
    "    title=\"Added scenario during runtime\",\n",
    "    x_label=\"Time\",\n",
    "    y_label=\"Number\",\n",
    "    return_df=True\n",
    "    )\n",
    "\n",
    "check_function = lambda data : sum(data)/len(data) < 0\n",
    "\n",
    "bptk.model_check(df[\"productivity\"],check_function,message=\"Productivity is not <0\")"
   ]
  },
  {
   "cell_type": "markdown",
   "metadata": {},
   "source": [
    "## Resetting the simulation\n",
    "After a while of simulating, modifying strategies and constants and generating beautiful plots, you may realize that you want to go back and reset the simulation. For this purpose, you have three methods available:\n",
    "* ``reset_scenario(scenario_manager, scenario)``: This deletes a specific scenario from memory and reloads it from file. Requires the scenario manager's name and the scenario name.\n",
    "* ``reset_all_scenarios()``: Reset all scenarios and re-read from file\n",
    "* ``reset_simulation_model(scenario_manager, scenario=\"\")``: For runtime optimizations, the simulator will cache the simulation results. In some rare cases, this cache may not be flushed upon scenario modification. Hence, this method resets the simulation model's cache.\n",
    "\n",
    "See the example usages below:\n"
   ]
  },
  {
   "cell_type": "code",
   "execution_count": null,
   "metadata": {},
   "outputs": [],
   "source": [
    "bptk.reset_scenario(scenario_manager=\"smSimpleProjectManagement\",scenario=\"scenario80\")\n",
    "\n",
    "bptk.reset_all_scenarios()\n",
    "\n",
    "bptk.reset_simulation_model(\"smSimpleProjectManagement\",\"scenario80\")\n"
   ]
  },
  {
   "cell_type": "code",
   "execution_count": null,
   "metadata": {},
   "outputs": [],
   "source": []
  }
 ],
 "metadata": {
  "kernelspec": {
   "display_name": "Python 3",
   "language": "python",
   "name": "python3"
  },
  "language_info": {
   "codemirror_mode": {
    "name": "ipython",
    "version": 3
   },
   "file_extension": ".py",
   "mimetype": "text/x-python",
   "name": "python",
   "nbconvert_exporter": "python",
   "pygments_lexer": "ipython3",
   "version": "3.7.0"
  }
 },
 "nbformat": 4,
 "nbformat_minor": 2
}
