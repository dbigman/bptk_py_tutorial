{
 "cells": [
  {
   "cell_type": "markdown",
   "metadata": {},
   "source": [
    "# Model Check\n",
    "\n",
    "In this document we compare the results of the transpiled model with the results generated in Stella."
   ]
  },
  {
   "cell_type": "code",
   "execution_count": 1,
   "metadata": {},
   "outputs": [],
   "source": [
    "## BPTK Package\n",
    "from BPTK_Py.bptk import bptk \n",
    "\n",
    "bptk = bptk()"
   ]
  },
  {
   "cell_type": "code",
   "execution_count": 2,
   "metadata": {},
   "outputs": [
    {
     "data": {
      "text/plain": [
       "{'smSimpleProjectManagementDslClass': <BPTK_Py.scenariomanager.scenario_manager_sd.ScenarioManagerSD at 0x11b529dd8>,\n",
       " 'ABMsmSimpleProjectManagement': <BPTK_Py.scenariomanager.scenario_manager_abm.ScenarioManagerABM at 0x11c700f28>,\n",
       " 'anotherSimpleProjectManagement': <BPTK_Py.scenariomanager.scenario_manager_sd.ScenarioManagerSD at 0x11e2776a0>,\n",
       " 'smSimpleProjectManagement': <BPTK_Py.scenariomanager.scenario_manager_sd.ScenarioManagerSD at 0x11e2fa9b0>,\n",
       " 'smInteractive': <BPTK_Py.scenariomanager.scenario_manager_sd.ScenarioManagerSD at 0x11e318cf8>,\n",
       " 'smSimpleProjectManagementV0': <BPTK_Py.scenariomanager.scenario_manager_sd.ScenarioManagerSD at 0x11e320390>,\n",
       " 'ABMsmBass': <BPTK_Py.scenariomanager.scenario_manager_abm.ScenarioManagerABM at 0x11e3450f0>}"
      ]
     },
     "execution_count": 2,
     "metadata": {},
     "output_type": "execute_result"
    }
   ],
   "source": [
    "bptk.reset_all_scenarios()"
   ]
  },
  {
   "cell_type": "code",
   "execution_count": 3,
   "metadata": {},
   "outputs": [],
   "source": [
    "data=bptk.plot_scenarios(\n",
    "    scenario_managers=[\"smSimpleProjectManagement\"],\n",
    "    scenarios=[\"scenario100\"],\n",
    "     freq=\"D\",\n",
    "    start_date=\"1/1/2018\",\n",
    "    equations=[\"openTasks\",\"productivity\",\"schedulePressure\",\"remainingTime\",\"currentDate\"],\n",
    "    return_df=True\n",
    ")"
   ]
  },
  {
   "cell_type": "code",
   "execution_count": 4,
   "metadata": {},
   "outputs": [
    {
     "data": {
      "text/html": [
       "<div>\n",
       "<style scoped>\n",
       "    .dataframe tbody tr th:only-of-type {\n",
       "        vertical-align: middle;\n",
       "    }\n",
       "\n",
       "    .dataframe tbody tr th {\n",
       "        vertical-align: top;\n",
       "    }\n",
       "\n",
       "    .dataframe thead th {\n",
       "        text-align: right;\n",
       "    }\n",
       "</style>\n",
       "<table border=\"1\" class=\"dataframe\">\n",
       "  <thead>\n",
       "    <tr style=\"text-align: right;\">\n",
       "      <th></th>\n",
       "      <th>openTasks</th>\n",
       "      <th>productivity</th>\n",
       "      <th>schedulePressure</th>\n",
       "      <th>remainingTime</th>\n",
       "      <th>currentDate</th>\n",
       "    </tr>\n",
       "  </thead>\n",
       "  <tbody>\n",
       "    <tr>\n",
       "      <th>2018-01-01</th>\n",
       "      <td>100.0</td>\n",
       "      <td>1.0</td>\n",
       "      <td>1.0</td>\n",
       "      <td>100</td>\n",
       "      <td>0</td>\n",
       "    </tr>\n",
       "    <tr>\n",
       "      <th>2018-01-02</th>\n",
       "      <td>99.0</td>\n",
       "      <td>1.0</td>\n",
       "      <td>1.0</td>\n",
       "      <td>99</td>\n",
       "      <td>1</td>\n",
       "    </tr>\n",
       "    <tr>\n",
       "      <th>2018-01-03</th>\n",
       "      <td>98.0</td>\n",
       "      <td>1.0</td>\n",
       "      <td>1.0</td>\n",
       "      <td>98</td>\n",
       "      <td>2</td>\n",
       "    </tr>\n",
       "    <tr>\n",
       "      <th>2018-01-04</th>\n",
       "      <td>97.0</td>\n",
       "      <td>1.0</td>\n",
       "      <td>1.0</td>\n",
       "      <td>97</td>\n",
       "      <td>3</td>\n",
       "    </tr>\n",
       "    <tr>\n",
       "      <th>2018-01-05</th>\n",
       "      <td>96.0</td>\n",
       "      <td>1.0</td>\n",
       "      <td>1.0</td>\n",
       "      <td>96</td>\n",
       "      <td>4</td>\n",
       "    </tr>\n",
       "  </tbody>\n",
       "</table>\n",
       "</div>"
      ],
      "text/plain": [
       "            openTasks  productivity  schedulePressure  remainingTime  \\\n",
       "2018-01-01      100.0           1.0               1.0            100   \n",
       "2018-01-02       99.0           1.0               1.0             99   \n",
       "2018-01-03       98.0           1.0               1.0             98   \n",
       "2018-01-04       97.0           1.0               1.0             97   \n",
       "2018-01-05       96.0           1.0               1.0             96   \n",
       "\n",
       "            currentDate  \n",
       "2018-01-01            0  \n",
       "2018-01-02            1  \n",
       "2018-01-03            2  \n",
       "2018-01-04            3  \n",
       "2018-01-05            4  "
      ]
     },
     "execution_count": 4,
     "metadata": {},
     "output_type": "execute_result"
    }
   ],
   "source": [
    "data.head()"
   ]
  },
  {
   "cell_type": "code",
   "execution_count": null,
   "metadata": {},
   "outputs": [],
   "source": []
  }
 ],
 "metadata": {
  "kernelspec": {
   "display_name": "Python 3",
   "language": "python",
   "name": "python3"
  },
  "language_info": {
   "codemirror_mode": {
    "name": "ipython",
    "version": 3
   },
   "file_extension": ".py",
   "mimetype": "text/x-python",
   "name": "python",
   "nbconvert_exporter": "python",
   "pygments_lexer": "ipython3",
   "version": "3.7.0"
  }
 },
 "nbformat": 4,
 "nbformat_minor": 2
}
